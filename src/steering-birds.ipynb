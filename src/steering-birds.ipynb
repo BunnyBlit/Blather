{
 "cells": [
  {
   "cell_type": "markdown",
   "metadata": {},
   "source": [
    "Title: Controlling How Flappy Bird Flaps\n",
    "Date: 2024-01-18   \n",
    "Category: Tech\n",
    "Tags: Simulations   \n",
    "Slug: steering-flappy-bird   \n",
    "Summary: We [make a bird flap]({filename}/flapping-birds.md), but can we steer that bird towards life?   \n",
    "Status: draft "
   ]
  },
  {
   "cell_type": "markdown",
   "metadata": {},
   "source": [
    "Previously, I built and ran Flappy Bird as a [hybrid dynamic system](https://dl.acm.org/doi/pdf/10.1145/3337722.3337757). However, I haven't done a very good job of controlling when Flappy should flap. I wanna do better.\n",
    "\n",
    "As most of the articles in this series, I'm leaning extremely heavily on Yegeta Zeleke et al's paper about doing this exact thing, along with a [reference Matlab implementation](https://github.com/HybridSystemsLab/FlappyBirdReachability)."
   ]
  },
  {
   "cell_type": "markdown",
   "metadata": {},
   "source": [
    "## The current state of things\n",
    "Currently, when Flappy should flap is hardcoded in a function, which isn't the most extendable method on the planet."
   ]
  },
  {
   "cell_type": "code",
   "execution_count": 1,
   "metadata": {
    "tags": [
     "ignore_cell"
    ]
   },
   "outputs": [],
   "source": [
    "# importing a bunch of useful stuff that I'll want later from past notebooks\n",
    "# TODO: find some way of exporting things like this on a notebook by notebook basis\n",
    "from collections import namedtuple\n",
    "from util.print import blog_print\n",
    "from dataclasses import dataclass\n",
    "from typing import Tuple, List, Any\n",
    "from scipy import integrate\n",
    "\n",
    "from tmp.modeling_flappy_bird.state import State\n",
    "from tmp.modeling_flappy_bird.state_derivative import StateDerivative\n",
    "from tmp.modeling_flappy_bird.flappy_hybrid_sim import FlappyHybridSim\n",
    "@dataclass\n",
    "class BoundingBox():\n",
    "    \"\"\" Its a rectangle! Represented by the top left point, a width and a height\n",
    "    \"\"\"\n",
    "    top_left: Tuple[float, float]\n",
    "    width: float\n",
    "    height: float\n",
    "\n",
    "@dataclass\n",
    "class FlappyLevel():\n",
    "    \"\"\" It's a flappy bird level! We get a ceiling (going too high means death),\n",
    "        a floor (going too low means death), and a list of obstacles (touching means death)\n",
    "    \"\"\"\n",
    "    floor:float\n",
    "    ceiling:float\n",
    "    obstacles: List[BoundingBox]\n",
    "\n",
    "@dataclass\n",
    "class SystemParameters():\n",
    "    \"\"\" Setting up some stopping points: what our time interval to solve over should be, and the maximum\n",
    "        number of jumps we want to have before we call it quits.\n",
    "        Should probably just be an attribute of the hybrid system up there\n",
    "    \"\"\"\n",
    "    start_time: float\n",
    "    end_time: float\n",
    "    max_jumps: int"
   ]
  },
  {
   "cell_type": "code",
   "execution_count": 2,
   "metadata": {},
   "outputs": [],
   "source": [
    "def _jump_check(self, time:float, state:State) -> int:\n",
    "    #... snipping out a collision check...\n",
    "\n",
    "    # look at this horrifyingly hardcoded logic: start pressing the jump button\n",
    "    # between 0.5 and 0.6, and then stop pressing it at and after 0.6. Oof.\n",
    "    if time >= 0.5 and \\\n",
    "        time < 0.6 and \\\n",
    "        state[3] != 1:\n",
    "        return 0\n",
    "    elif time >= 0.6 and \\\n",
    "        state[3] != 0:\n",
    "        return 0\n",
    "    else:\n",
    "        return 1"
   ]
  },
  {
   "cell_type": "markdown",
   "metadata": {},
   "source": [
    "That's not great! It shouldn't come as a huge surprise that this isn't very flexible, and as soon as we got some real-ish levels together for Flappy to flap through, Flappy died nearly instantly.\n",
    "\n",
    "![A much longer and more drawn out level of flappy bird, where flappy eats shit immediately]({static}/images/flapping_birds_single_flap_gen_level.svg)\n",
    "\n",
    "Tough break. There must be something we can do that's better than this."
   ]
  },
  {
   "cell_type": "markdown",
   "metadata": {},
   "source": [
    "## Input as a Signal\n",
    "\n",
    "What I really want is how input changes through time. We can think about input as a signal-- it's at 0 when a button is up, and 1 when a button is pressed. Our system can sample this input signal: every so often, we check it. If the signal is different than when we last checked it, then we know a button press has happened and we have to jump.\n",
    "\n",
    "This adds a new parameter to `State`: a running \"counter\" for how close we are to the next check."
   ]
  },
  {
   "cell_type": "code",
   "execution_count": 3,
   "metadata": {},
   "outputs": [],
   "source": [
    "# State gets a new fifth term that represents time since the last input check\n",
    "State = namedtuple(\n",
    "    'State',\n",
    "    [\n",
    "        'x_pos', \n",
    "        'y_pos', \n",
    "        'y_vel', \n",
    "        'pressed', \n",
    "        'input_check' # ✨ New! ✨\n",
    "    ]\n",
    ")\n",
    "# and it's derivative also gets a new term in the same place, for how that \"counter\"\n",
    "# changes over time-- it just simple 1:1 change with time, as time passes, our \"counter\"\n",
    "# increments\n",
    "StateDerivative = namedtuple(\n",
    "    'StateDerivative',\n",
    "    [\n",
    "        'delta_x_pos',\n",
    "        'delta_y_pos',\n",
    "        'delta_y_vel',\n",
    "        'delta_pressed',\n",
    "        'delta_input_check' # ✨ New! ✨\n",
    "    ]\n",
    ")"
   ]
  },
  {
   "cell_type": "markdown",
   "metadata": {},
   "source": [
    "Why not just check the input signal at every simulation step? I'll get there, but minor spoilers: eventually we'll want to look at all possible input sequences to control Flappy and search for special ones. This is a very big space and a tricky needle to find. Sampling at a rate slower than our simulation time step is a way to help reduce this space.\n",
    "\n",
    "It does mean that we're not accounting for frame-perfect inputs from speed runners, which is a bummer. We could set `input_check_frequency` to 0, if we really wanted.\n",
    "\n",
    "But, we've unfortunately updated some core data structures to make this whole thing work-- we're gonna have to also update our four hybrid dynamic system functions: `flow`, `flow_check`, `jump` and `jump_check`. Everyone loves a refactor!"
   ]
  },
  {
   "cell_type": "code",
   "execution_count": 5,
   "metadata": {},
   "outputs": [],
   "source": [
    "# ✨ New! ✨-- we return a tuple of five elements now\n",
    "def _flow(self, time:float, state:State) -> Tuple[float, float, float, int, float]:\n",
    "    if state[3] == 0:\n",
    "        return StateDerivative(\n",
    "            delta_x_pos=self.pressed_velocity,\n",
    "            delta_y_pos=state[2],\n",
    "            delta_y_vel=self.falling_acceleration,\n",
    "            delta_pressed=0,\n",
    "            delta_input_check=1 # ✨ New! ✨-- this should just change along with time, nothing special\n",
    "        )\n",
    "    elif state[3] == 1: #pressed\n",
    "        return StateDerivative(\n",
    "            delta_x_pos=self.pressed_velocity, \n",
    "            delta_y_pos=self.pressed_velocity,\n",
    "            delta_y_vel=0,\n",
    "            delta_pressed=0,\n",
    "            delta_input_check=1 # ✨ New! ✨\n",
    "        )\n",
    "    else:\n",
    "        raise RuntimeError(f\"Invalid state! {state}, pressed != 0 or 1\")\n",
    "\n",
    "# ✨ New! ✨ hey this does something now! \n",
    "def _flow_check(self, time:float, state:State) -> int:\n",
    "    # if we're past time for checking the input signal, we should stop flowing\n",
    "    # we need to test to see if we need to jump!\n",
    "    if state[4] >= self.input_check_frequency:\n",
    "        return 1\n",
    "    else:\n",
    "        return 0\n",
    "\n",
    "# ✨ New! ✨ returning a tuple of five elements now\n",
    "def _jump(self, time:float, state:State) -> Tuple[float, float, float, int, float]:\n",
    "    \n",
    "    # my check functions work slightly differently now, so \n",
    "    # I need to check for collisions here\n",
    "    if self._check_collision(state):\n",
    "        # ✨ New! ✨ what if we didn't need to run the check_collision function twice?\n",
    "        # adding an argument to stop early\n",
    "        self.stop = True\n",
    "\n",
    "    #✨ New! ✨ sample our input signal\n",
    "    input_val = self._get_next_input()\n",
    "\n",
    "    if input_val == 1:\n",
    "        return State(\n",
    "            x_pos=state[0],\n",
    "            y_pos=state[1],\n",
    "            y_vel=self.pressed_velocity,\n",
    "            pressed=input_val,\n",
    "            input_check=state[4]\n",
    "        )\n",
    "    else:\n",
    "        return State(\n",
    "            x_pos=state[0],\n",
    "            y_pos=state[1],\n",
    "            y_vel=state[2],\n",
    "            pressed=input_val,\n",
    "            input_check=state[4]\n",
    "        )\n",
    "\n",
    "# ✨ New! ✨ collision handling is now in jump\n",
    "#  so all this has to do is see if its time to check input\n",
    "def _jump_check(self, time:float, state:State) -> int:\n",
    "    # rather than hardcoding when to jump, we check the counter!\n",
    "    if state[4] >= self.input_check_frequency:\n",
    "        return 0\n",
    "    else:\n",
    "        return 1 \n",
    "_jump_check.terminal = True"
   ]
  },
  {
   "cell_type": "markdown",
   "metadata": {},
   "source": [
    "I've made a subtle change in what it means to be flowing or jumping in the hybrid system-- did you catch it?\n",
    "\n",
    "Before, we only ever jumped if we were going to go to a new state, but here, we can jump back to the same state. A jump, in this formalization, is synonymous with testing the input signal. This version regularly jumps at the input sample rate, and sometimes just jumps back to the same state it was just in [^1].\n",
    "\n",
    "That can be a little hard to wrap your head around, let's use some graphs.\n",
    "\n",
    "[^1]: I'll cover optimization later, but at least at first brush, this _feels_ like a step backwards. This new version interrupts the solver regularly, and sometimes just goes back to what it was just doing. That's a bummer!\n"
   ]
  },
  {
   "cell_type": "code",
   "execution_count": 6,
   "metadata": {},
   "outputs": [],
   "source": [
    "# TODO: write some graphs in dot here, and if I hate those, switch over to draw.io to Do The Thing.\n",
    "# ultimately, there's gonna be some SVGs."
   ]
  },
  {
   "cell_type": "markdown",
   "metadata": {},
   "source": [
    "Ok!\n",
    "\n",
    "But, sadly, the refactoring is not done yet. I snuck a new `FlappyHybridSim` attribute in there (`input_check_frequency`), and a new method (`_get_next_input(...)`)-- so whole class doesn't, ya know, work. Let's finish this refactor-- `_get_next_input(...)` should get the next sample of an input signal, which the sim class wants to hold onto.\n",
    "\n",
    "This probably wants to be a parameter of `FlappyHybridSim.solve_system`, just like the `start_state` and `params` are. As I spoiled above, where this is all building up to is the ability to search for specific input signals given a certain Flappy Bird level. I want to test a fixed level against many input signals, so this becomes a parameter of our `solve_system` function."
   ]
  },
  {
   "cell_type": "code",
   "execution_count": null,
   "metadata": {},
   "outputs": [],
   "source": [
    "@dataclass\n",
    "class SystemParameters:\n",
    "    \n",
    "class FlappyHybridSim:\n",
    "    level: FlappyLevel    \n",
    "    max_step:float\n",
    "    atol:float\n",
    "    rtol:float\n",
    "    input_check_frequency: float"
   ]
  }
 ],
 "metadata": {
  "kernelspec": {
   "display_name": ".venv",
   "language": "python",
   "name": "python3"
  },
  "language_info": {
   "codemirror_mode": {
    "name": "ipython",
    "version": 3
   },
   "file_extension": ".py",
   "mimetype": "text/x-python",
   "name": "python",
   "nbconvert_exporter": "python",
   "pygments_lexer": "ipython3",
   "version": "3.11.4"
  },
  "orig_nbformat": 4
 },
 "nbformat": 4,
 "nbformat_minor": 2
}
