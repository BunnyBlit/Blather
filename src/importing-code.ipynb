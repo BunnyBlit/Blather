{
 "cells": [
  {
   "cell_type": "markdown",
   "metadata": {},
   "source": [
    "Title: How does `import` work in Python?\n",
    "Date: 2024-06-28   \n",
    "Category: Tech   \n",
    "Tags: Programming Languages   \n",
    "Slug: importing-in-python  \n",
    "Summary: No but really, how does Python figure out what code to import when?   \n",
    "Status: draft"
   ]
  },
  {
   "cell_type": "markdown",
   "metadata": {},
   "source": [
    "It's remarkable how often importing Python code comes up in my life. It sounds so silly and easy, right? [One of the older XKCDs even makes a joke about it](https://xkcd.com/353/).\n",
    "\n",
    "And yet, I have yet to meet a person who hasn't seen this while learning Python:"
   ]
  },
  {
   "cell_type": "code",
   "execution_count": 1,
   "metadata": {},
   "outputs": [
    {
     "ename": "ModuleNotFoundError",
     "evalue": "No module named 'some_module_that_is_RIGHT_THERE'",
     "output_type": "error",
     "traceback": [
      "\u001b[0;31m---------------------------------------------------------------------------\u001b[0m",
      "\u001b[0;31mModuleNotFoundError\u001b[0m                       Traceback (most recent call last)",
      "Cell \u001b[0;32mIn[1], line 1\u001b[0m\n\u001b[0;32m----> 1\u001b[0m \u001b[38;5;28;01mfrom\u001b[39;00m \u001b[38;5;21;01msome_module_that_is_RIGHT_THERE\u001b[39;00m \u001b[38;5;28;01mimport\u001b[39;00m do_thing\n\u001b[1;32m      3\u001b[0m do_thing()\n",
      "\u001b[0;31mModuleNotFoundError\u001b[0m: No module named 'some_module_that_is_RIGHT_THERE'"
     ]
    }
   ],
   "source": [
    "from some_module_that_is_RIGHT_THERE import do_thing\n",
    "\n",
    "do_thing()"
   ]
  },
  {
   "cell_type": "markdown",
   "metadata": {},
   "source": [
    "So, how does Python actually import code? What does the `import` statement even _do_?\n",
    "\n",
    "I won't be covering any ground that you couldn't figure out by reading [the Python language documentation](https://docs.python.org/3/library/importlib.html), and when we hit interpreter specific behavior, I'll default to how CPython behaves. It's still useful going over all of docs and any relevant `PEP`s if you _really_ want to know things, but hopefully this works as a jumping off point."
   ]
  },
  {
   "cell_type": "markdown",
   "metadata": {},
   "source": [
    "## What is the import statement?\n",
    "\n",
    "I'm going to skip the semantics of `import` and dive right into the heart of the matter: `import bar` is [syntactic sugar over a builtin internal function `__import__(...)`](https://docs.python.org/3/library/functions.html#import__). So, the import statement is a function call. That function imports a *module*, using local and global variables to figure out how to interpret that name. Easy!\n",
    "\n",
    "Ok, fine."
   ]
  },
  {
   "cell_type": "markdown",
   "metadata": {},
   "source": [
    "## ~~What is the import statement~~ What is a Python module?\n",
    "[Software is always Like This](https://www.stilldrinking.org/programming-sucks). A module is _kinda_ [analogous to a file](https://docs.python.org/3.12/tutorial/modules.html), and contains all the functions, classes and variables you might want to use somewhere else in your codebase. The `import` statement makes these available under the file name from a different module."
   ]
  },
  {
   "cell_type": "code",
   "execution_count": 1,
   "metadata": {},
   "outputs": [
    {
     "name": "stdout",
     "output_type": "stream",
     "text": [
      "Pika, pika!\n"
     ]
    }
   ],
   "source": [
    "import inspect # for looking at live Python objects\n",
    "from pathlib import Path # I like object-oriented paths, fite me.\n",
    "\n",
    "# an example function to import\n",
    "def hi_pikachu() -> str:\n",
    "    \"\"\" Say hi, Pikachu!\n",
    "    \"\"\"\n",
    "    return \"Pika, pika!\"\n",
    "\n",
    "# should at least pretend to be tidy, lets make a folder to hold onto our code\n",
    "Path(\"tmp/importing_in_python\").mkdir(exist_ok=True)\n",
    "\n",
    "# and write our function down in a file called 'pika.py'\n",
    "with open(\"tmp/importing_in_python/pika.py\", \"w\") as f:\n",
    "    # use inspect to get the Python source code of the live function \"hi_pikachu\"\n",
    "    src_string = inspect.getsource(hi_pikachu)\n",
    "\n",
    "    # tada, we made a module dynamically!\n",
    "    f.write(src_string)\n",
    "\n",
    "# and now that we wrote a file, we can import it\n",
    "import tmp.importing_in_python.pika #type: ignore static typing does not like BS like this\n",
    "print(tmp.importing_in_python.pika.hi_pikachu())"
   ]
  },
  {
   "cell_type": "markdown",
   "metadata": {},
   "source": [
    "And, yes, there is a fresh new Python module at that path location, this isn't me pulling a fast one. We can open it and read it like any other file:"
   ]
  },
  {
   "cell_type": "code",
   "execution_count": 2,
   "metadata": {},
   "outputs": [
    {
     "name": "stdout",
     "output_type": "stream",
     "text": [
      "def hi_pikachu() -> str:\n",
      "    \"\"\" Say hi, Pikachu!\n",
      "    \"\"\"\n",
      "    return \"Pika, pika!\"\n",
      "\n"
     ]
    }
   ],
   "source": [
    "with open(\"tmp/importing_in_python/pika.py\", \"r\") as f:\n",
    "    print(f.read())"
   ]
  },
  {
   "cell_type": "markdown",
   "metadata": {},
   "source": [
    "It is kinda fun that documentation comments were preserved when we used `inspect`, no? I think it's fun.\n",
    "\n",
    "Back on track: I actually have multiple versions of `hi_pikachu` in scope. They're not the same function! A fun [`CPython` implementation detail](https://docs.python.org/3/library/functions.html#id) is that `id(...)` gives you the memory address of that object, so:"
   ]
  },
  {
   "cell_type": "code",
   "execution_count": 6,
   "metadata": {},
   "outputs": [
    {
     "name": "stdout",
     "output_type": "stream",
     "text": [
      "original \"local\" function is at: 4357599488\n",
      "function from our dynamic module: 4357597728\n"
     ]
    }
   ],
   "source": [
    "print(f\"original \\\"local\\\" function is at: {id(hi_pikachu)}\")\n",
    "print(f\"function from our dynamic module: {id(tmp.importing_in_python.pika.hi_pikachu)}\")"
   ]
  },
  {
   "cell_type": "markdown",
   "metadata": {},
   "source": [
    "But, if we mess with the imports a liiiiiittle bit"
   ]
  },
  {
   "cell_type": "code",
   "execution_count": 10,
   "metadata": {},
   "outputs": [
    {
     "name": "stdout",
     "output_type": "stream",
     "text": [
      "function from our dynamic module: \t4357597728\n",
      "the \"local\" version: \t\t\t4357597728\n"
     ]
    }
   ],
   "source": [
    "from tmp.importing_in_python.pika import hi_pikachu\n",
    "print(f\"function from our dynamic module: \\t{id(tmp.importing_in_python.pika.hi_pikachu)}\")\n",
    "print(f\"the \\\"local\\\" version: \\t\\t\\t{id(hi_pikachu)}\")"
   ]
  },
  {
   "cell_type": "markdown",
   "metadata": {},
   "source": [
    "I \"overwrote\" the \"local\" implementation of `hi_pikachu`. Doing crimes in interpreted languages is fun.\n",
    "\n",
    "Every single Python module is executed in its own _namespace_. This is a mapping of names (like function name `hi_pikachu`) to a thing at a virtual memory address (in this case `4415138816`). Namespaces are useful because they let us scope things and reuse names in more than one part of our program. Two modules can have the same function name and not conflict, which is great if you want to share your code with Steve and his demand to only ever use the function name `apply`. \n",
    "\n",
    "We live in a blessed age where we can spread out our names a bit. Python doesn't just parse a file when it imports it, though."
   ]
  },
  {
   "cell_type": "code",
   "execution_count": 11,
   "metadata": {},
   "outputs": [
    {
     "name": "stdout",
     "output_type": "stream",
     "text": [
      "tmp.importing_in_python.name_and_addition\n",
      "3\n"
     ]
    }
   ],
   "source": [
    "# I don't know a neat trick to wrap statements into a first-order thing in Python\n",
    "# so no neat inspect tricks here-- gonna just write the module source code as a bare string\n",
    "# like a monster\n",
    "module_source = \"\"\"\n",
    "sum = 1 + 2\n",
    "print(__name__)\n",
    "print(sum)\n",
    "\"\"\"\n",
    "\n",
    "# same trick as before -- lets write our module source in a .py file\n",
    "Path(\"tmp/importing_in_python\").mkdir(exist_ok=True)\n",
    "with open(\"tmp/importing_in_python/name_and_addition.py\", \"w\") as f:\n",
    "    f.write(module_source)\n",
    "\n",
    "import tmp.importing_in_python.name_and_addition #type: ignore static typing does not like this"
   ]
  },
  {
   "cell_type": "markdown",
   "metadata": {},
   "source": [
    "Oh hey, output.\n",
    "\n",
    "Importing a file in Python evaluates it-- Python, by default, uses eager evaluation of imports. Most of the time, this is fine, but if you have a massive Python file, having to parse and run that file can be a lot. However..."
   ]
  },
  {
   "cell_type": "code",
   "execution_count": 12,
   "metadata": {},
   "outputs": [],
   "source": [
    "import tmp.importing_in_python.name_and_addition\n",
    "import tmp.importing_in_python.name_and_addition\n",
    "\n",
    "# look ma, no output"
   ]
  },
  {
   "cell_type": "markdown",
   "metadata": {},
   "source": [
    "no output this time -- because Python caches imports. You can litter your codebase with `import foobar` and the import operation will only happen once, for `foobar`. So, roughly, we can think of `import foobar` doing three things:\n",
    "1. searching for a Python module named `foobar`\n",
    "2. running the interpreter over that module, putting any created functions or variables under the namespace `foobar`\n",
    "3. saving that result, so we don't need to rerun the module again."
   ]
  },
  {
   "cell_type": "markdown",
   "metadata": {},
   "source": []
  }
 ],
 "metadata": {
  "kernelspec": {
   "display_name": ".venv (3.11.4)",
   "language": "python",
   "name": "python3"
  },
  "language_info": {
   "codemirror_mode": {
    "name": "ipython",
    "version": 3
   },
   "file_extension": ".py",
   "mimetype": "text/x-python",
   "name": "python",
   "nbconvert_exporter": "python",
   "pygments_lexer": "ipython3",
   "version": "3.11.4"
  }
 },
 "nbformat": 4,
 "nbformat_minor": 2
}
