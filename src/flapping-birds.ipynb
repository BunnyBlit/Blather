{
 "cells": [
  {
   "cell_type": "markdown",
   "metadata": {},
   "source": [
    "Title: What Makes The Flappy Bird Flap?   \n",
    "Date: 2023-03-17   \n",
    "Category: Tech   \n",
    "Tags: Simulations   \n",
    "Slug: modeling-flappy-bird   \n",
    "Summary: If we can model a [bouncing ball]({filename}/bouncing-balls.md), what about a flapping bird?   \n",
    "Status: draft   "
   ]
  },
  {
   "cell_type": "markdown",
   "metadata": {},
   "source": [
    "[Previously]({filename}/bouncing-balls.md), I wrote a lot about [Hybrid Dynamic Systems](https://dl.acm.org/doi/pdf/10.1145/3337722.3337757) and simulating a simple bouncing ball.\n",
    "\n",
    "Can we use this framework to simulate a video game? Before we dig in, the first post borrowed mostly theory from [\"Analyzing Action Games: A Hybrid Systems Approach\"](https://dl.acm.org/doi/pdf/10.1145/3337722.3337757) paper by Yegeta Zeleke and friends. This post is heavily based on math and implementations in the paper. I'm mostly writing up their model in Python, and leaned heavily on the [Matlab reference implementation](https://github.com/HybridSystemsLab/FlappyBirdReachability) to help me.\n",
    "\n",
    "The Python is all mine, but the actual algorithms to solve the problem and the ideas are all theirs."
   ]
  },
  {
   "cell_type": "markdown",
   "metadata": {},
   "source": [
    "### The Model of Flappy Bird\n",
    "Ok, to recap, I need four functions:  \n",
    "\n",
    "* ```flow(...)``` tells me how the game changes over time, by taking in the current time and state, and giving me the derivative of the state with respect to time  \n",
    "\n",
    "* ```jump(...)``` tells me how the game changes instantly, snapping from one state to another. It takes in the current time and state and returns a new state.  \n",
    "\n",
    "* ```flow_check(...)``` tells me if the game should be flowing or not. It takes in the current time and state and returns an integer (0 for not flowing, 1 for flowing). It's gotta be an `int` to work with other libraries to use this model.  \n",
    "\n",
    "* ```jump_check(...)``` tells me if the game should jump or not. It takes in the current time and state and returns an integer (0 for do not jump, 1 for jump). It's gotta be an `int` for the same reasons ```flow_check``` does.\n",
    "\n",
    "All these functions deal with state... so what state does flappy bird need? We'll need both vertical and horizontal position because those will change. We'll need vertical velocity because the rate that the bird rises (or falls) changes based on time and input-- if you're pressing the flap button, you go up.\n",
    "\n",
    "Oh! And something to track if the player is pushing the flap button or not. And, I know that eventually this all needs to be an `array-like`."
   ]
  },
  {
   "cell_type": "code",
   "execution_count": 1,
   "metadata": {
    "execution": {
     "iopub.execute_input": "2024-01-18T01:14:50.263421Z",
     "iopub.status.busy": "2024-01-18T01:14:50.263194Z",
     "iopub.status.idle": "2024-01-18T01:14:50.272946Z",
     "shell.execute_reply": "2024-01-18T01:14:50.272366Z"
    }
   },
   "outputs": [
    {
     "name": "stdout",
     "output_type": "stream",
     "text": [
      "State(x_pos=0.0, y_pos=2.0, y_vel=0.0, pressed=1)\n"
     ]
    }
   ],
   "source": [
    "from collections import namedtuple\n",
    "\n",
    "# as before, a named tuple doesn't really solve our problems\n",
    "# but it does make the constructor a little nicer\n",
    "# its easy enough to make a class that implements the right protocols, but compactness, yeah?\n",
    "State = namedtuple('State', ['x_pos', 'y_pos', 'y_vel', 'pressed'])\n",
    "state = State(x_pos=0.0, y_pos=2.0, y_vel=0.0, pressed=1)\n",
    "print(state)"
   ]
  },
  {
   "cell_type": "markdown",
   "metadata": {},
   "source": [
    "Ok, so let's march through, starting with `flow`. Flappy always moves right at a constant speed, so the derivative of their `x` position is a constant velocity. When they're falling, Flappy accelerates-- so when `pressed == 0`, `y` position should change according to whatever `y` velocity is, and `y` velocity should change at a magic `-9.81` acceleration due to gravity. `pressed` should never change during flows, because it only changes on jumps: new input jumps flappy to new states. Therefore, it's derivative is `0`. So flow looks a little like..."
   ]
  },
  {
   "cell_type": "code",
   "execution_count": 2,
   "metadata": {
    "execution": {
     "iopub.execute_input": "2024-01-18T01:14:50.300293Z",
     "iopub.status.busy": "2024-01-18T01:14:50.300150Z",
     "iopub.status.idle": "2024-01-18T01:14:50.303030Z",
     "shell.execute_reply": "2024-01-18T01:14:50.302733Z"
    }
   },
   "outputs": [
    {
     "name": "stdout",
     "output_type": "stream",
     "text": [
      "StateDerivative(delta_x_pos=2.0, delta_y_pos=0.0, delta_y_vel=-9.81, delta_pressed=0)\n"
     ]
    }
   ],
   "source": [
    "# delta here is just shorthand for \"change in\"\n",
    "# what this is tracking is how the corresponding state elements change over time \n",
    "StateDerivative = namedtuple('StateDerivative', ['delta_x_pos', 'delta_y_pos', 'delta_y_vel', 'delta_pressed'])\n",
    "def flow(time:float, state:State) -> tuple[float, float, float, int]:\n",
    "    return StateDerivative(\n",
    "        delta_x_pos=2.0, # this is a bit of an extra magic number-- its our going right constant speed.\n",
    "        delta_y_pos=state[2], # this is y_vel in our state vector\n",
    "        delta_y_vel=-9.81,\n",
    "        delta_pressed=0\n",
    "    )\n",
    "# time, just like before, is arbitrary. May as well start at 0.\n",
    "state_derivative = flow(0.0, State(\n",
    "    x_pos=0.0,\n",
    "    y_pos=2.0,\n",
    "    y_vel=0.0,\n",
    "    pressed=1\n",
    "))\n",
    "print(state_derivative)"
   ]
  },
  {
   "cell_type": "markdown",
   "metadata": {},
   "source": [
    "But... that's only half the problem, right? What about when flappy is flapping? Flappy flaps kinda... oddly.\n",
    "\n",
    "Flappy doesn't accelerate when they flap. They move upward at a constant velocity.\n",
    "\n",
    "For anyone new 'round these parts: this is common in action games like platformers! It makes characters easier to control and more predictable-- if your button presses applied acceleration, rather than pure velocity, you'd need to counteract your current trajectory before going somewhere new. It'd make poor flappy a lot less agile.[^1]\n",
    "\n",
    "So, lets add all that in:\n",
    "\n",
    "[^1]: this isn't a bad thing-- how you program movement is a game design choice like any other, and with plenty of pros and cons."
   ]
  },
  {
   "cell_type": "code",
   "execution_count": 3,
   "metadata": {
    "execution": {
     "iopub.execute_input": "2024-01-18T01:14:50.304684Z",
     "iopub.status.busy": "2024-01-18T01:14:50.304570Z",
     "iopub.status.idle": "2024-01-18T01:14:50.307859Z",
     "shell.execute_reply": "2024-01-18T01:14:50.307569Z"
    }
   },
   "outputs": [
    {
     "name": "stdout",
     "output_type": "stream",
     "text": [
      "How we flow when the flap button is not pressed:\n",
      "StateDerivative(delta_x_pos=2.0, delta_y_pos=0.0, delta_y_vel=-9.81, delta_pressed=0)\n",
      "\n",
      "\n",
      "How we flow when the flap button is pressed:\n",
      "StateDerivative(delta_x_pos=2.0, delta_y_pos=2.0, delta_y_vel=0, delta_pressed=0)\n"
     ]
    }
   ],
   "source": [
    "def flow(time:float, state:State) -> tuple[float, float, float, int]:\n",
    "    if state[3] == 0: # <-- ✨ New! ✨ not pressed\n",
    "        return StateDerivative(\n",
    "            delta_x_pos=2.0,\n",
    "            delta_y_pos=state[2],\n",
    "            delta_y_vel=-9.81,\n",
    "            delta_pressed=0\n",
    "        )\n",
    "    # also ✨ New! ✨, this handles our pressed case\n",
    "    elif state[3] == 1: #pressed\n",
    "        return StateDerivative(\n",
    "            delta_x_pos=2.0, \n",
    "            delta_y_pos=2.0, # just like the change in x position, this is also pretty magic\n",
    "            delta_y_vel=0, # y velocity doesn't change, it's constant while flapping!\n",
    "            delta_pressed=0 \n",
    "        )\n",
    "    else:\n",
    "        raise RuntimeError(f\"Invalid state! {state}, pressed != 0 or 1\")\n",
    "    \n",
    "unpressed_state_derivative = flow(0.0, State(\n",
    "    x_pos=0.0,\n",
    "    y_pos=2.0,\n",
    "    y_vel=0.0,\n",
    "    pressed=0\n",
    "))\n",
    "print(\"How we flow when the flap button is not pressed:\")\n",
    "print(unpressed_state_derivative)\n",
    "print(\"\\n\")\n",
    "pressed_state_derivative = flow(0.0, State(\n",
    "    x_pos=0.0,\n",
    "    y_pos=2.0,\n",
    "    y_vel=0.0,\n",
    "    pressed=1 #<-- ✨ note the difference! ✨\n",
    "))\n",
    "print(\"How we flow when the flap button is pressed:\")\n",
    "print(pressed_state_derivative)"
   ]
  },
  {
   "cell_type": "markdown",
   "metadata": {},
   "source": [
    "That seems about right to me! And since we're here, let's do `flow_check`... once again, this function has big \"you're pranking me\" energy."
   ]
  },
  {
   "cell_type": "code",
   "execution_count": 4,
   "metadata": {
    "execution": {
     "iopub.execute_input": "2024-01-18T01:14:50.309447Z",
     "iopub.status.busy": "2024-01-18T01:14:50.309363Z",
     "iopub.status.idle": "2024-01-18T01:14:50.311106Z",
     "shell.execute_reply": "2024-01-18T01:14:50.310842Z"
    }
   },
   "outputs": [],
   "source": [
    "def flow_check(time:float, state:State) -> int:\n",
    "    # yeah, we're always flowing again. 🙃\n",
    "    return 0"
   ]
  },
  {
   "cell_type": "markdown",
   "metadata": {},
   "source": [
    "Ok, `jump` time. Well, flappy only jumps when we provide input. We need to both record that in the state, so we'll flow correctly, and also set flappy's `y` velocity to what it should be when the button is pressed.\n",
    "\n",
    "`jump_check` is... just gonna never jump for now. We can check to make sure flappy falls correctly before adding more complex logic."
   ]
  },
  {
   "cell_type": "code",
   "execution_count": 5,
   "metadata": {
    "execution": {
     "iopub.execute_input": "2024-01-18T01:14:50.312572Z",
     "iopub.status.busy": "2024-01-18T01:14:50.312495Z",
     "iopub.status.idle": "2024-01-18T01:14:50.315814Z",
     "shell.execute_reply": "2024-01-18T01:14:50.315560Z"
    }
   },
   "outputs": [
    {
     "name": "stdout",
     "output_type": "stream",
     "text": [
      "For pressing the button:\n",
      "Jumping from State(x_pos=0.0, y_pos=2.0, y_vel=0.0, pressed=0)\n",
      "to State(x_pos=0.0, y_pos=2.0, y_vel=2.0, pressed=1)\n",
      "----------\n",
      "For releasing the button:\n",
      "Jumping from State(x_pos=0.0, y_pos=2.0, y_vel=0.0, pressed=1)\n",
      "to State(x_pos=0.0, y_pos=2.0, y_vel=0.0, pressed=0)\n"
     ]
    }
   ],
   "source": [
    "def jump(time:float, state:State) -> tuple[float, float, float, int]:\n",
    "    # a jump is the instant when the flap button is pressed\n",
    "    new_pressed = abs(state[3] - 1) # a bit of a trick to flip 1 to 0 and 0 to 1. Not efficient. That'll come up later \n",
    "    if new_pressed == 1: #if we're going from not pressed to pressed...\n",
    "        return State(\n",
    "            x_pos=state[0],\n",
    "            y_pos=state[1],\n",
    "            y_vel=2.0, # using the same magic number as our rightward velocity! \n",
    "            pressed=new_pressed\n",
    "        )\n",
    "    else:\n",
    "        return State(\n",
    "            x_pos=state[0],\n",
    "            y_pos=state[1],\n",
    "            y_vel=state[2],\n",
    "            pressed=new_pressed # almost an exact copy, except we change the pressed flag\n",
    "        )\n",
    "    \n",
    "def jump_check(time:float, state:State) -> int:\n",
    "    return 1 # never jump for now\n",
    "\n",
    "old_state = State(\n",
    "    x_pos=0.0,\n",
    "    y_pos=2.0,\n",
    "    y_vel=0.0,\n",
    "    pressed=0\n",
    ")\n",
    "new_pressed_state = jump(0.0, old_state)\n",
    "print(\"For pressing the button:\")\n",
    "print(f\"Jumping from {old_state}\")\n",
    "print(f\"to {new_pressed_state}\")\n",
    "print(\"----------\")\n",
    "\n",
    "old_state = State(\n",
    "    x_pos=0.0,\n",
    "    y_pos=2.0,\n",
    "    y_vel=0.0,\n",
    "    pressed=1\n",
    ")\n",
    "new_released_state = jump(0.0, old_state)\n",
    "print(\"For releasing the button:\")\n",
    "print(f\"Jumping from {old_state}\")\n",
    "print(f\"to {new_released_state}\")"
   ]
  },
  {
   "cell_type": "markdown",
   "metadata": {},
   "source": [
    "Alright. I'm gonna steal the `Hybrid System` and `System Parameters` structs from [the last article]({filename}/bouncing-balls.md). And while I'm there, lets snag the `solve_system` function too. And the graphing code, so we can see what this system does.\n",
    "\n",
    "aaaannnnnnd"
   ]
  },
  {
   "cell_type": "code",
   "execution_count": 7,
   "metadata": {
    "execution": {
     "iopub.execute_input": "2024-01-18T01:14:50.317196Z",
     "iopub.status.busy": "2024-01-18T01:14:50.317121Z",
     "iopub.status.idle": "2024-01-18T01:14:50.556363Z",
     "shell.execute_reply": "2024-01-18T01:14:50.556004Z"
    },
    "tags": [
     "ignore_cell"
    ]
   },
   "outputs": [],
   "source": [
    "# this cell is ignored, and is a big mess of functions to run ye hybrid system, dump results to a file and graph it\n",
    "from typing import Any, Callable, List\n",
    "from dataclasses import dataclass\n",
    "from scipy import integrate\n",
    "import csv\n",
    "\n",
    "@dataclass\n",
    "class HybridSystem():\n",
    "    \"\"\" Collect all our functions into one structure for ease of being able to remember things later.\n",
    "    \"\"\"\n",
    "    flow: Callable\n",
    "    flow_check: Callable\n",
    "    jump: Callable\n",
    "    jump_check: Callable\n",
    "\n",
    "@dataclass\n",
    "class SystemParameters():\n",
    "    \"\"\" Setting up some stopping points: what our time interval to solve over should be, and the maximum\n",
    "        number of jumps we want to have before we call it quits.\n",
    "        Should probably just be an attribute of the hybrid system up there\n",
    "    \"\"\"\n",
    "    start_time: float\n",
    "    end_time: float\n",
    "    max_jumps: int\n",
    "\n",
    "def solve_system(system:HybridSystem, params:SystemParameters, start_state:State) -> list[Any]:\n",
    "    solution:List[Any] = [] # gradual typing is neat!\n",
    "    cur_time = params.start_time\n",
    "    number_of_jumps = 0\n",
    "    state = start_state\n",
    "\n",
    "    while (cur_time < params.end_time and number_of_jumps < params.max_jumps):\n",
    "        if(system.flow_check(cur_time, state) == 0):\n",
    "            ode_sol = integrate.solve_ivp(\n",
    "                system.flow,\n",
    "                (cur_time, params.end_time),\n",
    "                state,\n",
    "                # ✨ New! ✨\n",
    "                events=[system.jump_check],\n",
    "                max_step=0.01,\n",
    "                atol=1e-6,\n",
    "                rtol=1e-6\n",
    "            )\n",
    "            if ode_sol.status == -1:\n",
    "                print(f\"Solver failed with message: {ode_sol.message}\")\n",
    "                return solution\n",
    "            for time, state in zip(ode_sol.t, ode_sol.y.T):\n",
    "                solution.append((time, state))\n",
    "\n",
    "            cur_time, state = solution[-1] # the last element in the solution is our new current state\n",
    "\n",
    "        # if we're not flowing, we, by definition, must be jumping. In practice, we want some\n",
    "        # stronger asserts here to prevent infinite loops\n",
    "        if (system.jump_check(cur_time, state) == 0):\n",
    "            state = jump(cur_time, state)\n",
    "            number_of_jumps += 1\n",
    "    \n",
    "    return solution\n",
    "\n",
    "def write_csv(solution: list, filepath: str):\n",
    "    with open(filepath, \"w\") as f:\n",
    "        writer = csv.DictWriter(f=f, fieldnames=[\"time\", \"x_pos\", \"y_pos\", \"y_vel\", \"pressed\"])\n",
    "        writer.writeheader()\n",
    "        for time, state in solution:\n",
    "            writer.writerow({\n",
    "                \"time\": time,\n",
    "                \"x_pos\": state[0],\n",
    "                \"y_pos\": state[1],\n",
    "                \"y_vel\": state[2],\n",
    "                \"pressed\": state[3]\n",
    "            })\n",
    "\n",
    "flappy_bird_hybrid_system = HybridSystem(flow, flow_check, jump, jump_check)\n",
    "hybrid_system_params = SystemParameters(0.0, 1.0, 5)\n",
    "start_state = State(x_pos=0.0, y_pos=2.0, y_vel=0.0, pressed=0.0)\n",
    "solution = solve_system(flappy_bird_hybrid_system, hybrid_system_params, start_state)\n",
    "write_csv(solution, \"../tmp/flapping_birds_falling_birds.csv\")"
   ]
  },
  {
   "cell_type": "code",
   "execution_count": 8,
   "metadata": {
    "execution": {
     "iopub.execute_input": "2024-01-18T01:14:50.557820Z",
     "iopub.status.busy": "2024-01-18T01:14:50.557736Z",
     "iopub.status.idle": "2024-01-18T01:14:50.814862Z",
     "shell.execute_reply": "2024-01-18T01:14:50.813705Z"
    },
    "tags": [
     "ignore_cell"
    ]
   },
   "outputs": [
    {
     "data": {
      "image/png": "[encoded data removed]",
      "text/plain": [
       "<Figure size 640x480 with 1 Axes>"
      ]
     },
     "metadata": {},
     "output_type": "display_data"
    }
   ],
   "source": [
    "# util code!\n",
    "from util.columnar import Columnar\n",
    "from util.palette import blog_palette\n",
    "from util.graph import Graph\n",
    "from pathlib import Path\n",
    "from dataclasses import dataclass, field\n",
    "\n",
    "\n",
    "@dataclass\n",
    "class SimData(Columnar):\n",
    "    \"\"\" Transforming our data a little bit. Matplotlib plays nicer with iterables\n",
    "        for each dimension, rather than one iterable where each element is an array\n",
    "    \"\"\"\n",
    "    time: list[float]=field(default_factory=list)\n",
    "    x_pos: list[float]=field(default_factory=list)\n",
    "    y_pos: list[float]=field(default_factory=list)\n",
    "    y_vel: list[float]=field(default_factory=list)\n",
    "    pressed: list[int]=field(default_factory=list)\n",
    "\n",
    "animated_path_css_fmt = \"\"\".{style_name}{{\n",
    "        stroke:{stroke_color};\n",
    "        stroke-width:1.5;\n",
    "        stroke-linecap:square;\n",
    "        fill:{fill_color};\n",
    "        fill-opacity:0;\n",
    "        stroke-dasharray:140%;\n",
    "        stroke-dashoffset:140%;\n",
    "        animation-name:path-anim;\n",
    "        animation-duration:5s;\n",
    "        animation-timing-function:linear;\n",
    "        animation-fill-mode:forwards;\n",
    "        animation-iteration-count: infinite;\n",
    "    }}\n",
    "    @keyframes path-anim{{\n",
    "        0%{{\n",
    "            stroke-dashoffset:140%;\n",
    "        }}\n",
    "        65%{{\n",
    "            stroke-dashoffset:0%;\n",
    "        }}\n",
    "        100%{{\n",
    "            stroke-dashoffset:0%;\n",
    "        }}\n",
    "    }}\n",
    "    \"\"\"\n",
    "\n",
    "block_css_fmt = \"\"\".{style_name}{{\n",
    "        \"stroke\":{stroke_color};\n",
    "        fill:{fill_color};\n",
    "    }}\n",
    "    \"\"\"\n",
    "\n",
    "data = SimData.from_csv(\n",
    "    Path(\"../tmp/flapping_birds_falling_birds.csv\")\n",
    ")\n",
    "graph = Graph(\n",
    "    background=blog_palette[\"background\"],\n",
    "    foreground=blog_palette[\"foreground\"],\n",
    "    title=\"Flappy Bird Simulation\",\n",
    "    figures=[(1,1,1)]\n",
    ")\n",
    "graph.set_axis_labels(0, \"y position\", \"x position\")\n",
    "plotted_ids = graph.plot(0, data.x_pos, data.y_pos, \"flappy-height\")\n",
    "for id in plotted_ids:\n",
    "    graph.add_style(\n",
    "        id,\n",
    "        animated_path_css_fmt,\n",
    "        {\n",
    "            \"style_name\": \"animated_path\",\n",
    "            \"stroke_color\": blog_palette[\"foreground\"],\n",
    "            \"fill_color\": blog_palette[\"background\"]\n",
    "        }\n",
    "    )\n",
    "graph.save(Path(\"../content/images/flapping_birds_falling_birds.svg\"))"
   ]
  },
  {
   "cell_type": "markdown",
   "metadata": {},
   "source": [
    "![An animated graph of a very sad run of flappy bird]({static}/images/flapping_birds_falling_birds.svg)\n",
    "\n",
    "Ok, well, that's not the most compelling graph I've seen in my entire life. Once again, we're going under 0, when that's our unofficial death floor. There's also no obstacles. Or even flapping.\n",
    "\n",
    "Let's start with the last thing because it's in the name: let's make this flappy bird flap."
   ]
  },
  {
   "cell_type": "markdown",
   "metadata": {},
   "source": [
    "### Making Flappy Bird Flap\n",
    "\n",
    "We use the `jump` function to move to the \"flapping\" state from the \"falling\" state (and from \"falling\" back to \"flapping\"). We know we _should_ be jumping when `jump_check` says so.\n",
    "\n",
    "So, when do we want `jump_check` to be 1? Well, lets just say it should be one between certain times to start, which sorta says \"after 0.5 time units from when the sim starts, a player presses the flap button. They release it at 0.6 time units\"."
   ]
  },
  {
   "cell_type": "code",
   "execution_count": 9,
   "metadata": {
    "execution": {
     "iopub.execute_input": "2024-01-18T01:14:50.818389Z",
     "iopub.status.busy": "2024-01-18T01:14:50.817937Z",
     "iopub.status.idle": "2024-01-18T01:14:50.836861Z",
     "shell.execute_reply": "2024-01-18T01:14:50.835396Z"
    }
   },
   "outputs": [],
   "source": [
    "def jump_check(time:float, state:State) -> int:\n",
    "    # ✨ New! ✨\n",
    "    # we know our sim runs from time 0 to time 1, for right now. lets hardcode two jumps, one to set the \"pressed\"\n",
    "    # element in our state vector, and one to unset it\n",
    "    \n",
    "    # if the button isn't being pressed, and we're in the range where we want it to be pressed\n",
    "    # say that we need to jump to press it\n",
    "    if time >= 0.5 and time < 0.6 and state[3] != 1:\n",
    "        return 0\n",
    "    # and the reverse is true here, although we only care about time after the pressing\n",
    "    elif time >= 0.6 and state[3] != 0:\n",
    "        return 0\n",
    "    # otherwise we're not jumping\n",
    "    else:\n",
    "        return 1\n",
    "    \n",
    "jump_check.terminal = True # required for scipy"
   ]
  },
  {
   "cell_type": "code",
   "execution_count": 10,
   "metadata": {
    "execution": {
     "iopub.execute_input": "2024-01-18T01:14:50.842135Z",
     "iopub.status.busy": "2024-01-18T01:14:50.841856Z",
     "iopub.status.idle": "2024-01-18T01:14:50.861930Z",
     "shell.execute_reply": "2024-01-18T01:14:50.859464Z"
    },
    "tags": [
     "ignore_cell"
    ]
   },
   "outputs": [],
   "source": [
    "flappy_bird_hybrid_system = HybridSystem(flow, flow_check, jump, jump_check)\n",
    "hybrid_system_params = SystemParameters(0.0, 1.0, 5)\n",
    "start_state = State(x_pos=0.0, y_pos=2.0, y_vel=0.0, pressed=0.0)\n",
    "solution = solve_system(flappy_bird_hybrid_system, hybrid_system_params, start_state)\n",
    "write_csv(solution, \"../tmp/flapping_birds_single_flap.csv\")"
   ]
  },
  {
   "cell_type": "code",
   "execution_count": 11,
   "metadata": {
    "execution": {
     "iopub.execute_input": "2024-01-18T01:14:50.865374Z",
     "iopub.status.busy": "2024-01-18T01:14:50.864849Z",
     "iopub.status.idle": "2024-01-18T01:14:51.007177Z",
     "shell.execute_reply": "2024-01-18T01:14:51.006944Z"
    },
    "tags": [
     "ignore_cell"
    ]
   },
   "outputs": [
    {
     "data": {
      "image/png": "[encoded data removed]",
      "text/plain": [
       "<Figure size 640x480 with 1 Axes>"
      ]
     },
     "metadata": {},
     "output_type": "display_data"
    }
   ],
   "source": [
    "data = SimData.from_csv(\n",
    "    Path(\"../tmp/flapping_birds_single_flap.csv\"),\n",
    ")\n",
    "graph = Graph(\n",
    "    background=blog_palette[\"background\"],\n",
    "    foreground=blog_palette[\"foreground\"],\n",
    "    title=\"Flappy Bird Simulation\",\n",
    "    figures=[(1,1,1)]\n",
    ")\n",
    "graph.set_axis_labels(0, \"y position\", \"x position\")\n",
    "plotted_ids =  graph.plot(0, data.x_pos, data.y_pos, \"flappy-height\")\n",
    "for id in plotted_ids:\n",
    "    graph.add_style(\n",
    "        id,\n",
    "        animated_path_css_fmt,\n",
    "        {\n",
    "            \"style_name\": \"animated_path\",\n",
    "            \"stroke_color\": blog_palette[\"foreground\"],\n",
    "            \"fill_color\": blog_palette[\"background\"]\n",
    "        }\n",
    "    )\n",
    "graph.save(Path(\"../content/images/flapping_birds_single_flap.svg\"))"
   ]
  },
  {
   "cell_type": "markdown",
   "metadata": {},
   "source": [
    "![An animated graph of a simulation where flappy makes a single jump]({static}/images/flapping_birds_single_flap.svg)\n",
    "\n",
    "Alright, that's starting to look a little better. Obviously, hardcoding jump points isn't where we want to be in life, but hey! Flappy has a trajectory that looks sane!\n",
    "\n",
    "Now we need collision detection, so the simulation stops when Flappy hits the bottom or top of the screen."
   ]
  },
  {
   "cell_type": "markdown",
   "metadata": {},
   "source": [
    "### Making Flappy Bird Die\n",
    "So, uh, how are we going to do this? We could have a new state, `dead` and jump to it when flappy collides with the floor or roof. But, that'll lead to a lot of wasted work after we get into the `dead` state: the sim will still spin forward until it gets to `end_time` with noting meaningful to do. We want to stop the sim early.\n",
    "\n",
    "We know that `jump_check` stops the sim early (with ```jump_check.terminal = True```), so collision is like a jump where we just stop simulating[^2]. Let's add a collision detection function and modify both `jump_check` and `solve_system`:\n",
    "\n",
    "[^2]: this is obviously not true in general-- collision can be a jump to a state where you can no longer continue on your current trajectory (hitting a wall). Maybe you get some invulnerability frames and jump to a state with less life."
   ]
  },
  {
   "cell_type": "code",
   "execution_count": 12,
   "metadata": {
    "execution": {
     "iopub.execute_input": "2024-01-18T01:14:51.008624Z",
     "iopub.status.busy": "2024-01-18T01:14:51.008556Z",
     "iopub.status.idle": "2024-01-18T01:14:51.012329Z",
     "shell.execute_reply": "2024-01-18T01:14:51.012077Z"
    }
   },
   "outputs": [],
   "source": [
    " # ✨ New! ✨ Check to see if we're colliding with anything and need to die\n",
    "def check_collision(state:State) -> bool:\n",
    "    # the \"height\" of the level is gonna be a little arbitrary and hardcoded for now\n",
    "    # as always, y position of 0 is our floor and means death\n",
    "    if state[1] <= 0.0 or state[1] >= 5.0:\n",
    "        return True\n",
    "    else:\n",
    "        return False\n",
    "\n",
    "# lets change jump_check to identify collisions  \n",
    "def jump_check(time:float, state:State) -> int:\n",
    "    # ✨ New! ✨\n",
    "    if check_collision(state):\n",
    "        return 0\n",
    " \n",
    "    if time >= 0.5 and \\\n",
    "        time < 0.6 and \\\n",
    "            state[3] != 1:\n",
    "        return 0\n",
    "    elif time >= 0.6 and \\\n",
    "        state[3] != 0:\n",
    "        return 0\n",
    "    else:\n",
    "        return 1\n",
    "jump_check.terminal = True # we've got a new function, so we need to set this again\n",
    "\n",
    "# and now we also need to change solve_system to distinguish between solution stops-- did we\n",
    "# stop flowing because we hit something or because we started jumping?\n",
    "def solve_system(system:HybridSystem, params:SystemParameters, start_state:State) -> list[Any]:\n",
    "    solution:list[Any] = [] # gradual typing is neat!\n",
    "    cur_time = params.start_time\n",
    "    number_of_jumps = 0\n",
    "    state = start_state\n",
    "\n",
    "    while (cur_time < params.end_time and number_of_jumps < params.max_jumps):\n",
    "        if(system.flow_check(cur_time, state) == 0):\n",
    "            ode_sol = integrate.solve_ivp(\n",
    "                system.flow,\n",
    "                (cur_time, params.end_time),\n",
    "                state,\n",
    "                events=[system.jump_check],\n",
    "                max_step=0.01,\n",
    "                atol=1e-6,\n",
    "                rtol=1e-6\n",
    "            )\n",
    "            if ode_sol.status == -1:\n",
    "                print(f\"Solver failed with message: {ode_sol.message}\")\n",
    "                return solution\n",
    "            for time, state in zip(ode_sol.t, ode_sol.y.T):\n",
    "                solution.append((time, state))\n",
    "\n",
    "            cur_time, state = solution[-1]\n",
    "        \n",
    "        # ✨ New! ✨\n",
    "        # check_collision is very cheap, so this call isn't too outrageous. In real games, collision detection\n",
    "        # is expensive. We'd probably only want to call it once, jump to a dead state, and check if we died\n",
    "        # at the top of the loop instead.\n",
    "        if check_collision(state):\n",
    "            return solution\n",
    "        \n",
    "        if (system.jump_check(cur_time, state) == 0):\n",
    "            state = jump(cur_time, state)\n",
    "            number_of_jumps += 1\n",
    "    \n",
    "    return solution"
   ]
  },
  {
   "cell_type": "code",
   "execution_count": 13,
   "metadata": {
    "execution": {
     "iopub.execute_input": "2024-01-18T01:14:51.013609Z",
     "iopub.status.busy": "2024-01-18T01:14:51.013545Z",
     "iopub.status.idle": "2024-01-18T01:14:51.022384Z",
     "shell.execute_reply": "2024-01-18T01:14:51.022165Z"
    },
    "tags": [
     "ignore_cell"
    ]
   },
   "outputs": [],
   "source": [
    "flappy_bird_hybrid_system = HybridSystem(flow, flow_check, jump, jump_check)\n",
    "# ✨ New! ✨ setting a much longer end time, we should stop before we get there!\n",
    "hybrid_system_params = SystemParameters(0.0, 5.0, 5)\n",
    "start_state = State(x_pos=0.0, y_pos=2.0, y_vel=0.0, pressed=0.0)\n",
    "solution = solve_system(flappy_bird_hybrid_system, hybrid_system_params, start_state)\n",
    "write_csv(solution, \"../tmp/flapping_birds_single_flap_long.csv\")"
   ]
  },
  {
   "cell_type": "code",
   "execution_count": 14,
   "metadata": {
    "execution": {
     "iopub.execute_input": "2024-01-18T01:14:51.023665Z",
     "iopub.status.busy": "2024-01-18T01:14:51.023595Z",
     "iopub.status.idle": "2024-01-18T01:14:51.131021Z",
     "shell.execute_reply": "2024-01-18T01:14:51.130801Z"
    },
    "tags": [
     "ignore_cell"
    ]
   },
   "outputs": [
    {
     "data": {
      "image/png": "[encoded data removed]",
      "text/plain": [
       "<Figure size 640x480 with 1 Axes>"
      ]
     },
     "metadata": {},
     "output_type": "display_data"
    }
   ],
   "source": [
    "data = SimData.from_csv(\n",
    "    Path(\"../tmp/flapping_birds_single_flap_long.csv\")\n",
    ")\n",
    "graph = Graph(\n",
    "    background=blog_palette[\"background\"],\n",
    "    foreground=blog_palette[\"foreground\"],\n",
    "    title=\"Flappy Bird Simulation\",\n",
    "    figures=[(1,1,1)]\n",
    ")\n",
    "graph.set_axis_labels(0, \"y position\", \"x position\")\n",
    "plotted_ids = graph.plot(0, data.x_pos, data.y_pos, \"flappy-height\")\n",
    "for id in plotted_ids:\n",
    "    graph.add_style(\n",
    "        id,\n",
    "        animated_path_css_fmt,\n",
    "        {\n",
    "            \"style_name\": \"animated_path\",\n",
    "            \"stroke_color\": blog_palette[\"foreground\"],\n",
    "            \"fill_color\": blog_palette[\"background\"]\n",
    "        }\n",
    "    )\n",
    "graph.save(\"../content/images/flapping_birds_single_flap_long.svg\")"
   ]
  },
  {
   "cell_type": "markdown",
   "metadata": {},
   "source": [
    "![A graph showing one big long flappy bird flap, until the poor bird plummets to death]({static}/images/flapping_birds_single_flap_long.svg)"
   ]
  },
  {
   "cell_type": "markdown",
   "metadata": {},
   "source": [
    "### Stuff To Dodge\n",
    "\n",
    "Having an upper and lower bound is all well and good, but really Flappy Bird is hard because there are pipes to dodge. Flap around. We need to add some obstacles, but we don't really need things like \"sprites\", \"graphics\" or \"art\" in simulation land. We just care that there are some rectangular death zones spaced somewhat regularly apart.\n",
    "\n",
    "I could start by hardcoding the pipe locations just like the level boundaries, but uuuuh. Look, I didn't love hardcoding in the boundaries in the last part and I want to eventually graph where the death zones are. It's time for some data structures."
   ]
  },
  {
   "cell_type": "code",
   "execution_count": 15,
   "metadata": {
    "execution": {
     "iopub.execute_input": "2024-01-18T01:14:51.132356Z",
     "iopub.status.busy": "2024-01-18T01:14:51.132283Z",
     "iopub.status.idle": "2024-01-18T01:14:51.135075Z",
     "shell.execute_reply": "2024-01-18T01:14:51.134831Z"
    }
   },
   "outputs": [
    {
     "name": "stdout",
     "output_type": "stream",
     "text": [
      "FlappyLevel(floor=0.0,\n",
      "            ceiling=5.0,\n",
      "            obstacles=[BoundingBox(top_left=(1.0, 5.0), width=0.5, height=3.5),\n",
      "                       BoundingBox(top_left=(1.5, 0.75),\n",
      "                                   width=0.5,\n",
      "                                   height=0.75)])\n"
     ]
    }
   ],
   "source": [
    "from pprint import pprint\n",
    "@dataclass\n",
    "class BoundingBox():\n",
    "    \"\"\" Its a rectangle! Represented by the top left point, a width and a height\n",
    "    \"\"\"\n",
    "    top_left: tuple[float, float]\n",
    "    width: float\n",
    "    height: float\n",
    "\n",
    "@dataclass\n",
    "class FlappyLevel():\n",
    "    \"\"\" It's a flappy bird level! We get a ceiling (going too high means death),\n",
    "        a floor (going too low means death), and a list of obstacles (touching means death)\n",
    "    \"\"\"\n",
    "    floor:float\n",
    "    ceiling:float\n",
    "    obstacles: list[BoundingBox]\n",
    "\n",
    "sample_level = FlappyLevel(\n",
    "    floor=0.0,\n",
    "    ceiling=5.0,\n",
    "    obstacles=[\n",
    "        BoundingBox(\n",
    "            top_left=(1.0, 5.0),\n",
    "            width=0.5,\n",
    "            height=3.5\n",
    "        ),\n",
    "        BoundingBox(\n",
    "            top_left=(1.5, 0.75),\n",
    "            width=0.5,\n",
    "            height=0.75\n",
    "        )\n",
    "    ]\n",
    ")\n",
    "pprint(sample_level)"
   ]
  },
  {
   "cell_type": "markdown",
   "metadata": {},
   "source": [
    "Ok, not the prettiest printing of all time there, but it'll do. Now, we need to update our `jump_check` function to actually use it. So, let's just add an argument-- oh.\n",
    "\n",
    "well, uh.\n",
    "\n",
    "hm.\n",
    "\n",
    "Remember that `jump_check` must be in a very particular form because it's going to get called by `scipy` owned code as a part of `solve_ivp`. We can't just add an argument, the solver doesn't know anything about the level. There are a few ways to go forward here:\n",
    "1. we control how `jump_check` executes and what it's scope is. We can save the level as a variable that's in scope while `jump_check` is doing its thing\n",
    "2. that, but more formal: classes and objects\n",
    "\n",
    "Which means, ugh, variable lifetime and all the other annoying things you need to start thinking about when you move from beyond easy \"function only operates on its arguments\" land[^3]. Eventually, we're going to want to run many simulations on one level, so wrapping up everything as a \"simulation\" class makes sense to me. The stuff that stays the same from run to run becomes class attributes, and we can pass the stuff that differs to a `solve_system` instance method.\n",
    "\n",
    "Because [bound methods of instances](https://docs.python.org/3.11/reference/datamodel.html#instance-methods) work like a regular old callable from the outside, we can have the object \"ride along\" with invocation, with our solver being non-the-wiser [^4]\n",
    "\n",
    "Does that make sense? I hope so. 3,2,1, let's jam.\n",
    "\n",
    "[^3]: The Haskell people were right, this sucks\n",
    "\n",
    "[^4]: this behavior is not free-- I do pay a penalty for passing in the instance as the first argument, but lord, do I have bigger problems elsewhere."
   ]
  },
  {
   "cell_type": "code",
   "execution_count": 16,
   "metadata": {
    "execution": {
     "iopub.execute_input": "2024-01-18T01:14:51.136334Z",
     "iopub.status.busy": "2024-01-18T01:14:51.136256Z",
     "iopub.status.idle": "2024-01-18T01:14:51.145490Z",
     "shell.execute_reply": "2024-01-18T01:14:51.145272Z"
    }
   },
   "outputs": [
    {
     "name": "stdout",
     "output_type": "stream",
     "text": [
      "State at 0.0000: ['0.0000', '2.0000', '0.0000', '0.0000']\n",
      "State at 0.0100: ['0.0200', '1.9995', '-0.0981', '0.0000']\n",
      "State at 0.0200: ['0.0400', '1.9980', '-0.1962', '0.0000']\n",
      "...\n",
      "State at 0.4800: ['0.9600', '0.8699', '-4.7088', '0.0000']\n",
      "State at 0.4900: ['0.9800', '0.8223', '-4.8069', '0.0000']\n",
      "State at 0.5000: ['1.0000', '0.7737', '-4.9050', '0.0000']\n"
     ]
    }
   ],
   "source": [
    "from util.print import blog_print\n",
    "from dataclasses import dataclass\n",
    "\n",
    "@dataclass\n",
    "class SystemParameters:\n",
    "    start_time: float\n",
    "    end_time: float\n",
    "    max_jumps: int\n",
    "\n",
    "    # ✨ New! ✨ moving hardcoded terms out to this parameters structure\n",
    "    pressed_velocity: float # how fast should flappy rise when the button is pressed?\n",
    "    horizontal_velocity: float # how fast should flappy go to the right\n",
    "    gravity_acceleration:float # acceleration due to gravity\n",
    "\n",
    "class FlappyHybridSim:\n",
    "    \"\"\" This simulation class combines all the simulation constants: level, simulation parameters and ye four\n",
    "        functions.\n",
    "    \"\"\"\n",
    "    level: FlappyLevel\n",
    "    cur_params: SystemParameters | None # only gets set while we're in solve_system, None otherwise\n",
    "    # why aren't these in system params? They don't change! I want to keep these the same\n",
    "    # across many simulation runs\n",
    "    max_step:float\n",
    "    atol:float\n",
    "    rtol:float\n",
    "\n",
    "    def __init__(self, level:FlappyLevel):\n",
    "        self.level = level\n",
    "        self.cur_params = None\n",
    "        self.max_step=0.01\n",
    "        self.atol=1e-6\n",
    "        self.rtol=1e-6\n",
    "        \n",
    "\n",
    "    # ✨ New! ✨ logic to make sure we're not hitting a box, and integration with our level data structure\n",
    "    def solve_system(self, params:SystemParameters, start_state:State) -> list[Any]:\n",
    "        solution:list[Any] = [] # gradual typing is neat!\n",
    "        self.cur_params = params\n",
    "        cur_time = params.start_time\n",
    "        number_of_jumps = 0\n",
    "        state = start_state\n",
    "\n",
    "        if(self._flow_check(cur_time, state) == 0):\n",
    "            ode_sol = integrate.solve_ivp(\n",
    "                self._flow,\n",
    "                (cur_time, params.end_time),\n",
    "                state,\n",
    "                events=[self._jump_check],\n",
    "                max_step=self.max_step,\n",
    "                atol=self.atol,\n",
    "                rtol=self.rtol\n",
    "            )\n",
    "            if ode_sol.status == -1:\n",
    "                print(f\"Solver failed with message: {ode_sol.message}\")\n",
    "                return solution\n",
    "            for time, state in zip(ode_sol.t, ode_sol.y.T):\n",
    "                solution.append((time, state))\n",
    "\n",
    "            cur_time, state = solution[-1]\n",
    "         \n",
    "            if self._check_collision(state):\n",
    "                self.cur_params = None\n",
    "                return solution\n",
    "        \n",
    "            if (self._jump_check(cur_time, state) == 0):\n",
    "                state = self._jump(cur_time, state)\n",
    "                number_of_jumps += 1\n",
    "        self.cur_params = None \n",
    "        return solution\n",
    "    \n",
    "    # ✨ New! ✨ We're integrating the level into this function!\n",
    "    def _check_collision(self, state:State) -> bool:\n",
    "        if state[1] <= self.level.floor or state[1] >= self.level.ceiling:\n",
    "            return True\n",
    "        \n",
    "        # we need to actually see if we're inside a death box or not\n",
    "        # in a real game, we'd want to do a location based query (tell me what's nearby so I only check against nearby\n",
    "        # things) but our level is so simple right now, we can just test against all the geometry\n",
    "        for box in self.level.obstacles:\n",
    "            # I'm like 99% sure there's a way to rephrase this hellish if statement\n",
    "            # this'll get called within our solver, so state has lost it's nice property names :c\n",
    "            if state[0] >= box.top_left[0] and \\\n",
    "                state[0] <= box.top_left[0] + box.width and \\\n",
    "                state[1] >= box.top_left[0] and \\\n",
    "                state[1] <= box.top_left[1] + box.height:\n",
    "                return True\n",
    "\n",
    "        return False\n",
    "\n",
    "    # our four hybrid system functions have been refactored to work with the new constants in\n",
    "    # self.cur_params (and also get an _ prefix to say: \"hey, don't call this\")\n",
    "    def _flow(self, time:float, state:State) -> tuple[float, float, float, int]:\n",
    "        # this little test shows that our extra flexibility-- moving things like\n",
    "        # horizontal velocity to a passed in parameter-- is not free: we have an extra check\n",
    "        # to perform now\n",
    "        if not self.cur_params:\n",
    "            raise RuntimeError(\"Unable to get run parameters!\")\n",
    "\n",
    "        if state[3] == 0:\n",
    "            return StateDerivative(\n",
    "                delta_x_pos=self.cur_params.horizontal_velocity,\n",
    "                delta_y_pos=state[2],\n",
    "                delta_y_vel=self.cur_params.gravity_acceleration,\n",
    "                delta_pressed=0\n",
    "            )\n",
    "        elif state[3] == 1: #pressed\n",
    "            return StateDerivative(\n",
    "                delta_x_pos=self.cur_params.horizontal_velocity, \n",
    "                delta_y_pos=self.cur_params.pressed_velocity,\n",
    "                delta_y_vel=0,\n",
    "                delta_pressed=0 \n",
    "            )\n",
    "        else:\n",
    "            raise RuntimeError(f\"Invalid state! {state}, pressed != 0 or 1\")\n",
    "\n",
    "    def _flow_check(self, time:float, state:State) -> int:\n",
    "        return 0\n",
    "\n",
    "    def _jump(self, time:float, state:State) -> tuple[float, float, float, int]:\n",
    "        if not self.cur_params:\n",
    "            raise RuntimeError(\"Unable to get runtime parameters!\")\n",
    "\n",
    "        new_pressed = abs(state[3] - 1)\n",
    "        if new_pressed == 1:\n",
    "            return State(\n",
    "                x_pos=state[0],\n",
    "                y_pos=state[1],\n",
    "                y_vel=self.cur_params.pressed_velocity,\n",
    "                pressed=new_pressed\n",
    "            )\n",
    "        else:\n",
    "            return State(\n",
    "                x_pos=state[0],\n",
    "                y_pos=state[1],\n",
    "                y_vel=state[2],\n",
    "                pressed=new_pressed\n",
    "            )\n",
    "    \n",
    "    def _jump_check(self, time:float, state:State) -> int:\n",
    "        if self._check_collision(state):\n",
    "            return 0\n",
    " \n",
    "        if time >= 0.5 and \\\n",
    "            time < 0.6 and \\\n",
    "                state[3] != 1:\n",
    "            return 0\n",
    "        elif time >= 0.6 and \\\n",
    "            state[3] != 0:\n",
    "            return 0\n",
    "        else:\n",
    "            return 1\n",
    "    _jump_check.terminal = True\n",
    "\n",
    "single_run_params = SystemParameters(\n",
    "    start_time=0.0,\n",
    "    end_time=5.0,\n",
    "    max_jumps=5,\n",
    "    pressed_velocity=2.0,\n",
    "    horizontal_velocity=2.0,\n",
    "    gravity_acceleration=-9.81\n",
    ")\n",
    "start_state = State(x_pos=0.0, y_pos=2.0, y_vel=0.0, pressed=0.0)\n",
    "sim = FlappyHybridSim(sample_level)\n",
    "solution = sim.solve_system(single_run_params, start_state)\n",
    "blog_print(solution, lambda line: f\"State at {line[0]:0.04f}: {[f'{val:0.04f}' for val in line[1]]}\")"
   ]
  },
  {
   "cell_type": "code",
   "execution_count": 21,
   "metadata": {
    "tags": [
     "ignore_cell"
    ]
   },
   "outputs": [
    {
     "name": "stdout",
     "output_type": "stream",
     "text": [
      "TOP LEVEL OF BLOG EXPORT\n",
      "<class '__main__.FlappyHybridSim'>\n",
      "base type: <class '__main__.FlappyLevel'>\n",
      "differing <class '__main__.FlappyLevel'>\n",
      "base type: <class 'types.UnionType'>\n",
      "base type: <class '__main__.SystemParameters'>\n",
      "differing <class '__main__.SystemParameters'>\n",
      "base type: <class 'NoneType'>\n",
      "base type: <class 'float'>\n",
      "base type: <class 'float'>\n",
      "base type: <class 'float'>\n",
      "base type: <class '__main__.FlappyLevel'>\n",
      "differing <class '__main__.FlappyLevel'>\n",
      "base type: <class '__main__.State'>\n",
      "differing <class '__main__.State'>\n",
      "base type: <class 'bool'>\n",
      "differing <class '__main__.StateDerivative'>\n",
      "base type: <class 'float'>\n",
      "base type: <class '__main__.State'>\n",
      "differing <class '__main__.State'>\n",
      "base type: <class 'tuple'>\n",
      "base type: <class 'float'>\n",
      "base type: <class 'float'>\n",
      "base type: <class 'float'>\n",
      "base type: <class 'int'>\n",
      "base type: <class 'float'>\n",
      "base type: <class '__main__.State'>\n",
      "differing <class '__main__.State'>\n",
      "base type: <class 'int'>\n",
      "differing <class '__main__.State'>\n",
      "base type: <class 'float'>\n",
      "base type: <class '__main__.State'>\n",
      "differing <class '__main__.State'>\n",
      "base type: <class 'tuple'>\n",
      "base type: <class 'float'>\n",
      "base type: <class 'float'>\n",
      "base type: <class 'float'>\n",
      "base type: <class 'int'>\n",
      "base type: <class 'float'>\n",
      "base type: <class '__main__.State'>\n",
      "differing <class '__main__.State'>\n",
      "base type: <class 'int'>\n",
      "base type: <class '__main__.SystemParameters'>\n",
      "differing <class '__main__.SystemParameters'>\n",
      "base type: <class '__main__.State'>\n",
      "differing <class '__main__.State'>\n",
      "base type: <class 'list'>\n",
      "base type: typing.Any\n",
      "TOP LEVEL OF BLOG EXPORT\n",
      "<class '__main__.SystemParameters'>\n",
      "base type: <class 'float'>\n",
      "base type: <class 'float'>\n",
      "base type: <class 'int'>\n",
      "base type: <class 'float'>\n",
      "base type: <class 'float'>\n",
      "base type: <class 'float'>\n",
      "skip __eq__, couldn't get source code for it. May be generated by Python\n",
      "skip __init__, couldn't get source code for it. May be generated by Python\n",
      "skip __repr__, couldn't get source code for it. May be generated by Python\n",
      "TOP LEVEL OF BLOG EXPORT\n",
      "<class '__main__.StateDerivative'>\n",
      "TOP LEVEL OF BLOG EXPORT\n",
      "<class '__main__.State'>\n",
      "TOP LEVEL OF BLOG EXPORT\n",
      "<class '__main__.FlappyLevel'>\n",
      "base type: <class 'float'>\n",
      "base type: <class 'float'>\n",
      "base type: <class 'list'>\n",
      "base type: <class '__main__.BoundingBox'>\n",
      "differing <class '__main__.BoundingBox'>\n",
      "skip __eq__, couldn't get source code for it. May be generated by Python\n",
      "skip __init__, couldn't get source code for it. May be generated by Python\n",
      "skip __repr__, couldn't get source code for it. May be generated by Python\n",
      "TOP LEVEL OF BLOG EXPORT\n",
      "<class '__main__.BoundingBox'>\n",
      "base type: <class 'tuple'>\n",
      "base type: <class 'float'>\n",
      "base type: <class 'float'>\n",
      "base type: <class 'float'>\n",
      "base type: <class 'float'>\n",
      "skip __eq__, couldn't get source code for it. May be generated by Python\n",
      "skip __init__, couldn't get source code for it. May be generated by Python\n",
      "skip __repr__, couldn't get source code for it. May be generated by Python\n"
     ]
    }
   ],
   "source": [
    "from util.export.export import blog_export\n",
    "# holding onto the jupyter magic _ih[len(_ih) - 2] for getting cell input\n",
    "# PICK UP THE EXPORT SAGA HERE-- the sim doesn't have the right annotations for its attributes, but we can fix that! Maybe!\n",
    "blog_export(FlappyHybridSim, Path(\"./tmp/modeling_flappy_bird\"))"
   ]
  },
  {
   "cell_type": "code",
   "execution_count": 20,
   "metadata": {},
   "outputs": [
    {
     "name": "stdout",
     "output_type": "stream",
     "text": [
      "TOP LEVEL OF BLOG EXPORT\n",
      "<class '__main__.FlappyLevel'>\n",
      "base type: <class 'float'>\n",
      "base type: <class 'float'>\n",
      "base type: <class 'list'>\n",
      "base type: <class '__main__.BoundingBox'>\n",
      "differing <class '__main__.BoundingBox'>\n",
      "skip __eq__, couldn't get source code for it. May be generated by Python\n",
      "skip __init__, couldn't get source code for it. May be generated by Python\n",
      "skip __repr__, couldn't get source code for it. May be generated by Python\n",
      "TOP LEVEL OF BLOG EXPORT\n",
      "<class '__main__.BoundingBox'>\n",
      "base type: <class 'tuple'>\n",
      "base type: <class 'float'>\n",
      "base type: <class 'float'>\n",
      "base type: <class 'float'>\n",
      "base type: <class 'float'>\n",
      "skip __eq__, couldn't get source code for it. May be generated by Python\n",
      "skip __init__, couldn't get source code for it. May be generated by Python\n",
      "skip __repr__, couldn't get source code for it. May be generated by Python\n"
     ]
    }
   ],
   "source": [
    "blog_export(FlappyLevel, Path(\"./tmp/modeling_flappy_bird\"))"
   ]
  },
  {
   "cell_type": "markdown",
   "metadata": {},
   "source": [
    "Ugh, as a graph, please?"
   ]
  },
  {
   "cell_type": "code",
   "execution_count": 17,
   "metadata": {
    "execution": {
     "iopub.execute_input": "2024-01-18T01:14:51.146733Z",
     "iopub.status.busy": "2024-01-18T01:14:51.146666Z",
     "iopub.status.idle": "2024-01-18T01:14:51.244801Z",
     "shell.execute_reply": "2024-01-18T01:14:51.244592Z"
    },
    "tags": [
     "ignore_cell"
    ]
   },
   "outputs": [
    {
     "data": {
      "image/png": "[encoded data removed]",
      "text/plain": [
       "<Figure size 640x480 with 1 Axes>"
      ]
     },
     "metadata": {},
     "output_type": "display_data"
    }
   ],
   "source": [
    "write_csv(solution, \"../tmp/flapping_birds_single_flap_level.csv\")\n",
    "data = SimData.from_csv(\n",
    "    Path(\"../tmp/flapping_birds_single_flap_long.csv\")\n",
    ")\n",
    "graph = Graph(\n",
    "    background=blog_palette[\"background\"],\n",
    "    foreground=blog_palette[\"foreground\"],\n",
    "    title=\"Flappy Bird Simulation\",\n",
    "    figures=[(1,1,1)]\n",
    ")\n",
    "graph.set_axis_labels(0, \"y position\", \"x position\")\n",
    "for idx, bbox in enumerate(sim.level.obstacles):\n",
    "    box_id = f\"flappy-pipe-{idx}\"\n",
    "    graph.add_rectangle(0, bbox.top_left, bbox.width, bbox.height, box_id)\n",
    "    graph.add_style(\n",
    "        box_id,\n",
    "        block_css_fmt,\n",
    "        {\n",
    "           \"style_name\": \"pipe\",\n",
    "           \"stroke_color\": blog_palette[\"foreground\"],\n",
    "           \"fill_color\": blog_palette[\"background_var\"] \n",
    "        }\n",
    "    )\n",
    "plotted_ids = graph.plot(0, data.x_pos, data.y_pos, \"flappy-height\")\n",
    "for id in plotted_ids:\n",
    "    graph.add_style(\n",
    "        id,\n",
    "        animated_path_css_fmt,\n",
    "        {\n",
    "            \"style_name\": \"animated_path\",\n",
    "            \"stroke_color\": blog_palette[\"foreground\"],\n",
    "            \"fill_color\": blog_palette[\"background\"]\n",
    "        }\n",
    "    )\n",
    "\n",
    "graph.save(\"../content/images/flapping_birds_single_flap_level.svg\")"
   ]
  },
  {
   "cell_type": "markdown",
   "metadata": {},
   "source": [
    "![A very silly level of flappy bird, where we have two pipes that flappy narrowly skips through]({static}/images/flapping_birds_single_flap_level.svg)\n",
    "\n",
    "Ok, well, it's not the best level of all time but it is a level! I'm gonna make a better level. And just as a fun little treat, what if I didn't have to write a Flappy bird level by hand each time? I don't really have a good way to do that, after all. Writing out all that level data by hand in Python isn't a super funky fresh time. What if I had a little procedural level generation, as a treat?"
   ]
  },
  {
   "cell_type": "markdown",
   "metadata": {},
   "source": [
    "### A Little Procedural Level Generation, as a Treat\n",
    "\n",
    "Procedural level generation, it's aesthetics and dynamics, what its good at and what its bad at, is a debated topic. I'm mostly writing a level generator as a replacement for writing a level design tool-- and also because the original matlab had one, so I don't have to think too hard about an algorithm[^5]\n",
    "\n",
    "[^5]: ok, a look behind the curtain: I originally wrote this whole simulation system in Python last year. I've only recently started rewriting everything up as these blog posts. As part of my original work, I wrote a procedural level generation system. I have the Python code here. I _swore_ I cribbed it from the original paper's [Matlab reference implementation](https://github.com/HybridSystemsLab/FlappyBirdReachability). But, now that I'm writing this blog post, I can't find it. The Matlab code has five fixed choices for a simulation level, but no procedure for generating one on the fly. I'm still not convinced that I came up with this, not that it's particularly clever but I'm particularly dumb. I'm sticking to my story."
   ]
  },
  {
   "cell_type": "markdown",
   "metadata": {},
   "source": [
    "Here's a weird thing about Flappy Bird levels: the pipes are always aligned with each other. My mismatched death boxes never happens. It also kinda looks like the pipes are _regularly_ spaced apart, too. I'm gonna mark up a [screenshot from a Java clone of the original Flappy Bird](https://github.com/williamfiset/FlappyBird) with some distance relationships in a snippet:\n",
    "\n",
    "![A marked up screenshot of Flappy Bird, pointing out how the horiztonal distance between pipes is always the same, and the vertical gap between pipes is also always the same]({static}/images/flappy_markup_markup.png)\n",
    "\n",
    "The horizontal distance between pipes is always the same, and the vertical gap between pipes is also always the same. There's a minimum height for a pipe to be, and a corresponding maximum height. Flappy Bird levels aren't very random at all, when you look at it. So, uh, what might an algorithm for generating a level look like?\n",
    "\n",
    "Well, I can place a pair of pipes, a top pipe and bottom pipe, at some regular interval. Say, uh, 2. So, the first pair of pipes would go at, say, x position 1. Then the next pair of pipes would go in at `1 + pipe_width + 2`. The third pipe would go at `(1 + pipe_width + 2) + pipe_width + 2`, and so on. It's recursive! Gotta love to see it.\n",
    "\n",
    "For heights, we know there's always a fixed gap between pipes... lets say, 1. We know there's a minimum pipe height, let's also make that 1. We can than randomly pick a bottom pipe hight from 1 - 3, and we can figure out our top pipe hight by all the constraints we've placed (keeping with our convention that the ceiling is at 5, and the floor is at 0). if the bottom pipe is 1 tall, then there's a gap of 1, which means the top pipe must be 3 tall. And because the top pipe must always have at least a hight of 1 and that there must always be a gap of at least 1, the bottom pipe can't be any taller than 3.\n",
    "\n",
    "It's a little funny how deeply constrained this whole thing is, at least to me. Let's write some Python:"
   ]
  },
  {
   "cell_type": "code",
   "execution_count": 18,
   "metadata": {
    "execution": {
     "iopub.execute_input": "2024-01-18T01:14:51.246150Z",
     "iopub.status.busy": "2024-01-18T01:14:51.246084Z",
     "iopub.status.idle": "2024-01-18T01:14:51.251523Z",
     "shell.execute_reply": "2024-01-18T01:14:51.251328Z"
    }
   },
   "outputs": [
    {
     "ename": "TypeError",
     "evalue": "SystemParameters.__init__() missing 3 required positional arguments: 'pressed_velocity', 'horizontal_velocity', and 'gravity_acceleration'",
     "output_type": "error",
     "traceback": [
      "\u001b[0;31m---------------------------------------------------------------------------\u001b[0m",
      "\u001b[0;31mTypeError\u001b[0m                                 Traceback (most recent call last)",
      "\u001b[1;32m/Users/johnathan/Desktop/Code/Blather/src/flapping-birds.ipynb Cell 37\u001b[0m line \u001b[0;36m3\n\u001b[1;32m     <a href='vscode-notebook-cell:/Users/johnathan/Desktop/Code/Blather/src/flapping-birds.ipynb#Y153sZmlsZQ%3D%3D?line=29'>30</a>\u001b[0m         pipes\u001b[39m.\u001b[39mappend(BoundingBox((left_side, upper_bound), pipe_width, top_pipe_height))\n\u001b[1;32m     <a href='vscode-notebook-cell:/Users/johnathan/Desktop/Code/Blather/src/flapping-birds.ipynb#Y153sZmlsZQ%3D%3D?line=31'>32</a>\u001b[0m     \u001b[39mreturn\u001b[39;00m FlappyLevel(lower_bound, upper_bound, pipes)\n\u001b[0;32m---> <a href='vscode-notebook-cell:/Users/johnathan/Desktop/Code/Blather/src/flapping-birds.ipynb#Y153sZmlsZQ%3D%3D?line=33'>34</a>\u001b[0m hybrid_system_params \u001b[39m=\u001b[39m SystemParameters(\u001b[39m0.0\u001b[39;49m, \u001b[39m5.0\u001b[39;49m, \u001b[39m5\u001b[39;49m)\n\u001b[1;32m     <a href='vscode-notebook-cell:/Users/johnathan/Desktop/Code/Blather/src/flapping-birds.ipynb#Y153sZmlsZQ%3D%3D?line=34'>35</a>\u001b[0m start_state \u001b[39m=\u001b[39m State(x_pos\u001b[39m=\u001b[39m\u001b[39m0.0\u001b[39m, y_pos\u001b[39m=\u001b[39m\u001b[39m2.0\u001b[39m, y_vel\u001b[39m=\u001b[39m\u001b[39m0.0\u001b[39m, pressed\u001b[39m=\u001b[39m\u001b[39m0.0\u001b[39m)\n\u001b[1;32m     <a href='vscode-notebook-cell:/Users/johnathan/Desktop/Code/Blather/src/flapping-birds.ipynb#Y153sZmlsZQ%3D%3D?line=35'>36</a>\u001b[0m generated_level \u001b[39m=\u001b[39m generate_flappy_level(\u001b[39m99\u001b[39m)\n",
      "\u001b[0;31mTypeError\u001b[0m: SystemParameters.__init__() missing 3 required positional arguments: 'pressed_velocity', 'horizontal_velocity', and 'gravity_acceleration'"
     ]
    }
   ],
   "source": [
    "import random\n",
    "from typing import Optional\n",
    "\n",
    "def generate_flappy_level(seed: Optional[int]) -> FlappyLevel:\n",
    "    # hold up partner, what's that seed argument?\n",
    "    # it's a magic number to kick off random choices-- rnd(seed) will always give the same sequence of numbers.\n",
    "    # this is mostly useful for developers to get repeatable behavior from code that needs randomness for debugging\n",
    "    # or evaluation. It's also used by Slay the Spire players to find unwinnable games.\n",
    "    if seed: random.seed(seed)\n",
    "\n",
    "    # this is a bunch of stuff that should be parameters (really, wrapped up in a struct as like FlappyLevelGenParams or some such)\n",
    "    # but works well enough for explaining the procedure\n",
    "    lower_bound: float = 0.0\n",
    "    upper_bound: float = 5.0\n",
    "    x_start: float = 1.0\n",
    "    x_period: float = 2.0\n",
    "    heights: List[float] = [1, 1.5, 2, 2.5, 3] # breaking down our \"random height from 1-3\" into five distinct choices. It'll add a little chop to the level, which I think is good, actually\n",
    "    \n",
    "    pipe_width: float = 0.7\n",
    "    gap: float = 1.0\n",
    "    num_gaps: int = 6 # this is the size of our level, in terms of \"number of gaps between pipes to clear\".\n",
    "                      # As we'll see later, this is more than long enough before we hit other problems.\n",
    "\n",
    "    pipes = []\n",
    "    for i in range(num_gaps):\n",
    "        left_side = x_start + x_period * i\n",
    "        bottom_pipe_height = random.choice(heights)\n",
    "        top_pipe_height = upper_bound - (bottom_pipe_height + gap)\n",
    "        pipes.append(BoundingBox((left_side, bottom_pipe_height), pipe_width, bottom_pipe_height))\n",
    "        pipes.append(BoundingBox((left_side, upper_bound), pipe_width, top_pipe_height))\n",
    "\n",
    "    return FlappyLevel(lower_bound, upper_bound, pipes)\n",
    "\n",
    "hybrid_system_params = SystemParameters(0.0, 5.0, 5)\n",
    "start_state = State(x_pos=0.0, y_pos=2.0, y_vel=0.0, pressed=0.0)\n",
    "generated_level = generate_flappy_level(99)\n",
    "sim = FlappyHybridSim(generated_level)\n",
    "solution = sim.solve_system(hybrid_system_params, start_state)"
   ]
  },
  {
   "cell_type": "code",
   "execution_count": null,
   "metadata": {
    "execution": {
     "iopub.execute_input": "2024-01-18T01:14:51.252750Z",
     "iopub.status.busy": "2024-01-18T01:14:51.252679Z",
     "iopub.status.idle": "2024-01-18T01:14:51.376060Z",
     "shell.execute_reply": "2024-01-18T01:14:51.375847Z"
    },
    "tags": [
     "ignore_cell"
    ]
   },
   "outputs": [],
   "source": [
    "write_csv(solution, \"../tmp/flapping_birds_single_flap_gen_level.csv\")\n",
    "data = SimData.from_csv(\n",
    "    Path(\"../tmp/flapping_birds_single_flap_gen_level.csv\")\n",
    ")\n",
    "graph = Graph(\n",
    "    background=blog_palette[\"background\"],\n",
    "    foreground=blog_palette[\"foreground\"],\n",
    "    title=\"Flappy Bird Simulation\",\n",
    "    figures=[(1,1,1)]\n",
    ")\n",
    "graph.set_axis_labels(0, \"y position\", \"x position\")\n",
    "for idx, bbox in enumerate(sim.level.obstacles):\n",
    "    box_id = f\"flappy-pipe-{idx}\"\n",
    "    graph.add_rectangle(0, bbox.top_left, bbox.width, bbox.height, box_id)\n",
    "    graph.add_style(\n",
    "        box_id,\n",
    "        block_css_fmt,\n",
    "        {\n",
    "           \"style_name\": \"pipe\",\n",
    "           \"stroke_color\": blog_palette[\"foreground\"],\n",
    "           \"fill_color\": blog_palette[\"background_var\"] \n",
    "        }\n",
    "    )\n",
    "plotted_ids = graph.plot(0, data.x_pos, data.y_pos, \"flappy-height\")\n",
    "for id in plotted_ids:\n",
    "    graph.add_style(\n",
    "        id,\n",
    "        animated_path_css_fmt,\n",
    "        {\n",
    "            \"style_name\": \"animated_path\",\n",
    "            \"stroke_color\": blog_palette[\"foreground\"],\n",
    "            \"fill_color\": blog_palette[\"background\"]\n",
    "        }\n",
    "    )\n",
    "\n",
    "graph.save(\"../content/images/flapping_birds_single_flap_gen_level.svg\")"
   ]
  },
  {
   "cell_type": "markdown",
   "metadata": {},
   "source": [
    "![A much longer and more drawn out level of flappy bird, where flappy eats shit immediately]({static}/images/flapping_birds_single_flap_gen_level.svg)\n",
    "\n",
    "Yeah, just like that! We can even watch our poor sim bomb out now that the \"pipes\" are in a more correct place.\n",
    "\n",
    "Huh.\n",
    "\n",
    "Maybe we should like, figure out how to [control Flappy the Bird better than just hardcoding the poor avian]({filename}/steering-birds.md). "
   ]
  },
  {
   "cell_type": "markdown",
   "metadata": {},
   "source": []
  }
 ],
 "metadata": {
  "kernelspec": {
   "display_name": ".venv",
   "language": "python",
   "name": "python3"
  },
  "language_info": {
   "codemirror_mode": {
    "name": "ipython",
    "version": 3
   },
   "file_extension": ".py",
   "mimetype": "text/x-python",
   "name": "python",
   "nbconvert_exporter": "python",
   "pygments_lexer": "ipython3",
   "version": "3.11.4"
  }
 },
 "nbformat": 4,
 "nbformat_minor": 2
}
