{
 "cells": [
  {
   "cell_type": "markdown",
   "metadata": {},
   "source": [
    "Title: What Makes The Flappy Bird Flap?   \n",
    "Date: 2023-03-17   \n",
    "Category: Tech   \n",
    "Tags: Simulations   \n",
    "Slug: modeling-flappy-bird   \n",
    "Summary: If we can model a [bouncing ball]({filename}/bouncing-balls.md), what about a flapping bird?   \n",
    "Status: draft   "
   ]
  },
  {
   "cell_type": "markdown",
   "metadata": {},
   "source": [
    "[Previously]({filename}/bouncing-balls.md), I wrote a lot about [Hybrid Dynamic Systems]({https://dl.acm.org/doi/pdf/10.1145/3337722.3337757}) and simulating a simple bouncing ball.\n",
    "\n",
    "I wrote a bunch of something adjacent to Python code about it. What about a real video game? Can we use this framework to simulate a video game?"
   ]
  },
  {
   "cell_type": "markdown",
   "metadata": {},
   "source": [
    "### The Model of Flappy Bird\n",
    "Ok, to recap, I need four functions:  \n",
    "\n",
    "* ```flow(...)``` tells me how the game changes over time, by taking in the current time and the state, and giving me the derivative of the state with respect to time  \n",
    "\n",
    "* ```jump(...)``` tells me how the game changes instantly, snapping from one state to another. It takes in a time and a state and returns a different state.  \n",
    "\n",
    "* ```flow_check(...)``` tells me if the game should be flowing or not. It takes in a time and a state and returns an integer (0 for not flowing, 1 for flowing). It's gotta be an `int` to work with other libraries to use this model.  \n",
    "\n",
    "* ```jump_check(...)``` tells me if the game should jump or not. It takes in a time and a state and returns an integer (0 for do not jump, 1 for jump). It's gotta be an `int` for the same reasons ```flow_check``` does.\n",
    "\n",
    "All these functions deal with state... so what state does flappy bird need? Well, we'll need both vertical and horizontal position because those will change. We'll need vertical velocity because the rate that the bird rises (or falls) changes based on time and input.\n",
    "\n",
    "Oh! And something to track if the player is pushing the flap button or not. And, I know that eventually this all needs to be an `array-like`."
   ]
  },
  {
   "cell_type": "code",
   "execution_count": 2,
   "metadata": {},
   "outputs": [
    {
     "name": "stdout",
     "output_type": "stream",
     "text": [
      "State(x_pos=0.0, y_pos=2.0, y_vel=0.0, pressed=1)\n"
     ]
    }
   ],
   "source": [
    "from collections import namedtuple\n",
    "\n",
    "# as before, a named tuple doesn't really solve our problems\n",
    "# but it does make the constructor a little nicer\n",
    "# its easy enough to make a class that implements the right protocols, but compactness, yeah?\n",
    "State = namedtuple('State', ['x_pos', 'y_pos', 'y_vel', 'pressed'])\n",
    "state = State(x_pos=0.0, y_pos=2.0, y_vel=0.0, pressed=1)\n",
    "print(state)"
   ]
  },
  {
   "cell_type": "markdown",
   "metadata": {},
   "source": [
    "Ok, so let's march through, starting with `flow`. Flappy the bird always moves right at a constant speed, so the derivative of their `x` position is a constant velocity. When they're falling, Flappy the bird accelerates-- so when `pressed == 0`, `y` position should change according to whatever `y` velocity is, and `y` velocity should change at a magic `-9.81`. `pressed` should never change during flows, it's derivative is `0`. So flow looks a little like..."
   ]
  },
  {
   "cell_type": "code",
   "execution_count": 3,
   "metadata": {},
   "outputs": [
    {
     "name": "stdout",
     "output_type": "stream",
     "text": [
      "StateDerivative(delta_x_pos=2.0, delta_y_pos=0.0, delta_y_vel=-9.81, delta_pressed=0)\n"
     ]
    }
   ],
   "source": [
    "from typing import Tuple\n",
    "# delta here is just shorthand for \"change in\", what this is tracking is how the corresponding state elements\n",
    "# change over time \n",
    "StateDerivative = namedtuple('StateDerivative', ['delta_x_pos', 'delta_y_pos', 'delta_y_vel', 'delta_pressed'])\n",
    "def flow(time:float, state:State) -> Tuple[float, float, float, int]:\n",
    "    return StateDerivative(\n",
    "        delta_x_pos=2.0, # this is a bit of an extra magic number. It could be anything positive.\n",
    "        delta_y_pos=state[2], # this is y_vel in our state vector\n",
    "        delta_y_vel=-9.81,\n",
    "        delta_pressed=0\n",
    "    )\n",
    "# time, just like before, is arbitrary until we hook up the ODE solver\n",
    "state_derivative = flow(0.0, State(\n",
    "    x_pos=0.0,\n",
    "    y_pos=2.0,\n",
    "    y_vel=0.0,\n",
    "    pressed=1\n",
    "))\n",
    "print(state_derivative)"
   ]
  },
  {
   "cell_type": "markdown",
   "metadata": {},
   "source": [
    "But... that's only half the problem, right? What about when flappy is flapping? At least from a pure mathematics / physics perspective flappy flaps kinda... oddly.\n",
    "\n",
    "Flappy doesn't accelerate when they flap. They move upward at a constant velocity.\n",
    "\n",
    "I'm sure you, handsome reader, know this already but: this is _really_ common in action games like platformers! It makes characters easier to control and more predictable-- if your button presses applied acceleration, rather than pure velocity, you'd need to counteract your current trajectory before going somewhere new. It'd make poor flappy a lot less mobile[^1].\n",
    "\n",
    "[^1]: This is why spaceship flight in _Outer Wilds_ takes a bit of getting used to. Racing games also usually model acceleration for that good braking and skidding feel.\n",
    "\n",
    "So, lets add all that in"
   ]
  },
  {
   "cell_type": "code",
   "execution_count": 4,
   "metadata": {},
   "outputs": [
    {
     "name": "stdout",
     "output_type": "stream",
     "text": [
      "How we flow when the flap button is not pressed:\n",
      "StateDerivative(delta_x_pos=2.0, delta_y_pos=0.0, delta_y_vel=-9.81, delta_pressed=0)\n",
      "How we flow when the flap button is pressed:\n",
      "StateDerivative(delta_x_pos=2.0, delta_y_pos=2.0, delta_y_vel=0, delta_pressed=0)\n"
     ]
    }
   ],
   "source": [
    "def flow(time:float, state:State) -> Tuple[float, float, float, int]:\n",
    "    if state[3] == 0: # <-- ✨ New! ✨ not pressed\n",
    "        return StateDerivative(\n",
    "            delta_x_pos=2.0,\n",
    "            delta_y_pos=state[2],\n",
    "            delta_y_vel=-9.81,\n",
    "            delta_pressed=0\n",
    "        )\n",
    "    # also ✨ New! ✨, this handles our pressed case\n",
    "    elif state[3] == 1: #pressed\n",
    "        return StateDerivative(\n",
    "            delta_x_pos=2.0, \n",
    "            delta_y_pos=2.0, # just like the change in x position, this is also pretty magic\n",
    "            delta_y_vel=0, # y velocity doesn't change, it's constant while flapping!\n",
    "            delta_pressed=0 \n",
    "        )\n",
    "    else:\n",
    "        raise RuntimeError(f\"Invalid state! {state}, pressed != 0 or 1\")\n",
    "    \n",
    "unpressed_state_derivative = flow(0.0, State(\n",
    "    x_pos=0.0,\n",
    "    y_pos=2.0,\n",
    "    y_vel=0.0,\n",
    "    pressed=0\n",
    "))\n",
    "print(\"How we flow when the flap button is not pressed:\")\n",
    "print(unpressed_state_derivative)\n",
    "\n",
    "pressed_state_derivative = flow(0.0, State(\n",
    "    x_pos=0.0,\n",
    "    y_pos=2.0,\n",
    "    y_vel=0.0,\n",
    "    pressed=1 #<-- ✨ note the difference! ✨\n",
    "))\n",
    "print(\"How we flow when the flap button is pressed:\")\n",
    "print(pressed_state_derivative)"
   ]
  },
  {
   "cell_type": "markdown",
   "metadata": {},
   "source": [
    "That seems about right to me! And since we're here, let's do `flow_check`... and, for right now, it's also going to be very, very simple just to get us off the ground."
   ]
  },
  {
   "cell_type": "code",
   "execution_count": 5,
   "metadata": {},
   "outputs": [],
   "source": [
    "def flow_check(time:float, state:State) -> int:\n",
    "    # yeah, we're always flowing again. 🙃\n",
    "    return 0"
   ]
  },
  {
   "cell_type": "markdown",
   "metadata": {},
   "source": [
    "Ok, `jump` time. Well, flappy only jumps when we provide input. We need to both record that in the state, so we'll flow correctly and also set flappy's `y` velocity to what it should be when the button is pressed. Ya know, _do_ the jump.\n",
    "\n",
    "`jump_check` is... just gonna never jump for now. We can check to make sure flappy falls correctly before adding more complex logic."
   ]
  },
  {
   "cell_type": "code",
   "execution_count": 6,
   "metadata": {},
   "outputs": [
    {
     "name": "stdout",
     "output_type": "stream",
     "text": [
      "For pressing the button:\n",
      "Jumping from State(x_pos=0.0, y_pos=2.0, y_vel=0.0, pressed=0)\n",
      "to State(x_pos=0.0, y_pos=2.0, y_vel=2.0, pressed=1)\n",
      "----------\n",
      "For releasing the button:\n",
      "Jumping from State(x_pos=0.0, y_pos=2.0, y_vel=0.0, pressed=1)\n",
      "to State(x_pos=0.0, y_pos=2.0, y_vel=0.0, pressed=0)\n"
     ]
    }
   ],
   "source": [
    "def jump(time:float, state:State) -> Tuple[float, float, float, int]:\n",
    "    new_pressed = abs(state[3] - 1) # a bit of a trick to flip 1 to 0 and 0 to 1. Not efficient \n",
    "    if new_pressed == 1: #if we're going from not pressed to pressed...\n",
    "        return State(\n",
    "            x_pos=state[0],\n",
    "            y_pos=state[1],\n",
    "            y_vel=2.0, # using the same magic number as before! \n",
    "            pressed=new_pressed\n",
    "        )\n",
    "    else:\n",
    "        return State(\n",
    "            x_pos=state[0],\n",
    "            y_pos=state[1],\n",
    "            y_vel=state[2],\n",
    "            pressed=new_pressed # almost an exact copy, except we change the pressed flag\n",
    "        )\n",
    "    \n",
    "def jump_check(time:float, state:State) -> int:\n",
    "    return 1 # never jump for now\n",
    "\n",
    "old_state = State(\n",
    "    x_pos=0.0,\n",
    "    y_pos=2.0,\n",
    "    y_vel=0.0,\n",
    "    pressed=0\n",
    ")\n",
    "new_pressed_state = jump(0.0, old_state)\n",
    "print(\"For pressing the button:\")\n",
    "print(f\"Jumping from {old_state}\")\n",
    "print(f\"to {new_pressed_state}\")\n",
    "print(\"----------\")\n",
    "\n",
    "old_state = State(\n",
    "    x_pos=0.0,\n",
    "    y_pos=2.0,\n",
    "    y_vel=0.0,\n",
    "    pressed=1\n",
    ")\n",
    "new_released_state = jump(0.0, old_state)\n",
    "print(\"For releasing the button:\")\n",
    "print(f\"Jumping from {old_state}\")\n",
    "print(f\"to {new_released_state}\")"
   ]
  },
  {
   "cell_type": "markdown",
   "metadata": {},
   "source": [
    "Alright. I'm gonna steal the `Hybrid System` and `System Parameters` structs from [the last article]({filename}/bouncing-balls.md). And while I'm there, lets snag the `solve_system` function too. And the graphing code, so we can see what this system does.\n",
    "\n",
    "aaaannnnnnd"
   ]
  },
  {
   "cell_type": "code",
   "execution_count": 7,
   "metadata": {
    "tags": [
     "ignore_cell"
    ]
   },
   "outputs": [],
   "source": [
    "# this cell is ignored, and is a big mess of functions to run ye hybrid system, dump results to a file and graph it\n",
    "from typing import List, Any, Callable\n",
    "from dataclasses import dataclass\n",
    "from scipy import integrate\n",
    "import csv\n",
    "\n",
    "@dataclass\n",
    "class HybridSystem():\n",
    "    \"\"\" Collect all our functions into one structure for ease of being able to remember things later.\n",
    "    \"\"\"\n",
    "    flow: Callable\n",
    "    flow_check: Callable\n",
    "    jump: Callable\n",
    "    jump_check: Callable\n",
    "\n",
    "@dataclass\n",
    "class SystemParameters():\n",
    "    \"\"\" Setting up some stopping points: what our time interval to solve over should be, and the maximum\n",
    "        number of jumps we want to have before we call it quits.\n",
    "        Should probably just be an attribute of the hybrid system up there\n",
    "    \"\"\"\n",
    "    start_time: float\n",
    "    end_time: float\n",
    "    max_jumps: int\n",
    "\n",
    "def solve_system(system:HybridSystem, params:SystemParameters, start_state:State) -> List[Any]:\n",
    "    solution:List[Any] = [] # gradual typing is neat!\n",
    "    cur_time = params.start_time\n",
    "    number_of_jumps = 0\n",
    "    state = start_state\n",
    "\n",
    "    while (cur_time < params.end_time and number_of_jumps < params.max_jumps):\n",
    "        if(system.flow_check(cur_time, state) == 0):\n",
    "            ode_sol = integrate.solve_ivp(\n",
    "                system.flow,\n",
    "                (cur_time, params.end_time),\n",
    "                state,\n",
    "                # ✨ New! ✨\n",
    "                events=[system.jump_check],\n",
    "                max_step=0.01,\n",
    "                atol=1e-6,\n",
    "                rtol=1e-6\n",
    "            )\n",
    "            if ode_sol.status == -1:\n",
    "                print(f\"Solver failed with message: {ode_sol.message}\")\n",
    "                return solution\n",
    "            for time, state in zip(ode_sol.t, ode_sol.y.T):\n",
    "                solution.append((time, state))\n",
    "\n",
    "            cur_time, state = solution[-1] # the last element in the solution is our new current state\n",
    "\n",
    "        # if we're not flowing, we, by definition, must be jumping. In practice, we want some\n",
    "        # stronger asserts here to prevent infinite loops\n",
    "        if (system.jump_check(cur_time, state) == 0):\n",
    "            state = jump(cur_time, state)\n",
    "            number_of_jumps += 1\n",
    "    \n",
    "    return solution\n",
    "\n",
    "def write_csv(solution: List, filepath: str):\n",
    "    with open(filepath, \"w\") as f:\n",
    "        writer = csv.DictWriter(f=f, fieldnames=[\"time\", \"x_pos\", \"y_pos\", \"y_vel\", \"pressed\"])\n",
    "        writer.writeheader()\n",
    "        for time, state in solution:\n",
    "            writer.writerow({\n",
    "                \"time\": time,\n",
    "                \"x_pos\": state[0],\n",
    "                \"y_pos\": state[1],\n",
    "                \"y_vel\": state[2],\n",
    "                \"pressed\": state[3]\n",
    "            })\n",
    "\n",
    "flappy_bird_hybrid_system = HybridSystem(flow, flow_check, jump, jump_check)\n",
    "hybrid_system_params = SystemParameters(0.0, 1.0, 5)\n",
    "start_state = State(x_pos=0.0, y_pos=2.0, y_vel=0.0, pressed=0.0)\n",
    "solution = solve_system(flappy_bird_hybrid_system, hybrid_system_params, start_state)\n",
    "write_csv(solution, \"../tmp/flapping_birds_falling_birds.csv\")"
   ]
  },
  {
   "cell_type": "code",
   "execution_count": 10,
   "metadata": {
    "tags": [
     "ignore_cell"
    ]
   },
   "outputs": [
    {
     "ename": "ValueError",
     "evalue": "invalid literal for int() with base 10: '0.0'",
     "output_type": "error",
     "traceback": [
      "\u001b[0;31m---------------------------------------------------------------------------\u001b[0m",
      "\u001b[0;31mValueError\u001b[0m                                Traceback (most recent call last)",
      "\u001b[1;32m/Users/johnathan/Desktop/Code/Blather/src/flapping-birds.ipynb Cell 15\u001b[0m line \u001b[0;36m1\n\u001b[1;32m     <a href='vscode-notebook-cell:/Users/johnathan/Desktop/Code/Blather/src/flapping-birds.ipynb#X20sZmlsZQ%3D%3D?line=13'>14</a>\u001b[0m     y_vel: List[\u001b[39mfloat\u001b[39m]\u001b[39m=\u001b[39m[]\n\u001b[1;32m     <a href='vscode-notebook-cell:/Users/johnathan/Desktop/Code/Blather/src/flapping-birds.ipynb#X20sZmlsZQ%3D%3D?line=14'>15</a>\u001b[0m     pressed: List[\u001b[39mfloat\u001b[39m]\u001b[39m=\u001b[39m[]\n\u001b[0;32m---> <a href='vscode-notebook-cell:/Users/johnathan/Desktop/Code/Blather/src/flapping-birds.ipynb#X20sZmlsZQ%3D%3D?line=16'>17</a>\u001b[0m data \u001b[39m=\u001b[39m SimData\u001b[39m.\u001b[39;49mfrom_csv(\n\u001b[1;32m     <a href='vscode-notebook-cell:/Users/johnathan/Desktop/Code/Blather/src/flapping-birds.ipynb#X20sZmlsZQ%3D%3D?line=17'>18</a>\u001b[0m     Path(\u001b[39m\"\u001b[39;49m\u001b[39m../tmp/flapping_birds_falling_birds.csv\u001b[39;49m\u001b[39m\"\u001b[39;49m),\n\u001b[1;32m     <a href='vscode-notebook-cell:/Users/johnathan/Desktop/Code/Blather/src/flapping-birds.ipynb#X20sZmlsZQ%3D%3D?line=18'>19</a>\u001b[0m     {\n\u001b[1;32m     <a href='vscode-notebook-cell:/Users/johnathan/Desktop/Code/Blather/src/flapping-birds.ipynb#X20sZmlsZQ%3D%3D?line=19'>20</a>\u001b[0m         \u001b[39m\"\u001b[39;49m\u001b[39mtime\u001b[39;49m\u001b[39m\"\u001b[39;49m: \u001b[39mfloat\u001b[39;49m,\n\u001b[1;32m     <a href='vscode-notebook-cell:/Users/johnathan/Desktop/Code/Blather/src/flapping-birds.ipynb#X20sZmlsZQ%3D%3D?line=20'>21</a>\u001b[0m         \u001b[39m\"\u001b[39;49m\u001b[39mx_pos\u001b[39;49m\u001b[39m\"\u001b[39;49m: \u001b[39mfloat\u001b[39;49m,\n\u001b[1;32m     <a href='vscode-notebook-cell:/Users/johnathan/Desktop/Code/Blather/src/flapping-birds.ipynb#X20sZmlsZQ%3D%3D?line=21'>22</a>\u001b[0m         \u001b[39m\"\u001b[39;49m\u001b[39my_pos\u001b[39;49m\u001b[39m\"\u001b[39;49m: \u001b[39mfloat\u001b[39;49m,\n\u001b[1;32m     <a href='vscode-notebook-cell:/Users/johnathan/Desktop/Code/Blather/src/flapping-birds.ipynb#X20sZmlsZQ%3D%3D?line=22'>23</a>\u001b[0m         \u001b[39m\"\u001b[39;49m\u001b[39my_vel\u001b[39;49m\u001b[39m\"\u001b[39;49m: \u001b[39mfloat\u001b[39;49m,\n\u001b[1;32m     <a href='vscode-notebook-cell:/Users/johnathan/Desktop/Code/Blather/src/flapping-birds.ipynb#X20sZmlsZQ%3D%3D?line=23'>24</a>\u001b[0m         \u001b[39m\"\u001b[39;49m\u001b[39mpressed\u001b[39;49m\u001b[39m\"\u001b[39;49m: \u001b[39mint\u001b[39;49m\n\u001b[1;32m     <a href='vscode-notebook-cell:/Users/johnathan/Desktop/Code/Blather/src/flapping-birds.ipynb#X20sZmlsZQ%3D%3D?line=24'>25</a>\u001b[0m     }\n\u001b[1;32m     <a href='vscode-notebook-cell:/Users/johnathan/Desktop/Code/Blather/src/flapping-birds.ipynb#X20sZmlsZQ%3D%3D?line=25'>26</a>\u001b[0m )\n\u001b[1;32m     <a href='vscode-notebook-cell:/Users/johnathan/Desktop/Code/Blather/src/flapping-birds.ipynb#X20sZmlsZQ%3D%3D?line=26'>27</a>\u001b[0m graph \u001b[39m=\u001b[39m Graph(\n\u001b[1;32m     <a href='vscode-notebook-cell:/Users/johnathan/Desktop/Code/Blather/src/flapping-birds.ipynb#X20sZmlsZQ%3D%3D?line=27'>28</a>\u001b[0m     background\u001b[39m=\u001b[39mblog_palette[\u001b[39m\"\u001b[39m\u001b[39mbackground\u001b[39m\u001b[39m\"\u001b[39m],\n\u001b[1;32m     <a href='vscode-notebook-cell:/Users/johnathan/Desktop/Code/Blather/src/flapping-birds.ipynb#X20sZmlsZQ%3D%3D?line=28'>29</a>\u001b[0m     foreground\u001b[39m=\u001b[39mblog_palette[\u001b[39m\"\u001b[39m\u001b[39mforeground\u001b[39m\u001b[39m\"\u001b[39m],\n\u001b[1;32m     <a href='vscode-notebook-cell:/Users/johnathan/Desktop/Code/Blather/src/flapping-birds.ipynb#X20sZmlsZQ%3D%3D?line=29'>30</a>\u001b[0m     title\u001b[39m=\u001b[39m\u001b[39m\"\u001b[39m\u001b[39mFlappy Bird Simulation\u001b[39m\u001b[39m\"\u001b[39m,\n\u001b[1;32m     <a href='vscode-notebook-cell:/Users/johnathan/Desktop/Code/Blather/src/flapping-birds.ipynb#X20sZmlsZQ%3D%3D?line=30'>31</a>\u001b[0m     figures\u001b[39m=\u001b[39m[(\u001b[39m1\u001b[39m,\u001b[39m1\u001b[39m,\u001b[39m1\u001b[39m)]\n\u001b[1;32m     <a href='vscode-notebook-cell:/Users/johnathan/Desktop/Code/Blather/src/flapping-birds.ipynb#X20sZmlsZQ%3D%3D?line=31'>32</a>\u001b[0m )\n\u001b[1;32m     <a href='vscode-notebook-cell:/Users/johnathan/Desktop/Code/Blather/src/flapping-birds.ipynb#X20sZmlsZQ%3D%3D?line=32'>33</a>\u001b[0m graph\u001b[39m.\u001b[39mset_axis_labels(\u001b[39m0\u001b[39m, \u001b[39m\"\u001b[39m\u001b[39my position\u001b[39m\u001b[39m\"\u001b[39m, \u001b[39m\"\u001b[39m\u001b[39mx position\u001b[39m\u001b[39m\"\u001b[39m)\n",
      "File \u001b[0;32m~/Desktop/Code/Blather/src/util/columnar.py:59\u001b[0m, in \u001b[0;36mColumnar.from_csv\u001b[0;34m(cls, csv_path, taxonomy)\u001b[0m\n\u001b[1;32m     57\u001b[0m     reader \u001b[39m=\u001b[39m csv\u001b[39m.\u001b[39mDictReader(f)\n\u001b[1;32m     58\u001b[0m     \u001b[39mfor\u001b[39;00m row \u001b[39min\u001b[39;00m reader:\n\u001b[0;32m---> 59\u001b[0m         instance\u001b[39m.\u001b[39;49mappend_from_dict(row)\n\u001b[1;32m     61\u001b[0m \u001b[39mreturn\u001b[39;00m instance\n",
      "File \u001b[0;32m~/Desktop/Code/Blather/src/util/columnar.py:45\u001b[0m, in \u001b[0;36mColumnar.append_from_dict\u001b[0;34m(self, data)\u001b[0m\n\u001b[1;32m     43\u001b[0m \u001b[39mself\u001b[39m\u001b[39m.\u001b[39m__check_data(key, value)\n\u001b[1;32m     44\u001b[0m value_type \u001b[39m=\u001b[39m \u001b[39mself\u001b[39m\u001b[39m.\u001b[39mtaxonomy[key]\n\u001b[0;32m---> 45\u001b[0m \u001b[39mself\u001b[39m[key]\u001b[39m.\u001b[39mappend(value_type(value))\n",
      "\u001b[0;31mValueError\u001b[0m: invalid literal for int() with base 10: '0.0'"
     ]
    }
   ],
   "source": [
    "# util code!\n",
    "from util.columnar import Columnar\n",
    "from util.palette import blog_palette\n",
    "from util.graph import Graph\n",
    "from pathlib import Path\n",
    "\n",
    "class SimData(Columnar):\n",
    "    \"\"\" Transforming our data a little bit. Matplotlib plays nicer with iterables\n",
    "        for each dimension, rather than one iterable where each element is an array\n",
    "    \"\"\"\n",
    "    time: List[float]=[]\n",
    "    x_pos: List[float]=[]\n",
    "    y_pos: List[float]=[]\n",
    "    y_vel: List[float]=[]\n",
    "    pressed: List[float]=[]\n",
    "\n",
    "data = SimData.from_csv(\n",
    "    Path(\"../tmp/flapping_birds_falling_birds.csv\"),\n",
    "    {\n",
    "        \"time\": float,\n",
    "        \"x_pos\": float,\n",
    "        \"y_pos\": float,\n",
    "        \"y_vel\": float,\n",
    "        \"pressed\": float\n",
    "    }\n",
    ")\n",
    "graph = Graph(\n",
    "    background=blog_palette[\"background\"],\n",
    "    foreground=blog_palette[\"foreground\"],\n",
    "    title=\"Flappy Bird Simulation\",\n",
    "    figures=[(1,1,1)]\n",
    ")\n",
    "graph.set_axis_labels(0, \"y position\", \"x position\")\n",
    "graph.plot(0, data.x_pos, data.y_pos, \"flappy-height\")\n",
    "graph.add_style(\n",
    "    \"flappy-height\",\n",
    "    f\"\"\".flappy-height{{\n",
    "        stroke:{blog_palette['foreground']};\n",
    "        stroke-width:1.5;\n",
    "        stroke-linecap:square;\n",
    "        fill:{blog_palette['background']};\n",
    "        stroke-dasharray:140%;\n",
    "        stroke-dashoffset:140%;\n",
    "        animation-name:flappy-height-anim;\n",
    "        animation-duration:5s;\n",
    "        animation-timing-function:linear;\n",
    "        animation-fill-mode:forwards;\n",
    "        animation-iteration-count: 1;\n",
    "    }}\n",
    "    @keyframes flappy-height-anim{{\n",
    "        from{{\n",
    "            stroke-dashoffset:140%;\n",
    "        }}\n",
    "        to{{\n",
    "            stroke-dashoffset:0%;\n",
    "        }}\n",
    "    }}\n",
    "    \"\"\"\n",
    ")\n",
    "graph.save(Path(\"../content/images/flapping_birds_falling_birds.svg\"))"
   ]
  },
  {
   "cell_type": "markdown",
   "metadata": {},
   "source": [
    "![An animated graph of a very sad run of flappy bird]({static}/images/guesswork_bouncing_balls.svg)\n",
    "\n",
    "Ok, well, that's not the most compelling graph I've seen in my entire life. Once again, we're going under 0, when that's our unofficial death floor. There's also no obstacles. Or even flapping.\n",
    "\n",
    "Let's start with the last thing because it's in the damn name: let's make this flappy bird flap."
   ]
  },
  {
   "cell_type": "markdown",
   "metadata": {},
   "source": [
    "### Making Flappy Bird Flap\n",
    "\n",
    "So, a \"flap\" in our simple version of Bird De Flap is when the \"flap\" button is held down-- the `pressed` element of our state vector. We use the `jump` function to move to the \"flapping\" state from the \"falling\" state (and from \"falling\" --> \"flapping\" as well). We know we _should_ be jumping when `jump_check` says so.\n",
    "\n",
    "So, when do we want `jump_check` to be 1? Well, lets just say it should be one between certain times to start:"
   ]
  },
  {
   "cell_type": "code",
   "execution_count": 56,
   "metadata": {},
   "outputs": [],
   "source": [
    "def jump_check(time:float, state:State) -> int:\n",
    "    # ✨ New! ✨\n",
    "    # we know our sim runs from time 0 to time 1, for right now. lets hardcode two jumps, one to set the \"pressed\"\n",
    "    # element in our state vector, and one to unset it\n",
    "    # bound the time so we only fire this once\n",
    "    if time >= 0.5 and \\\n",
    "        time < 0.6 and \\\n",
    "            state[3] != 1: # the instant the button starts being pressed. Bound on both sides to only fire this once\n",
    "        return 0\n",
    "    elif time >= 0.6 and \\\n",
    "        state[3] != 0: # the instant the button stops being pressed.\n",
    "        return 0\n",
    "    else:\n",
    "        return 1 # otherwise we're not jumping\n",
    "    \n",
    "jump_check.terminal = True # this function needs to stop our simulation, so its terminal now"
   ]
  },
  {
   "cell_type": "code",
   "execution_count": 53,
   "metadata": {
    "tags": [
     "ignore_cell"
    ]
   },
   "outputs": [],
   "source": [
    "flappy_bird_hybrid_system = HybridSystem(flow, flow_check, jump, jump_check)\n",
    "hybrid_system_params = SystemParameters(0.0, 1.0, 5)\n",
    "start_state = State(x_pos=0.0, y_pos=2.0, y_vel=0.0, pressed=0.0)\n",
    "solution = solve_system(flappy_bird_hybrid_system, hybrid_system_params, start_state)\n",
    "write_csv(solution, \"../tmp/flapping_birds_single_flap.csv\")"
   ]
  },
  {
   "cell_type": "code",
   "execution_count": 55,
   "metadata": {
    "tags": [
     "ignore_cell"
    ]
   },
   "outputs": [
    {
     "data": {
      "image/png": "[encoded data removed]",
      "text/plain": [
       "<Figure size 640x480 with 1 Axes>"
      ]
     },
     "metadata": {},
     "output_type": "display_data"
    }
   ],
   "source": [
    "data = read_sim_data(Path(\"../tmp/flapping_birds_single_flap.csv\"))\n",
    "fig = plt.figure(layout=\"constrained\")\n",
    "fig.suptitle(\"Flappy Bird Simulation\", color=\"#fbfbe5\")\n",
    "fig.set_facecolor(\"#0d1521\")\n",
    "ax = fig.add_subplot()\n",
    "\n",
    "ax.set_facecolor(\"#0d1521\")\n",
    "ax.set_xlabel(\"X Position\")\n",
    "ax.set_ylabel(\"Y Position\")\n",
    "ax.xaxis.label.set_color(\"#fbfbe5\")\n",
    "ax.yaxis.label.set_color(\"#fbfbe5\")\n",
    "ax.spines['top'].set_color(\"#fbfbe5\")\n",
    "ax.spines['left'].set_color(\"#fbfbe5\")\n",
    "ax.spines['right'].set_color(\"#fbfbe5\")\n",
    "ax.spines['bottom'].set_color(\"#fbfbe5\")\n",
    "\n",
    "ax.tick_params(axis='x', colors=\"#fbfbe5\")    #setting up X-axis tick color to red\n",
    "ax.tick_params(axis='y', colors=\"#fbfbe5\")  #setting up Y-axis tick color to black\n",
    "\n",
    "lines = ax.plot(data.x_pos, data.y_pos)\n",
    "\n",
    "# ok, set an id so we can grab this information later\n",
    "for line_idx, line in enumerate(lines):\n",
    "    line.set_gid(f\"line_{line_idx}\")\n",
    "\n",
    "\n",
    "# serialize to SVG\n",
    "f = BytesIO()\n",
    "plt.savefig(f, format=\"svg\")\n",
    "\n",
    "# create the XML ETree\n",
    "tree, xmlid = ET.XMLID(f.getvalue())\n",
    "defs = tree.find(\"defs\", {\"\": \"http://www.w3.org/2000/svg\"})\n",
    "if defs:\n",
    "    css = ET.SubElement(defs, \"style\")\n",
    "    css.set(\"type\", \"text/css\")\n",
    "    css.text = \"\"\".graph-line-1{\n",
    "    stroke:#fbfbe5;\n",
    "    stroke-width:1.5;\n",
    "    stroke-linecap:square;\n",
    "    fill:#0d1521;\n",
    "    stroke-dasharray:140%;\n",
    "    stroke-dashoffset:140%;\n",
    "    animation-name:line-anim-1;\n",
    "    animation-duration:5s;\n",
    "    animation-timing-function:linear;\n",
    "    animation-fill-mode:forwards;\n",
    "    animation-iteration-count: 1;\n",
    "}\n",
    "@keyframes line-anim-1{\n",
    "    from{\n",
    "        stroke-dashoffset:140%;\n",
    "    }\n",
    "    to{\n",
    "        stroke-dashoffset:0%;\n",
    "    }\n",
    "}\"\"\"\n",
    "    \n",
    "# TODO: update the metadata as we're animating this image\n",
    "#http://purl.org/dc/dcmitype/MovingImage \n",
    "# inlining styles here, this'll probably get SPICY once I start to figure out animations\n",
    "for line_idx in range(len(lines)):\n",
    "    el = xmlid[f\"line_{line_idx}\"]\n",
    "    # we actually want to overwrite certain keys on the _child_ path here\n",
    "    for path in el:\n",
    "        path.set(\"class\", \"graph-line-1\")\n",
    "        path.set(\"style\", \"\")\n",
    "    \n",
    "    #    print(path)\n",
    "    #    css_attrs = CSSStyle.from_str(path.get(\"style\"))\n",
    "    #    css_attrs.attrs[\"animation\"] = \"1s spin linear\"\n",
    "    #    css_attrs.attrs[\"stroke\"] = \"red\"\n",
    "    #    path.set(\"style\", css_attrs.to_str())\n",
    "\n",
    "ET.ElementTree(tree).write(\"./images/flapping_birds_single_flap.svg\")"
   ]
  },
  {
   "cell_type": "markdown",
   "metadata": {},
   "source": [
    "TODO: modify everything to get colors on how many jumps has happened?\n",
    "\n",
    "Alright, that's starting to look a little better. Obviously, hardcoding jump points isn't where we want to be in life, but hey! Flappy has a trajectory that looks kinda sane!\n",
    "\n",
    "Now we need collision detection, so the simulation stops when Flappy hits the bottom or top of the screen."
   ]
  },
  {
   "cell_type": "markdown",
   "metadata": {},
   "source": [
    "### Making Flappy Bird Die\n",
    "So, uh, how are we going to do this? We could have a new state, `dead` and jump to it when flappy collides with the floor or roof. But, that'll lead to a lot of wasted work: the sim will still spin forward until it gets to `end_time` with noting meaningful to do. We want to stop the sim early.\n",
    "\n",
    "We know that `jump_check` stops the sim early (with ```jump_check.terminal = True```), so collision is like a jump where we just stop simulating rather than jump. Let's add a collision detection function and modify both `jump_check` and `solve_system`"
   ]
  },
  {
   "cell_type": "code",
   "execution_count": 58,
   "metadata": {},
   "outputs": [],
   "source": [
    " # ✨ New! ✨ Check to see if we're colliding with anything and need to die\n",
    "def check_collision(state:State) -> bool:\n",
    "    # the \"height\" of the level is gonna be a little arbitrary and hardcoded for now\n",
    "    if state[1] <= 0.0 or state[1] >= 5.0:\n",
    "        return True\n",
    "    else:\n",
    "        return False\n",
    "\n",
    "# lets change jump_check to identify collisions  \n",
    "def jump_check(time:float, state:State) -> int:\n",
    "    # ✨ New! ✨\n",
    "    if check_collision(state):\n",
    "        return 0\n",
    " \n",
    "    if time >= 0.5 and \\\n",
    "        time < 0.6 and \\\n",
    "            state[3] != 1:\n",
    "        return 0\n",
    "    elif time >= 0.6 and \\\n",
    "        state[3] != 0:\n",
    "        return 0\n",
    "    else:\n",
    "        return 1\n",
    "jump_check.terminal = True # we've got a new function, so we need to set this again\n",
    "\n",
    "# and now we also need to change solve_system to distinguish between solution stops-- did we\n",
    "# stop flowing because we hit something or because we started jumping?\n",
    "def solve_system(system:HybridSystem, params:SystemParameters, start_state:State) -> List[Any]:\n",
    "    solution:List[Any] = [] # gradual typing is neat!\n",
    "    cur_time = params.start_time\n",
    "    number_of_jumps = 0\n",
    "    state = start_state\n",
    "\n",
    "    while (cur_time < params.end_time and number_of_jumps < params.max_jumps):\n",
    "        if(system.flow_check(cur_time, state) == 0):\n",
    "            ode_sol = integrate.solve_ivp(\n",
    "                system.flow,\n",
    "                (cur_time, params.end_time),\n",
    "                state,\n",
    "                events=[system.jump_check],\n",
    "                max_step=0.01,\n",
    "                atol=1e-6,\n",
    "                rtol=1e-6\n",
    "            )\n",
    "            if ode_sol.status == -1:\n",
    "                print(f\"Solver failed with message: {ode_sol.message}\")\n",
    "                return solution\n",
    "            for time, state in zip(ode_sol.t, ode_sol.y.T):\n",
    "                solution.append((time, state))\n",
    "\n",
    "            cur_time, state = solution[-1]\n",
    "        \n",
    "        # ✨ New! ✨\n",
    "        if check_collision(state):\n",
    "            return solution\n",
    "        \n",
    "        if (system.jump_check(cur_time, state) == 0):\n",
    "            state = jump(cur_time, state)\n",
    "            number_of_jumps += 1\n",
    "    \n",
    "    return solution"
   ]
  },
  {
   "cell_type": "code",
   "execution_count": 60,
   "metadata": {
    "tags": [
     "ignore_cell"
    ]
   },
   "outputs": [],
   "source": [
    "flappy_bird_hybrid_system = HybridSystem(flow, flow_check, jump, jump_check)\n",
    "# ✨ New! ✨ setting a much longer end time, we should stop before we get there!\n",
    "hybrid_system_params = SystemParameters(0.0, 5.0, 5)\n",
    "start_state = State(x_pos=0.0, y_pos=2.0, y_vel=0.0, pressed=0.0)\n",
    "solution = solve_system(flappy_bird_hybrid_system, hybrid_system_params, start_state)\n",
    "write_csv(solution, \"../tmp/flapping_birds_single_flap_long.csv\")"
   ]
  },
  {
   "cell_type": "code",
   "execution_count": 62,
   "metadata": {},
   "outputs": [
    {
     "data": {
      "image/png": "[encoded data removed]",
      "text/plain": [
       "<Figure size 640x480 with 1 Axes>"
      ]
     },
     "metadata": {},
     "output_type": "display_data"
    }
   ],
   "source": [
    "data = read_sim_data(Path(\"../tmp/flapping_birds_single_flap_long.csv\"))\n",
    "fig = plt.figure(layout=\"constrained\")\n",
    "fig.suptitle(\"Flappy Bird Simulation\", color=\"#fbfbe5\")\n",
    "fig.set_facecolor(\"#0d1521\")\n",
    "ax = fig.add_subplot()\n",
    "\n",
    "ax.set_facecolor(\"#0d1521\")\n",
    "ax.set_xlabel(\"X Position\")\n",
    "ax.set_ylabel(\"Y Position\")\n",
    "ax.xaxis.label.set_color(\"#fbfbe5\")\n",
    "ax.yaxis.label.set_color(\"#fbfbe5\")\n",
    "ax.spines['top'].set_color(\"#fbfbe5\")\n",
    "ax.spines['left'].set_color(\"#fbfbe5\")\n",
    "ax.spines['right'].set_color(\"#fbfbe5\")\n",
    "ax.spines['bottom'].set_color(\"#fbfbe5\")\n",
    "\n",
    "ax.tick_params(axis='x', colors=\"#fbfbe5\")    #setting up X-axis tick color to red\n",
    "ax.tick_params(axis='y', colors=\"#fbfbe5\")  #setting up Y-axis tick color to black\n",
    "\n",
    "lines = ax.plot(data.x_pos, data.y_pos)\n",
    "\n",
    "# ok, set an id so we can grab this information later\n",
    "for line_idx, line in enumerate(lines):\n",
    "    line.set_gid(f\"line_{line_idx}\")\n",
    "\n",
    "\n",
    "# serialize to SVG\n",
    "f = BytesIO()\n",
    "plt.savefig(f, format=\"svg\")\n",
    "\n",
    "# create the XML ETree\n",
    "tree, xmlid = ET.XMLID(f.getvalue())\n",
    "defs = tree.find(\"defs\", {\"\": \"http://www.w3.org/2000/svg\"})\n",
    "if defs:\n",
    "    css = ET.SubElement(defs, \"style\")\n",
    "    css.set(\"type\", \"text/css\")\n",
    "    css.text = \"\"\".graph-line-1{\n",
    "    stroke:#fbfbe5;\n",
    "    stroke-width:1.5;\n",
    "    stroke-linecap:square;\n",
    "    fill:#0d1521;\n",
    "    stroke-dasharray:140%;\n",
    "    stroke-dashoffset:140%;\n",
    "    animation-name:line-anim-1;\n",
    "    animation-duration:5s;\n",
    "    animation-timing-function:linear;\n",
    "    animation-fill-mode:forwards;\n",
    "    animation-iteration-count: 1;\n",
    "}\n",
    "@keyframes line-anim-1{\n",
    "    from{\n",
    "        stroke-dashoffset:140%;\n",
    "    }\n",
    "    to{\n",
    "        stroke-dashoffset:0%;\n",
    "    }\n",
    "}\"\"\"\n",
    "    \n",
    "# TODO: update the metadata as we're animating this image\n",
    "#http://purl.org/dc/dcmitype/MovingImage \n",
    "# inlining styles here, this'll probably get SPICY once I start to figure out animations\n",
    "for line_idx in range(len(lines)):\n",
    "    el = xmlid[f\"line_{line_idx}\"]\n",
    "    # we actually want to overwrite certain keys on the _child_ path here\n",
    "    for path in el:\n",
    "        path.set(\"class\", \"graph-line-1\")\n",
    "        path.set(\"style\", \"\")\n",
    "    \n",
    "    #    print(path)\n",
    "    #    css_attrs = CSSStyle.from_str(path.get(\"style\"))\n",
    "    #    css_attrs.attrs[\"animation\"] = \"1s spin linear\"\n",
    "    #    css_attrs.attrs[\"stroke\"] = \"red\"\n",
    "    #    path.set(\"style\", css_attrs.to_str())\n",
    "\n",
    "ET.ElementTree(tree).write(\"./images/flapping_birds_single_flap_long.svg\")"
   ]
  },
  {
   "cell_type": "markdown",
   "metadata": {},
   "source": [
    "# TODO: other obstacles, coloring graphs by jump, refactor graphing support code to make that One Simple Function"
   ]
  }
 ],
 "metadata": {
  "kernelspec": {
   "display_name": ".venv",
   "language": "python",
   "name": "python3"
  },
  "language_info": {
   "codemirror_mode": {
    "name": "ipython",
    "version": 3
   },
   "file_extension": ".py",
   "mimetype": "text/x-python",
   "name": "python",
   "nbconvert_exporter": "python",
   "pygments_lexer": "ipython3",
   "version": "3.11.4"
  },
  "orig_nbformat": 4
 },
 "nbformat": 4,
 "nbformat_minor": 2
}
