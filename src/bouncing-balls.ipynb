{
 "cells": [
  {
   "cell_type": "markdown",
   "metadata": {},
   "source": [
    "Title: Taking the Guesswork out of Bouncing Balls   \n",
    "Date: 2023-02-10   \n",
    "Category: Tech   \n",
    "Tags: Simulations, Python   \n",
    "Slug: guesswork-bouncing-balls   \n",
    "Summary: A complicated way to explain how balls bounce to a computer      "
   ]
  },
  {
   "cell_type": "markdown",
   "metadata": {},
   "source": [
    "Games are complicated.\n",
    "\n",
    "They have a lot of stuff you can do! You can [click on things](http://orteil.dashnet.org/cookieclicker/), [crash space ships](https://www.kerbalspaceprogram.com/), [play pinball](https://blogs.windows.com/windowsexperience/2015/10/09/pinball-fx2-windows-10-edition-is-now-available/) or even [bounce a ball back and forth](https://www.ponggame.org/).\n",
    "\n",
    "Rarely-- and it is a cursed moment when it happens-- I'm called on to design some part of a game. This is really hard because [game design is extremely difficult](https://www.gamedeveloper.com/design/-quot-the-door-problem-quot-of-game-design). But, also, because I am bad at video games. I tune everything to be way too easy, because I have to be the first play tester, and I tend to tune stuff that I find fun.\n",
    "\n",
    "I was in the middle of one of these struggles when I saw a presentation of Yegeta Zeleke's paper on [analyzing and modeling action games](https://dl.acm.org/doi/pdf/10.1145/3337722.3337757). I didn't really understand the presentation at the time, but I couldn't stop thinking about it. Fast forward years later, and here we are.\n",
    "\n",
    "I want to be clear: game mechanics modeling and simulation _does not_ replace good design. When the models are good, they can work as a lens to help shine light on certain corner cases. They will not make something good for you. Programs are focused and narrow tools: do not make the [tech bro mistake](https://nypost.com/2022/06/24/suspended-google-engineer-claims-sentient-ai-bot-has-hired-a-lawyer/) and think they are anything more than that."
   ]
  },
  {
   "cell_type": "markdown",
   "metadata": {},
   "source": [
    "### So, Let's Dive In\n",
    "\n",
    "The paper is a case study in applying a math thing called a Hybrid Dynamical System to [Flappy Bird](https://kotaku.com/the-flappy-bird-fiasco-1519938266). What's a Hybrid Dynamical System?\n",
    "\n",
    "I'm a \"learn by doing\" kind of person; I wanted to try and implement one to find out. I tend to start with Python and move to lower level languages later. I'm comfortable in Python and most of the time, this means my bugs are logic bugs and not implementation bugs.\n",
    "\n",
    "The core concept here is that we can break a system (read as: game) into two parts:  \n",
    "\n",
    "1. **The continuous part**: this part is things like jump arcs, amount of power produced by a power plant in an RTS, car drifting, and starship thrust. These parts of the game change continuously while they're happening, and are often handled by a physics engine. When a game is operating this way, it's _flowing_, and these changes are called _flows_.  \n",
    "\n",
    "2. **The discrete part**: this part is sudden, sharp changes in a game, switching from one mode to another. Characters are very often modeled as a collection of sharp switches-- you're not punching, you hit the punch button, and then suddenly you are! When a game is operating this way, it's _jumping_, and these changes are called _jumps_.\n",
    "\n",
    "It's then just a uh, simple, question of modeling all the flows, modeling all the jumps, and then some logic to say when to jump and which flow to be in."
   ]
  },
  {
   "cell_type": "markdown",
   "metadata": {},
   "source": [
    "### Let's start with something more simple than Pong\n",
    "\n",
    "The proverbial first example with Hybrid Dynamic Systems is a bouncing ball. To start, I need the ball's state, which changes over time. To keep this very simple, I won't even model horizontal position (left / right): let's only care about vertical position (up / down). And, since I want to change vertical position over time, vertical velocity[^1].\n",
    "\n",
    "[^1]: using `y` as my vertical axis, rather than `z`. This is [A Thing](https://forums.autodesk.com/t5/fusion-360-manufacture/why-is-y-up-instead-of-z-by-default/td-p/7226258), and something I didn't think to hard about-- I can always refactor this to `z` later. If you're much happier with `y` as your depth axis, go for it."
   ]
  },
  {
   "cell_type": "code",
   "execution_count": 1,
   "metadata": {},
   "outputs": [
    {
     "name": "stdout",
     "output_type": "stream",
     "text": [
      "State(y_pos=1.0, y_vel=1.0)\n"
     ]
    }
   ],
   "source": [
    "from dataclasses import dataclass\n",
    "@dataclass\n",
    "class State:\n",
    "    y_pos: float # vertical position\n",
    "    y_vel: float # vertical velocity\n",
    "\n",
    "state = State(y_pos=1.0, y_vel=1.0)\n",
    "print(state)"
   ]
  },
  {
   "cell_type": "markdown",
   "metadata": {},
   "source": [
    "So, when does a bouncing ball jump? It starts by falling-- seems pretty continuous-- then hits the ground, then suddenly springs back up. That contact with the ground is a jump, a sudden switch in state. The ball's velocity was going down, now in a instant, it's going up!\n",
    "\n",
    "What might that look like in code? Lets also throw in a constant [restitution coefficient](https://en.wikipedia.org/wiki/Coefficient_of_restitution), so we can lose some energy as we bounce to make it feel a little more real."
   ]
  },
  {
   "cell_type": "code",
   "execution_count": 2,
   "metadata": {},
   "outputs": [
    {
     "name": "stdout",
     "output_type": "stream",
     "text": [
      "Before jumping:\tState(y_pos=1.0, y_vel=1.0)\n",
      "After jumping:\tState(y_pos=1.0, y_vel=-0.5)\n"
     ]
    }
   ],
   "source": [
    "def jump(state:State) -> State:\n",
    "    # reduce the velocity by multiplying it by a less-than-one restitution coefficient\n",
    "    # flip the direction by also multiplying by a negative one.\n",
    "    # the restitution coefficient is 0.5 here\n",
    "    state.y_vel = -0.5 * state.y_vel\n",
    "    # return!\n",
    "    return state\n",
    "\n",
    "state = State(y_pos=1.0, y_vel=1.0)\n",
    "# Python's pass by reference here so I really don't need this assignment\n",
    "# but I think it helps illustrate what's happening\n",
    "print(f\"Before jumping:\\t{state}\") # actually the old state\n",
    "state = jump(state)\n",
    "print(f\"After jumping:\\t{state}\")"
   ]
  },
  {
   "cell_type": "markdown",
   "metadata": {},
   "source": [
    "\"Woah, slow down there cowboy,\" you say, in my head. \"How does the computer know when to trigger a jump?\"\n",
    "\n",
    "Ah! Right. If we flip the velocity before we hit the ground, we'll just go more up. That's not how gravity works. The gamers would be very mad at our lack of attention to realism in Ball Sim 2023[^2]. Well, we can just use another function to tell us if we should jump or not, call it uh, \n",
    "\n",
    "[^2]: Gonna need to workshop this title"
   ]
  },
  {
   "cell_type": "code",
   "execution_count": 3,
   "metadata": {},
   "outputs": [
    {
     "name": "stdout",
     "output_type": "stream",
     "text": [
      "Jump from State(y_pos=1.0, y_vel=-1)?\tFalse\n",
      "Jump from State(y_pos=0.0, y_vel=-1)?\tTrue\n",
      "Jump from State(y_pos=-0.5, y_vel=-1)?\tTrue\n"
     ]
    }
   ],
   "source": [
    "def jump_check(state:State) -> bool:\n",
    "    if state.y_pos <= 0 and state.y_vel < 0:\n",
    "        # collision detection? What's that? Everyone knows the ground is at position 0 :)\n",
    "        # hills, like birds, are not real\n",
    "        # anyway, we be jumpin if we hit the ground and we still have negative velocity (so we'd go more into the ground.\n",
    "        return True\n",
    "    else:\n",
    "        # otherwise keep flowing\n",
    "        return False\n",
    "\n",
    "air_state = State(y_pos=1.0, y_vel=-1)\n",
    "print(f\"Jump from {air_state}?\\t{jump_check(air_state)}\")\n",
    "ground_state = State(y_pos=0.0, y_vel=-1)\n",
    "print(f\"Jump from {ground_state}?\\t{jump_check(ground_state)}\")\n",
    "below_ground_state = State(y_pos=-0.5, y_vel=-1)\n",
    "print(f\"Jump from {below_ground_state}?\\t{jump_check(below_ground_state)}\")"
   ]
  },
  {
   "cell_type": "markdown",
   "metadata": {},
   "source": [
    "That covers jumps-- there's a function, `jump` to say \"this is how we do the instantaneous state change\" and another function `jump_check` that says \"it's time to jump\". Flows are similar! There's a function to run to say how we're flowing (`flow`), and a function to say if we should be flowing or not (`flow_check`). The... well, the check function gets a little silly with our ball example:"
   ]
  },
  {
   "cell_type": "code",
   "execution_count": 4,
   "metadata": {},
   "outputs": [
    {
     "name": "stdout",
     "output_type": "stream",
     "text": [
      "Flow from State(y_pos=1.0, y_vel=-1)?\tTrue\n",
      "Flow from State(y_pos=0.0, y_vel=-1)?\tTrue\n",
      "Flow from State(y_pos=-0.5, y_vel=-1)?\tTrue\n"
     ]
    }
   ],
   "source": [
    "def flow_check(state: State) -> bool:\n",
    "    \"\"\"This one is a little silly, I know\"\"\"\n",
    "    return True\n",
    "\n",
    "air_state = State(y_pos=1.0, y_vel=-1)\n",
    "print(f\"Flow from {air_state}?\\t{flow_check(air_state)}\")\n",
    "ground_state = State(y_pos=0.0, y_vel=-1)\n",
    "print(f\"Flow from {ground_state}?\\t{flow_check(ground_state)}\")\n",
    "below_ground_state = State(y_pos=-0.5, y_vel=-1)\n",
    "print(f\"Flow from {below_ground_state}?\\t{flow_check(below_ground_state)}\")"
   ]
  },
  {
   "cell_type": "markdown",
   "metadata": {},
   "source": [
    "I know. This feels like I'm pranking you. I'm not trying to. Sometimes, its just like this. Our system is so simple that it's _always_ flowing. Sure, it jumps sometimes, but that happens in a single instant, and gravity never stops, so. There are times in video games when we want to stop applying constant forces ([coyote time](https://gamerant.com/celeste-coyote-time-mechanic-platforming-impact-hidden-mechanics/)), so this is less silly in real life."
   ]
  },
  {
   "cell_type": "markdown",
   "metadata": {},
   "source": [
    "Now, to actually calculate flows... well, we're not gonna do it by hand. Remember that a flows are an ever changing, ever evolving thing over time, and math has a tool for that: a differential equation. Our flow needs to be a function that takes in our state and returns that state's derivative with respect to time.\n",
    "\n",
    "Ok, so, the derivative of position is the velocity, right? Velocity describes how position changes over time. The derivative of velocity is acceleration... which we'll pretend is a [negative constant](https://en.wikipedia.org/wiki/Gravitational_acceleration) thanks to gravity of 9.81."
   ]
  },
  {
   "cell_type": "code",
   "execution_count": 5,
   "metadata": {},
   "outputs": [
    {
     "name": "stdout",
     "output_type": "stream",
     "text": [
      "State(y_pos=1.0, y_vel=1.0) flows over time\n",
      "according to StateDerivative(derivative_position=1.0, derivative_velocity=-9.81)\n"
     ]
    }
   ],
   "source": [
    "from dataclasses import dataclass\n",
    "@dataclass\n",
    "class StateDerivative:\n",
    "    \"\"\" Using a separate data class to help identify when my data is a state\n",
    "        and when it's the derivative of a state.\n",
    "    \"\"\"\n",
    "    derivative_position: float\n",
    "    derivative_velocity: float\n",
    " \n",
    "def flow(state:State) -> StateDerivative:\n",
    "    \"\"\"The derivative of position is velocity.\n",
    "       The derivative of velocity is going to be negative acceleration from gravity\n",
    "    \"\"\"\n",
    "    return StateDerivative(\n",
    "        derivative_position=state.y_vel,\n",
    "        derivative_velocity=-9.81\n",
    "    )\n",
    "\n",
    "state = State(y_pos=1.0, y_vel=1.0)\n",
    "state_derivative = flow(state)\n",
    "print(f\"{state} flows over time\\naccording to {state_derivative}\")"
   ]
  },
  {
   "cell_type": "markdown",
   "metadata": {},
   "source": [
    "So we have a little system! Four equations that all have the following calling signatures:"
   ]
  },
  {
   "cell_type": "code",
   "execution_count": 6,
   "metadata": {},
   "outputs": [
    {
     "name": "stdout",
     "output_type": "stream",
     "text": [
      "Flow signature: (state: __main__.State) -> __main__.StateDerivative\n",
      "Flow check signature: (state: __main__.State) -> bool\n",
      "Jump signature: (state: __main__.State) -> __main__.State\n",
      "Jump check signature: (state: __main__.State) -> bool\n"
     ]
    }
   ],
   "source": [
    "import inspect # inspect is a standard library that lets us inspect our code at run time.\n",
    "               # there's a whole aside here about reflection and self-modifying code\n",
    "print(f\"Flow signature: {inspect.signature(flow)}\")\n",
    "print(f\"Flow check signature: {inspect.signature(flow_check)}\")\n",
    "print(f\"Jump signature: {inspect.signature(jump)}\")\n",
    "print(f\"Jump check signature: {inspect.signature(jump_check)}\")"
   ]
  },
  {
   "cell_type": "markdown",
   "metadata": {},
   "source": [
    "Ok, so `__main__` might be weird there for you, but hey it's our functions![^3] Tada! That's a model baybee. You heard it here first folks, all action games are just four functions.\n",
    "\n",
    "[^3]: `__main__` is the \"main\" Python module, and the global namespace. When we write bare functions or classes, like say in a notebook or REPL, they live here. Otherwise, they live in the module you say they live in, which is typically the file you wrote them in [^4]\n",
    "\n",
    "[^4]: it is [more complicated than this](https://docs.python.org/3.11/tutorial/modules.html). Don't @ me."
   ]
  },
  {
   "cell_type": "markdown",
   "metadata": {},
   "source": [
    "### Simulations are how we get useful stuff from models\n",
    "\n",
    "But uh, how do we use these four equations? We want to simulate the model for a given start state. We can do this analytically, no machine learning or evolutionary algorithms here! Because we're coming up with simulation results deterministically, its sometimes said that we \"solve\" the model.\n",
    "\n",
    "Because a `flow` is a function that takes in a state and returns a derivative with respect to a single variable, time, it's an Ordinary Differential Equation, or ODE. This is a well known branch of mathematics, and there exist methods to solve for ODEs! If you give an ODE Solver a function like `flow`, a start time, a start state and some constraints like \"solve until `end_time`\", you can get the states (along with times) for a `flow` from the start time to end time. This is called the \"initial value problem\" (IVP).\n",
    "\n",
    "This post isn't going to go into writing your own ODE Solver[^5]. I just used `scipy`'s off the shelf one. I need to tweak the model a little bit. [The documentation](https://docs.scipy.org/doc/scipy/reference/generated/scipy.integrate.solve_ivp.html) says that (paraphrasing):  \n",
    "\n",
    "> The ODE function must only have two parameters: `t`, a floating point number for time and `y`, and \"array_like\" where each element correspond to state property. Also, the function needs to return an \"array_like\" of the same size as `y` where each element is `y[element]`'s derivative.\n",
    "\n",
    "Fine.\n",
    "\n",
    "[^5]: Future Blit here-- I will eventually need to get into the weeds of writing my own ODE Solver, because the off-the-shelf ones don't have the features I will eventually need."
   ]
  },
  {
   "cell_type": "code",
   "execution_count": 7,
   "metadata": {},
   "outputs": [
    {
     "name": "stdout",
     "output_type": "stream",
     "text": [
      "State(y_pos=1.0, y_vel=1.0) flows over time\n",
      "according to StateDerivative(derivative_position=1.0, derivative_velocity=-9.81)\n"
     ]
    }
   ],
   "source": [
    "from typing import Tuple\n",
    "from collections import namedtuple\n",
    "\n",
    "# named tuples are tuples, but I can refer to each position by name-- they're almost exactly like the dataclasses\n",
    "# from before\n",
    "# this won't perfectly work, because all this information is gonna get stripped by the time we get to the\n",
    "# flow function but it at least makes the constructor a little nicer\n",
    "State = namedtuple('State', ['y_pos', 'y_vel'])\n",
    "StateDerivative = namedtuple('StateDerivative', ['derivative_position', 'derivative_velocity'])\n",
    "\n",
    "def flow(time: float, state: Tuple[float, float]) -> Tuple[float, float]:\n",
    "    # we'll say that state[0] is position and state[1] is velocity\n",
    "    return StateDerivative(\n",
    "         # remember the derivative of position is velocity, so the derivative of state[0] is state[1].\n",
    "         # Not the most intuitive\n",
    "        derivative_position=state[1],\n",
    "        derivative_velocity=-9.81\n",
    "    )\n",
    "\n",
    "state = State(y_pos=1.0, y_vel=1.0)\n",
    "state_derivative = flow(0.0, state) # the exact time doesn't matter yet, but we'll need it in a second\n",
    "print(f\"{state} flows over time\\naccording to {state_derivative}\")"
   ]
  },
  {
   "cell_type": "markdown",
   "metadata": {},
   "source": [
    "And then to use this thing:"
   ]
  },
  {
   "cell_type": "code",
   "execution_count": 8,
   "metadata": {},
   "outputs": [
    {
     "name": "stdout",
     "output_type": "stream",
     "text": [
      "State at 0.0000:  ['2.0000', '0.0000']\n",
      "State at 0.0001:  ['2.0000', '-0.0010']\n",
      "State at 0.0011:  ['2.0000', '-0.0110']\n",
      "State at 0.0113:  ['1.9994', '-0.1109']\n",
      "State at 0.1132:  ['1.9372', '-1.1104']\n",
      "State at 1.0000:  ['-2.9050', '-9.8100']\n"
     ]
    }
   ],
   "source": [
    "from scipy import integrate\n",
    "# we need to provide a start time, an end time and a state to start from\n",
    "cur_state = State(y_pos=2.0, y_vel=0.0) # two, uh, units off the ground, no starting velocity seems ok\n",
    "cur_time = 0.0 # start at the start\n",
    "end_time = 1.0 # and we'll go for uh. one. uh. time unit\n",
    "\n",
    "# the good stuff\n",
    "ode_sol = integrate.solve_ivp(\n",
    "    flow, # our flow function! It returns a derivative!\n",
    "    # the current time is the start time! Solve from right now until as far forward as we want to solve\n",
    "    (cur_time, end_time),\n",
    "    cur_state,\n",
    ")\n",
    "if ode_sol.status == -1:\n",
    "    print(f\"Oh, no, solver failed! {ode_sol.message}\")\n",
    "for time, state in zip(ode_sol.t, ode_sol.y.T):\n",
    "    # doing a little data translation (get the transpose [T] of the y values [aka state])\n",
    "    # pair them with a similarly lengthed iterable, t [aka times], using zip(...)\n",
    "    state_string_repr = [f\"{val:0.04f}\" for val in state] # some tricks for printing this more nicely\n",
    "                                                          # it won't hold up in a court of law, but,\n",
    "    print(f\"State at {time:0.04f}:  {state_string_repr}\")"
   ]
  },
  {
   "cell_type": "markdown",
   "metadata": {},
   "source": [
    "Everything looks ok until we get to that last value. W... what happened there. I need to set some tolerances on my solver-- you can kinda see that it did a \"one, two, skip a few\" approach. We get a bunch of work before the first tenth of a second and then suddenly, we jump to the end of the solution.\n",
    "\n",
    "The reasons for this are... a lot, and based on how the underlying solver math works, which could be a fun topic for another day! Anyway, let's set the solver to work at a fixed time interval."
   ]
  },
  {
   "cell_type": "code",
   "execution_count": 9,
   "metadata": {},
   "outputs": [
    {
     "name": "stdout",
     "output_type": "stream",
     "text": [
      "State at 0.0000:  ['2.0000', '0.0000']\n",
      "State at 0.0100:  ['1.9995', '-0.0981']\n",
      "State at 0.0200:  ['1.9980', '-0.1962']\n",
      "State at 0.0300:  ['1.9956', '-0.2943']\n",
      "State at 0.0400:  ['1.9922', '-0.3924']\n",
      "State at 0.0500:  ['1.9877', '-0.4905']\n",
      "State at 0.0600:  ['1.9823', '-0.5886']\n",
      "State at 0.0700:  ['1.9760', '-0.6867']\n",
      "State at 0.0800:  ['1.9686', '-0.7848']\n",
      "State at 0.0900:  ['1.9603', '-0.8829']\n",
      "State at 0.1000:  ['1.9509', '-0.9810']\n",
      "State at 0.1100:  ['1.9406', '-1.0791']\n",
      "State at 0.1200:  ['1.9294', '-1.1772']\n",
      "State at 0.1300:  ['1.9171', '-1.2753']\n",
      "State at 0.1400:  ['1.9039', '-1.3734']\n",
      "State at 0.1500:  ['1.8896', '-1.4715']\n",
      "State at 0.1600:  ['1.8744', '-1.5696']\n",
      "State at 0.1700:  ['1.8582', '-1.6677']\n",
      "State at 0.1800:  ['1.8411', '-1.7658']\n",
      "State at 0.1900:  ['1.8229', '-1.8639']\n",
      "State at 0.2000:  ['1.8038', '-1.9620']\n",
      "State at 0.2100:  ['1.7837', '-2.0601']\n",
      "State at 0.2200:  ['1.7626', '-2.1582']\n",
      "State at 0.2300:  ['1.7405', '-2.2563']\n",
      "State at 0.2400:  ['1.7175', '-2.3544']\n",
      "State at 0.2500:  ['1.6934', '-2.4525']\n",
      "State at 0.2600:  ['1.6684', '-2.5506']\n",
      "State at 0.2700:  ['1.6424', '-2.6487']\n",
      "State at 0.2800:  ['1.6154', '-2.7468']\n",
      "State at 0.2900:  ['1.5875', '-2.8449']\n",
      "State at 0.3000:  ['1.5585', '-2.9430']\n",
      "State at 0.3100:  ['1.5286', '-3.0411']\n",
      "State at 0.3200:  ['1.4977', '-3.1392']\n",
      "State at 0.3300:  ['1.4658', '-3.2373']\n",
      "State at 0.3400:  ['1.4330', '-3.3354']\n",
      "State at 0.3500:  ['1.3991', '-3.4335']\n",
      "State at 0.3600:  ['1.3643', '-3.5316']\n",
      "State at 0.3700:  ['1.3285', '-3.6297']\n",
      "State at 0.3800:  ['1.2917', '-3.7278']\n",
      "State at 0.3900:  ['1.2539', '-3.8259']\n",
      "State at 0.4000:  ['1.2152', '-3.9240']\n",
      "State at 0.4100:  ['1.1755', '-4.0221']\n",
      "State at 0.4200:  ['1.1348', '-4.1202']\n",
      "State at 0.4300:  ['1.0931', '-4.2183']\n",
      "State at 0.4400:  ['1.0504', '-4.3164']\n",
      "State at 0.4500:  ['1.0067', '-4.4145']\n",
      "State at 0.4600:  ['0.9621', '-4.5126']\n",
      "State at 0.4700:  ['0.9165', '-4.6107']\n",
      "State at 0.4800:  ['0.8699', '-4.7088']\n",
      "State at 0.4900:  ['0.8223', '-4.8069']\n",
      "State at 0.5000:  ['0.7737', '-4.9050']\n",
      "State at 0.5100:  ['0.7242', '-5.0031']\n",
      "State at 0.5200:  ['0.6737', '-5.1012']\n",
      "State at 0.5300:  ['0.6222', '-5.1993']\n",
      "State at 0.5400:  ['0.5697', '-5.2974']\n",
      "State at 0.5500:  ['0.5162', '-5.3955']\n",
      "State at 0.5600:  ['0.4618', '-5.4936']\n",
      "State at 0.5700:  ['0.4064', '-5.5917']\n",
      "State at 0.5800:  ['0.3500', '-5.6898']\n",
      "State at 0.5900:  ['0.2926', '-5.7879']\n",
      "State at 0.6000:  ['0.2342', '-5.8860']\n",
      "State at 0.6100:  ['0.1748', '-5.9841']\n",
      "State at 0.6200:  ['0.1145', '-6.0822']\n",
      "State at 0.6300:  ['0.0532', '-6.1803']\n",
      "State at 0.6400:  ['-0.0091', '-6.2784']\n",
      "State at 0.6500:  ['-0.0724', '-6.3765']\n",
      "State at 0.6600:  ['-0.1366', '-6.4746']\n",
      "State at 0.6700:  ['-0.2019', '-6.5727']\n",
      "State at 0.6800:  ['-0.2681', '-6.6708']\n",
      "State at 0.6900:  ['-0.3353', '-6.7689']\n",
      "State at 0.7000:  ['-0.4035', '-6.8670']\n",
      "State at 0.7100:  ['-0.4726', '-6.9651']\n",
      "State at 0.7200:  ['-0.5428', '-7.0632']\n",
      "State at 0.7300:  ['-0.6139', '-7.1613']\n",
      "State at 0.7400:  ['-0.6860', '-7.2594']\n",
      "State at 0.7500:  ['-0.7591', '-7.3575']\n",
      "State at 0.7600:  ['-0.8331', '-7.4556']\n",
      "State at 0.7700:  ['-0.9082', '-7.5537']\n",
      "State at 0.7800:  ['-0.9842', '-7.6518']\n",
      "State at 0.7900:  ['-1.0612', '-7.7499']\n",
      "State at 0.8000:  ['-1.1392', '-7.8480']\n",
      "State at 0.8100:  ['-1.2182', '-7.9461']\n",
      "State at 0.8200:  ['-1.2981', '-8.0442']\n",
      "State at 0.8300:  ['-1.3791', '-8.1423']\n",
      "State at 0.8400:  ['-1.4610', '-8.2404']\n",
      "State at 0.8500:  ['-1.5439', '-8.3385']\n",
      "State at 0.8600:  ['-1.6277', '-8.4366']\n",
      "State at 0.8700:  ['-1.7126', '-8.5347']\n",
      "State at 0.8800:  ['-1.7984', '-8.6328']\n",
      "State at 0.8900:  ['-1.8853', '-8.7309']\n",
      "State at 0.9000:  ['-1.9731', '-8.8290']\n",
      "State at 0.9100:  ['-2.0618', '-8.9271']\n",
      "State at 0.9200:  ['-2.1516', '-9.0252']\n",
      "State at 0.9300:  ['-2.2423', '-9.1233']\n",
      "State at 0.9400:  ['-2.3341', '-9.2214']\n",
      "State at 0.9500:  ['-2.4268', '-9.3195']\n",
      "State at 0.9600:  ['-2.5204', '-9.4176']\n",
      "State at 0.9700:  ['-2.6151', '-9.5157']\n",
      "State at 0.9800:  ['-2.7108', '-9.6138']\n",
      "State at 0.9900:  ['-2.8074', '-9.7119']\n",
      "State at 1.0000:  ['-2.9050', '-9.8100']\n"
     ]
    }
   ],
   "source": [
    "from util.print import blog_print # homegrown hack for printing large amounts of data\n",
    "\n",
    "# providing the start state again, but no notes this time.\n",
    "cur_state = State(y_pos=2.0, y_vel=0.0)\n",
    "cur_time = 0.0\n",
    "end_time = 1.0\n",
    "\n",
    "ode_sol = integrate.solve_ivp(\n",
    "    flow,\n",
    "    (cur_time, end_time),\n",
    "    cur_state,\n",
    "    # ✨ New! ✨ All points in the solution should only ever be a tenth of a second apart.\n",
    "    max_step=0.01,\n",
    "    # while we're here, let's set some tolerances\n",
    "    atol=1e-6, # stay within this number of decimal places\n",
    "    rtol=1e-6, # stay within this number of digits\n",
    ")\n",
    "if ode_sol.status == -1:\n",
    "    print(f\"Oh, no, solver failed! {ode_sol.message}\")\n",
    "\n",
    "# technically ✨ New! ✨\n",
    "# this is a utility function for me to only print out snippets of large amounts of\n",
    "# data so the blog's reading time doesn't increase with data I don't expect anyone\n",
    "# to actually read.\n",
    "# and yeah, the call site smells it's not very nice to memory to allocate a list like this\n",
    "# but the gist is that the second arg is a function that takes items from the first arg\n",
    "# and turns them into something good for our eyes\n",
    "blog_print(\n",
    "    list(zip(ode_sol.t, ode_sol.y.T)),\n",
    "    lambda line: f\"State at {line[0]:0.04f}: {[f'{val:0.04f}' for val in line[1]]}\"\n",
    ")"
   ]
  },
  {
   "cell_type": "markdown",
   "metadata": {},
   "source": [
    "Well, call me silly. Turns out the solver was right the whole time-- still it's nice to be able to _see_ that.\n",
    "\n",
    "Well, this does highlight another problem-- our hight ended up being less than zero. But, that makes sense: we haven't told the solver when to stop. We know that we should stop flowing when `jump_check` is `true`, but our solver, if we only give it our `flow` function, doesn't know that. We can use an event function to help here.\n",
    "\n",
    "Event functions also take in the state and time, like `flow`, but return a single scalar. We can then ask the solver to do some extra work to figure out exactly at what time an event function returns 0, and we can ask for the solver to stop solving when this occurs. We'll stop solving when we're ready to jump! But, it means that our `jump_check` function also needs a little refactor to work like an event function:"
   ]
  },
  {
   "cell_type": "code",
   "execution_count": 10,
   "metadata": {},
   "outputs": [
    {
     "name": "stdout",
     "output_type": "stream",
     "text": [
      "Jump from State(y_pos=1.0, y_vel=-1)?\t1\n",
      "Jump from State(y_pos=0.0, y_vel=-1)?\t0\n",
      "Jump from State(y_pos=-0.5, y_vel=-1)?\t0\n"
     ]
    }
   ],
   "source": [
    "def jump_check(time: float, state:Tuple[float, float]) -> int:\n",
    "    if state[0] <= 0 and state[1] < 0:\n",
    "        # stop flowing when we're ready to jump-- it's a \"0 crossing\" of our flow system\n",
    "        return 0\n",
    "    else:\n",
    "        # otherwise keep flowing\n",
    "        return 1\n",
    "\n",
    "jump_check.terminal = True # you can assign attributes to functions in Python\n",
    "                           # it's not my favorite, but this is how scipy wants to tell\n",
    "                           # the solver stop solving when this function returns 0\n",
    "\n",
    "# same set of values to check as before, let's confirm the numbers do what we want.\n",
    "air_state = State(y_pos=1.0, y_vel=-1)\n",
    "print(f\"Jump from {air_state}?\\t{jump_check(0.0, air_state)}\")\n",
    "ground_state = State(y_pos=0.0, y_vel=-1)\n",
    "print(f\"Jump from {ground_state}?\\t{jump_check(0.0, ground_state)}\")\n",
    "below_ground_state = State(y_pos=-0.5, y_vel=-1)\n",
    "print(f\"Jump from {below_ground_state}?\\t{jump_check(0.0, below_ground_state)}\")"
   ]
  },
  {
   "cell_type": "markdown",
   "metadata": {},
   "source": [
    "Rad. And while we're here, lets update our other functions to have a consistent API. Sometimes getting an `int` and sometimes getting a `bool` is how programmers go crazy."
   ]
  },
  {
   "cell_type": "code",
   "execution_count": 11,
   "metadata": {},
   "outputs": [
    {
     "name": "stdout",
     "output_type": "stream",
     "text": [
      "Flow signature: (time: float, state: Tuple[float, float]) -> Tuple[float, float]\n",
      "Flow check signature: (time: float, state: Tuple[float, float]) -> int\n",
      "Jump signature: (time: float, state: Tuple[float, float]) -> Tuple[float, float]\n",
      "Jump check signature: (time: float, state: Tuple[float, float]) -> int\n"
     ]
    }
   ],
   "source": [
    "def flow_check(time: float, state:Tuple[float, float]) -> int:\n",
    "    # as before, we're always flowing\n",
    "    return 0\n",
    "\n",
    "def jump(time: float, state:Tuple[float, float]) -> Tuple[float, float]:\n",
    "    # tuples are immutable, so we gotta make a new one\n",
    "    # that's probably a thing to think about w.r.t. optimizations\n",
    "    new_state = tuple([\n",
    "        state[0],\n",
    "        -0.5 * state[1]\n",
    "    ])\n",
    "    return new_state\n",
    "\n",
    "print(f\"Flow signature: {inspect.signature(flow)}\")\n",
    "print(f\"Flow check signature: {inspect.signature(flow_check)}\")\n",
    "print(f\"Jump signature: {inspect.signature(jump)}\")\n",
    "print(f\"Jump check signature: {inspect.signature(jump_check)}\")"
   ]
  },
  {
   "cell_type": "markdown",
   "metadata": {},
   "source": [
    "Ok, let's put it all together:"
   ]
  },
  {
   "cell_type": "code",
   "execution_count": 12,
   "metadata": {},
   "outputs": [
    {
     "name": "stdout",
     "output_type": "stream",
     "text": [
      "State at 0.0000: ['2.0000', '0.0000']\n",
      "State at 0.0100: ['1.9995', '-0.0981']\n",
      "State at 0.0200: ['1.9980', '-0.1962']\n",
      "...\n",
      "State at 0.9800: ['0.4912', '-0.1962']\n",
      "State at 0.9900: ['0.4888', '-0.2943']\n",
      "State at 1.0000: ['0.4853', '-0.3924']\n"
     ]
    }
   ],
   "source": [
    "from typing import List, Any, Callable\n",
    "from util.print import blog_print # a utility function for printing large chunks of data\n",
    "\n",
    "@dataclass\n",
    "class HybridSystem():\n",
    "    \"\"\" Collect all our functions into one structure for ease of being able to remember things later.\n",
    "    \"\"\"\n",
    "    flow: Callable\n",
    "    flow_check: Callable\n",
    "    jump: Callable\n",
    "    jump_check: Callable\n",
    "\n",
    "@dataclass\n",
    "class SystemParameters():\n",
    "    \"\"\" Setting up some stopping points: what our time interval to solve over should be, and the maximum\n",
    "        number of jumps we want to have before we call it quits.\n",
    "        Should probably just be an attribute of the hybrid system up there\n",
    "    \"\"\"\n",
    "    start_time: float\n",
    "    end_time: float\n",
    "    max_jumps: int\n",
    "\n",
    "def solve_system(system:HybridSystem, params:SystemParameters, start_state:State) -> List[Any]:\n",
    "    solution:List[Any] = [] # gradual typing is neat!\n",
    "    cur_time = params.start_time\n",
    "    number_of_jumps = 0\n",
    "    state = start_state\n",
    "\n",
    "    while (cur_time < params.end_time and number_of_jumps < params.max_jumps):\n",
    "        if(system.flow_check(cur_time, state) == 0):\n",
    "            ode_sol = integrate.solve_ivp(\n",
    "                system.flow,\n",
    "                (cur_time, params.end_time),\n",
    "                state,\n",
    "                # ✨ New! ✨\n",
    "                events=[system.jump_check],\n",
    "                max_step=0.01,\n",
    "                atol=1e-6,\n",
    "                rtol=1e-6\n",
    "            )\n",
    "            if ode_sol.status == -1:\n",
    "                print(f\"Solver failed with message: {ode_sol.message}\")\n",
    "                return solution\n",
    "            for time, state in zip(ode_sol.t, ode_sol.y.T):\n",
    "                solution.append((time, state))\n",
    "\n",
    "            cur_time, state = solution[-1] # the last element in the solution is our new current state\n",
    "\n",
    "        # if we're not flowing, we, by definition, must be jumping. In practice, we want some\n",
    "        # stronger asserts here to prevent infinite loops\n",
    "        if (system.jump_check(cur_time, state) == 0):\n",
    "            state = jump(cur_time, state)\n",
    "            number_of_jumps += 1\n",
    "\n",
    "    return solution\n",
    "\n",
    "bouncing_ball_hybrid_system = HybridSystem(flow, flow_check, jump, jump_check)\n",
    "bouncing_ball_params = SystemParameters(\n",
    "    start_time=0.0,\n",
    "    end_time=1.0,\n",
    "    max_jumps=5\n",
    ")\n",
    "start_state = State(y_pos=2.0, y_vel=0.0)\n",
    "solution = solve_system(bouncing_ball_hybrid_system, bouncing_ball_params, start_state)\n",
    "# this kinda sucks, I won't lie, this call site is impossible to read\n",
    "# but that can be a problem for future me, you just need to know that\n",
    "# the lambda will generate a human readable string for the parts of the\n",
    "# solution we want to print\n",
    "blog_print(solution, lambda line: f\"State at {line[0]:0.04f}: {[f'{val:0.04f}' for val in line[1]]}\")"
   ]
  },
  {
   "cell_type": "markdown",
   "metadata": {},
   "source": [
    "Well, that looks right... at least the hight isn't negative anymore. But, is it? We could try and read the data and figure out exactly what happened, but it's probably easier to just graph it.\n",
    "\n",
    "Instead of outputting this \"nicely formatted\" string to the console, a few quick modifications can have us write it to a `.csv` file that we can read in and chart later with `matplotlib` [^6].\n",
    "\n",
    "[^6]: I'm skipping the graphing code for now-- it's a lot of boilerplate, and I want to someday I want to have a nicer publishing flow. That means it's future content, baybee."
   ]
  },
  {
   "cell_type": "code",
   "execution_count": 13,
   "metadata": {},
   "outputs": [],
   "source": [
    "import csv\n",
    "\n",
    "bouncing_ball_hybrid_system = HybridSystem(flow, flow_check, jump, jump_check)\n",
    "bouncing_ball_params = SystemParameters(0.0, 1.0, 5)\n",
    "start_state = State(y_pos=2.0, y_vel=0.0)\n",
    "solution = solve_system(bouncing_ball_hybrid_system, bouncing_ball_params, start_state)\n",
    "\n",
    "# ✨ New! ✨ we want to write out to a csv rather than standard out\n",
    "# revealing a little bit of how I write here, don't look too hard at this file path\n",
    "with open(\"../tmp/bouncing_balls_output_data.csv\", \"w\") as f:\n",
    "    writer = csv.DictWriter(f=f, fieldnames=[\"time\", \"y_pos\", \"y_vel\"])\n",
    "    writer.writeheader()\n",
    "    for time, state in solution:\n",
    "        writer.writerow({\n",
    "            \"time\": time,\n",
    "            \"y_pos\": state[0], # unfortunately, all our nice names have been stripped,\n",
    "            \"y_vel\": state[1]  # and we need to remember the ordering\n",
    "        })\n"
   ]
  },
  {
   "cell_type": "code",
   "execution_count": 14,
   "metadata": {
    "tags": [
     "ignore_cell"
    ]
   },
   "outputs": [
    {
     "data": {
      "image/png": "[encoded data removed]",
      "text/plain": [
       "<Figure size 640x480 with 1 Axes>"
      ]
     },
     "metadata": {},
     "output_type": "display_data"
    }
   ],
   "source": [
    "import matplotlib.pyplot as plt\n",
    "from util.columnar import Columnar\n",
    "from pathlib import Path\n",
    "import xml.etree.ElementTree as ET\n",
    "from io import BytesIO\n",
    "from typing import Dict\n",
    "\n",
    "# setup\n",
    "plt.rcParams['svg.fonttype'] = 'none'\n",
    "ET.register_namespace(\"\", \"http://www.w3.org/2000/svg\") #avoid NS collisions \n",
    "\n",
    "class SimData(Columnar):\n",
    "    \"\"\" Transforming our data a little bit. Matplotlib plays nicer with iterables\n",
    "        for each dimension, rather than one iterable where each element is an array\n",
    "    \"\"\"\n",
    "    time: List[float]=[]\n",
    "    y_pos: List[float]=[]\n",
    "    y_vel: List[float]=[]\n",
    "\n",
    "def plot_sim_data(data_file):\n",
    "    data = SimData.from_csv(\n",
    "        Path(data_file),\n",
    "        {\n",
    "            \"time\": float,\n",
    "            \"y_pos\": float,\n",
    "            \"y_vel\": float\n",
    "        }\n",
    "    )\n",
    "    fig = plt.figure(layout=\"constrained\")\n",
    "    fig.suptitle(\"Bouncing Ball Simulation\", color=\"#fbfbe5\")\n",
    "    fig.set_facecolor(\"#0d1521\")\n",
    "    ax = fig.add_subplot()\n",
    "\n",
    "    ax.set_facecolor(\"#0d1521\")\n",
    "    ax.set_xlabel(\"Time\")\n",
    "    ax.set_ylabel(\"Height\")\n",
    "    ax.xaxis.label.set_color(\"#fbfbe5\")\n",
    "    ax.yaxis.label.set_color(\"#fbfbe5\")\n",
    "    ax.spines['top'].set_color(\"#fbfbe5\")\n",
    "    ax.spines['left'].set_color(\"#fbfbe5\")\n",
    "    ax.spines['right'].set_color(\"#fbfbe5\")\n",
    "    ax.spines['bottom'].set_color(\"#fbfbe5\")\n",
    "\n",
    "    ax.tick_params(axis='x', colors=\"#fbfbe5\")    #setting up X-axis tick color to red\n",
    "    ax.tick_params(axis='y', colors=\"#fbfbe5\")  #setting up Y-axis tick color to black\n",
    "\n",
    "    lines = ax.plot(data.time, data.y_pos)\n",
    "\n",
    "    # ok, set an id so we can grab this information later\n",
    "    for line_idx, line in enumerate(lines):\n",
    "        line.set_gid(f\"line_{line_idx}\")\n",
    "\n",
    "\n",
    "    # serialize to SVG\n",
    "    f = BytesIO()\n",
    "    plt.savefig(f, format=\"svg\")\n",
    "\n",
    "    # create the XML ETree\n",
    "    tree, xmlid = ET.XMLID(f.getvalue())\n",
    "    defs = tree.find(\"defs\", {\"\": \"http://www.w3.org/2000/svg\"})\n",
    "    if defs:\n",
    "        css = ET.SubElement(defs, \"style\")\n",
    "        css.set(\"type\", \"text/css\")\n",
    "        css.text = \"\"\".graph-line-1{\n",
    "        stroke:#fbfbe5;\n",
    "        stroke-width:1.5;\n",
    "        stroke-linecap:square;\n",
    "        fill:#0d1521;\n",
    "        stroke-dasharray:140%;\n",
    "        stroke-dashoffset:140%;\n",
    "        animation-name:line-anim-1;\n",
    "        animation-duration:5s;\n",
    "        animation-timing-function:linear;\n",
    "        animation-fill-mode:forwards;\n",
    "        animation-iteration-count: 1;\n",
    "    }\n",
    "    @keyframes line-anim-1{\n",
    "        from{\n",
    "            stroke-dashoffset:140%;\n",
    "        }\n",
    "        to{\n",
    "            stroke-dashoffset:0%;\n",
    "        }\n",
    "    }\"\"\"\n",
    "        \n",
    "    # TODO: update the metadata as we're animating this image\n",
    "    #http://purl.org/dc/dcmitype/MovingImage\n",
    "    for line_idx in range(len(lines)):\n",
    "        el = xmlid[f\"line_{line_idx}\"]\n",
    "        # we actually want to overwrite certain keys on the _child_ path here\n",
    "        for path in el:\n",
    "            path.set(\"class\", \"graph-line-1\")\n",
    "            path.set(\"style\", \"\")\n",
    "\n",
    "    ET.ElementTree(tree).write(\"../content/images/guesswork_bouncing_balls.svg\")\n",
    "\n",
    "plot_sim_data(\"../tmp/bouncing_balls_output_data.csv\")"
   ]
  },
  {
   "cell_type": "markdown",
   "metadata": {},
   "source": [
    "![An animated graph of how the velocity of a bouncing ball changes over time-- it bounces less and less high! Woo!]({static}/images/guesswork_bouncing_balls.svg)\n",
    "\n",
    "Hey, this looks pretty good! Alright, these are the basics, and they tell us how balls bounce So, how does Flappy Bird... flap?"
   ]
  },
  {
   "cell_type": "markdown",
   "metadata": {},
   "source": []
  }
 ],
 "metadata": {
  "kernelspec": {
   "display_name": ".venv",
   "language": "python",
   "name": "python3"
  },
  "language_info": {
   "codemirror_mode": {
    "name": "ipython",
    "version": 3
   },
   "file_extension": ".py",
   "mimetype": "text/x-python",
   "name": "python",
   "nbconvert_exporter": "python",
   "pygments_lexer": "ipython3",
   "version": "3.11.4"
  },
  "orig_nbformat": 4
 },
 "nbformat": 4,
 "nbformat_minor": 2
}
