{
 "cells": [
  {
   "cell_type": "markdown",
   "metadata": {},
   "source": [
    "Title: Taking the Guesswork out of Bouncing Balls   \n",
    "Date: 2023-02-10   \n",
    "Category: Tech   \n",
    "Tags: Simulations, Python   \n",
    "Slug: guesswork-bouncing-balls   \n",
    "Summary: A complicated way to explain how balls bounce to a computer      "
   ]
  },
  {
   "cell_type": "markdown",
   "metadata": {},
   "source": [
    "Games are complicated.\n",
    "\n",
    "They have a lot of stuff you can do! You can [click on things](http://orteil.dashnet.org/cookieclicker/), [crash space ships](https://www.kerbalspaceprogram.com/), [play pinball](https://blogs.windows.com/windowsexperience/2015/10/09/pinball-fx2-windows-10-edition-is-now-available/) or even [bounce a ball back and forth](https://www.ponggame.org/).\n",
    "\n",
    "Rarely-- and it is a cursed moment when it happens-- I'm called on to design some part of a game. This is really hard because [game design is extremely difficult](https://www.gamedeveloper.com/design/-quot-the-door-problem-quot-of-game-design). Also, because I am bad at video games. I tune everything to be too easy. I have to be the first play tester, and I tend to tune stuff that I find fun.\n",
    "\n",
    "I was in the middle of one of these struggles when I saw a presentation of Yegeta Zeleke's paper on [analyzing and modeling action games](https://dl.acm.org/doi/pdf/10.1145/3337722.3337757). I didn't really understand the presentation at the time, but I couldn't stop thinking about it. Fast forward years later, and here we are.\n",
    "\n",
    "I want to be clear: game mechanics modeling and simulation _does not_ replace good design. When the models are good, they can help shine light on certain corner cases. They will not make something good for you. Programs are focused and narrow tools: do not make the [tech bro mistake](https://nypost.com/2022/06/24/suspended-google-engineer-claims-sentient-ai-bot-has-hired-a-lawyer/) and think they are anything more than that."
   ]
  },
  {
   "cell_type": "markdown",
   "metadata": {},
   "source": [
    "### So, Let's Dive In\n",
    "\n",
    "The paper is a case study in applying a math thing called a Hybrid Dynamical System to [Flappy Bird](https://kotaku.com/the-flappy-bird-fiasco-1519938266). What's a Hybrid Dynamical System?\n",
    "\n",
    "I'm a \"learn by doing\" kind of person; I wanted to try and implement the paper to find out. I tend to start with Python and move to lower level languages later. I'm comfortable in Python and most of the time, this means my bugs are logic bugs and not implementation bugs.\n",
    "\n",
    "The core concept here is that we can break a system (read as: game) into two parts:  \n",
    "\n",
    "1. **The continuous part**: this part is things like jump arcs, amount of power produced by a power plant in an RTS, car drifting, and starship thrust. These parts of the game change continuously while they're happening, and are often handled by a physics engine. When a game is operating this way, it's _flowing_, and these changes are called _flows_.  \n",
    "\n",
    "2. **The discrete part**: this part is sudden, sharp changes in a game, switching from one mode to another. Characters are very often modeled as a collection of sharp switches-- you're not punching, you hit the punch button, and then suddenly you are! When a game is operating this way, it's _jumping_, and these changes are called _jumps_.\n",
    "\n",
    "It's then just a uh, simple, question of modeling all the flows, modeling all the jumps, and then some logic to say when to jump and which flow to be in."
   ]
  },
  {
   "cell_type": "markdown",
   "metadata": {},
   "source": [
    "### Let's start with something more simple than Pong\n",
    "\n",
    "The proverbial first example with Hybrid Dynamic Systems is a bouncing ball. I need the ball's state, which changes over time. I won't even model horizontal position (left / right): let's only care about vertical position (up / down). And, since I want to change vertical position over time, vertical velocity[^1].\n",
    "\n",
    "[^1]: using `y` as my vertical axis, rather than `z`. This is [a Thing](https://forums.autodesk.com/t5/fusion-360-manufacture/why-is-y-up-instead-of-z-by-default/td-p/7226258), and something I didn't think to hard about. I can always refactor this to `z` later. If you're much happier with `y` as your depth axis, go for it."
   ]
  },
  {
   "cell_type": "code",
   "execution_count": 1,
   "metadata": {
    "execution": {
     "iopub.execute_input": "2024-01-17T00:43:56.143704Z",
     "iopub.status.busy": "2024-01-17T00:43:56.143477Z",
     "iopub.status.idle": "2024-01-17T00:43:56.153117Z",
     "shell.execute_reply": "2024-01-17T00:43:56.152602Z"
    }
   },
   "outputs": [
    {
     "name": "stdout",
     "output_type": "stream",
     "text": [
      "State(y_pos=1.0, y_vel=1.0)\n"
     ]
    }
   ],
   "source": [
    "from dataclasses import dataclass\n",
    "@dataclass\n",
    "class State:\n",
    "    y_pos: float # vertical position\n",
    "    y_vel: float # vertical velocity\n",
    "\n",
    "state = State(y_pos=1.0, y_vel=1.0)\n",
    "print(state)"
   ]
  },
  {
   "cell_type": "markdown",
   "metadata": {},
   "source": [
    "So, when does a bouncing ball jump? It starts by falling-- seems pretty continuous-- then hits the ground, then suddenly springs back up. That contact with the ground is a jump, a sudden switch in state. The ball's velocity was going down, now in a instant, it's going up.\n",
    "\n",
    "What might that look like in code? Lets also throw in a constant [restitution coefficient](https://en.wikipedia.org/wiki/Coefficient_of_restitution), so we can lose some energy as we bounce to make it feel a little more real."
   ]
  },
  {
   "cell_type": "code",
   "execution_count": 2,
   "metadata": {
    "execution": {
     "iopub.execute_input": "2024-01-17T00:43:56.155707Z",
     "iopub.status.busy": "2024-01-17T00:43:56.155519Z",
     "iopub.status.idle": "2024-01-17T00:43:56.158684Z",
     "shell.execute_reply": "2024-01-17T00:43:56.158270Z"
    }
   },
   "outputs": [
    {
     "name": "stdout",
     "output_type": "stream",
     "text": [
      "Before jumping:\tState(y_pos=1.0, y_vel=1.0)\n",
      "After jumping:\tState(y_pos=1.0, y_vel=-0.5)\n"
     ]
    }
   ],
   "source": [
    "def jump(state:State) -> State:\n",
    "    # reduce the velocity by multiplying it by a less-than-one restitution coefficient\n",
    "    # flip the direction by also multiplying by a negative\n",
    "    state.y_vel = -0.5 * state.y_vel\n",
    "    return state\n",
    "\n",
    "state = State(y_pos=1.0, y_vel=1.0)\n",
    "print(f\"Before jumping:\\t{state}\") # actually the old state\n",
    "state = jump(state) # pass-by-ref means this assignment is unneeded, but I think it helps illustrate\n",
    "print(f\"After jumping:\\t{state}\")"
   ]
  },
  {
   "cell_type": "markdown",
   "metadata": {},
   "source": [
    "\"Woah, slow down there cowboy,\" you say, in my head. \"How does the computer know when to trigger a jump?\"\n",
    "\n",
    "Ah! Right. If we flip the velocity before we hit the ground, we'll just go more up. That's not how gravity works. The gamers would be very mad at our lack of attention to realism in Ball Sim 2024[^2]. Well, we can just use another function to tell us if we should jump or not, call it uh, \n",
    "\n",
    "[^2]: Gonna need to workshop this title"
   ]
  },
  {
   "cell_type": "code",
   "execution_count": 3,
   "metadata": {
    "execution": {
     "iopub.execute_input": "2024-01-17T00:43:56.160657Z",
     "iopub.status.busy": "2024-01-17T00:43:56.160536Z",
     "iopub.status.idle": "2024-01-17T00:43:56.163829Z",
     "shell.execute_reply": "2024-01-17T00:43:56.163486Z"
    }
   },
   "outputs": [
    {
     "name": "stdout",
     "output_type": "stream",
     "text": [
      "Jump from State(y_pos=1.0, y_vel=-1)?\tFalse\n",
      "Jump from State(y_pos=0.0, y_vel=-1)?\tTrue\n",
      "Jump from State(y_pos=-0.5, y_vel=-1)?\tTrue\n"
     ]
    }
   ],
   "source": [
    "def jump_check(state:State) -> bool:\n",
    "    if state.y_pos <= 0 and state.y_vel < 0:\n",
    "        # collision detection? What's that? Everyone knows the ground is at position 0 :)\n",
    "        # hills, like birds, are not real\n",
    "        # anyway, we be jumpin if we hit the \"ground\" and we still have negative velocity\n",
    "        return True\n",
    "    else:\n",
    "        # otherwise keep flowing\n",
    "        return False\n",
    "\n",
    "air_state = State(y_pos=1.0, y_vel=-1)\n",
    "print(f\"Jump from {air_state}?\\t{jump_check(air_state)}\")\n",
    "\n",
    "ground_state = State(y_pos=0.0, y_vel=-1)\n",
    "print(f\"Jump from {ground_state}?\\t{jump_check(ground_state)}\")\n",
    "\n",
    "below_ground_state = State(y_pos=-0.5, y_vel=-1)\n",
    "print(f\"Jump from {below_ground_state}?\\t{jump_check(below_ground_state)}\")"
   ]
  },
  {
   "cell_type": "markdown",
   "metadata": {},
   "source": [
    "That covers jumps-- there's a function, `jump` to say \"this is how we do the instantaneous state change\" and another function `jump_check` that says \"it's time to jump\". Flows are similar! There's a function to run to say how we're flowing (`flow`), and a function to say if we should be flowing or not (`flow_check`). The... well, the check function gets a little silly with our ball example:"
   ]
  },
  {
   "cell_type": "code",
   "execution_count": 4,
   "metadata": {
    "execution": {
     "iopub.execute_input": "2024-01-17T00:43:56.165735Z",
     "iopub.status.busy": "2024-01-17T00:43:56.165601Z",
     "iopub.status.idle": "2024-01-17T00:43:56.168514Z",
     "shell.execute_reply": "2024-01-17T00:43:56.168200Z"
    }
   },
   "outputs": [
    {
     "name": "stdout",
     "output_type": "stream",
     "text": [
      "Flow from State(y_pos=1.0, y_vel=-1)?\tTrue\n",
      "Flow from State(y_pos=0.0, y_vel=-1)?\tTrue\n",
      "Flow from State(y_pos=-0.5, y_vel=-1)?\tTrue\n"
     ]
    }
   ],
   "source": [
    "def flow_check(state: State) -> bool:\n",
    "    \"\"\"This one is a little silly, I know\"\"\"\n",
    "    return True\n",
    "\n",
    "air_state = State(y_pos=1.0, y_vel=-1)\n",
    "print(f\"Flow from {air_state}?\\t{flow_check(air_state)}\")\n",
    "\n",
    "ground_state = State(y_pos=0.0, y_vel=-1)\n",
    "print(f\"Flow from {ground_state}?\\t{flow_check(ground_state)}\")\n",
    "\n",
    "below_ground_state = State(y_pos=-0.5, y_vel=-1)\n",
    "print(f\"Flow from {below_ground_state}?\\t{flow_check(below_ground_state)}\")"
   ]
  },
  {
   "cell_type": "markdown",
   "metadata": {},
   "source": [
    "I know. This feels like I'm pranking you. I'm not trying to. Sometimes, its just like this. Our system is so simple that it's _always_ flowing. Sure, it jumps sometimes, but that happens in a single instant, and gravity never stops, so. There are times in video games when we want to stop applying constant forces ([coyote time](https://gamerant.com/celeste-coyote-time-mechanic-platforming-impact-hidden-mechanics/), for example), so this is less silly in real life."
   ]
  },
  {
   "cell_type": "markdown",
   "metadata": {},
   "source": [
    "Now, to actually calculate flows... well, we're not gonna do it by hand. Remember that a flows are an ever changing, ever evolving thing over time, and math has a tool for that: a differential equation. Our flow needs to be a function that takes in our state and returns that state's derivative with respect to time.\n",
    "\n",
    "Ok, so, the derivative of position is the velocity, right? Velocity describes how position changes over time. The derivative of velocity is acceleration... which we'll pretend is a [negative constant](https://en.wikipedia.org/wiki/Gravitational_acceleration) thanks to gravity of 9.81."
   ]
  },
  {
   "cell_type": "code",
   "execution_count": 5,
   "metadata": {
    "execution": {
     "iopub.execute_input": "2024-01-17T00:43:56.170325Z",
     "iopub.status.busy": "2024-01-17T00:43:56.170190Z",
     "iopub.status.idle": "2024-01-17T00:43:56.173198Z",
     "shell.execute_reply": "2024-01-17T00:43:56.172909Z"
    }
   },
   "outputs": [
    {
     "name": "stdout",
     "output_type": "stream",
     "text": [
      "State(y_pos=1.0, y_vel=1.0) flows over time\n",
      "according to StateDerivative(derivative_position=1.0, derivative_velocity=-9.81)\n"
     ]
    }
   ],
   "source": [
    "from dataclasses import dataclass\n",
    "@dataclass\n",
    "class StateDerivative:\n",
    "    \"\"\" Using a separate data class to help identify when my data is a state\n",
    "        and when it's the derivative of a state.\n",
    "    \"\"\"\n",
    "    derivative_position: float\n",
    "    derivative_velocity: float\n",
    " \n",
    "def flow(state:State) -> StateDerivative:\n",
    "    \"\"\"The derivative of position is velocity.\n",
    "       The derivative of velocity is going to be negative acceleration from gravity\n",
    "    \"\"\"\n",
    "    return StateDerivative(\n",
    "        derivative_position=state.y_vel,\n",
    "        derivative_velocity=-9.81\n",
    "    )\n",
    "\n",
    "state = State(y_pos=1.0, y_vel=1.0)\n",
    "state_derivative = flow(state)\n",
    "print(f\"{state} flows over time\\naccording to {state_derivative}\")"
   ]
  },
  {
   "cell_type": "markdown",
   "metadata": {},
   "source": [
    "So we have a little system! Four equations that all have the following calling signatures:"
   ]
  },
  {
   "cell_type": "code",
   "execution_count": 6,
   "metadata": {
    "execution": {
     "iopub.execute_input": "2024-01-17T00:43:56.174800Z",
     "iopub.status.busy": "2024-01-17T00:43:56.174678Z",
     "iopub.status.idle": "2024-01-17T00:43:56.176975Z",
     "shell.execute_reply": "2024-01-17T00:43:56.176679Z"
    }
   },
   "outputs": [
    {
     "name": "stdout",
     "output_type": "stream",
     "text": [
      "Flow signature: (state: __main__.State) -> __main__.StateDerivative\n",
      "Flow check signature: (state: __main__.State) -> bool\n",
      "Jump signature: (state: __main__.State) -> __main__.State\n",
      "Jump check signature: (state: __main__.State) -> bool\n"
     ]
    }
   ],
   "source": [
    "import inspect # inspect is a standard library that lets us inspect our code at run time.\n",
    "               # there's a whole aside here about reflection and self-modifying code\n",
    "print(f\"Flow signature: {inspect.signature(flow)}\")\n",
    "print(f\"Flow check signature: {inspect.signature(flow_check)}\")\n",
    "print(f\"Jump signature: {inspect.signature(jump)}\")\n",
    "print(f\"Jump check signature: {inspect.signature(jump_check)}\")"
   ]
  },
  {
   "cell_type": "markdown",
   "metadata": {},
   "source": [
    "Ok, so `__main__` might be weird there for you, but hey, it's our functions![^3] Tada! That's a model baybee. You heard it here first folks, all action games are just four functions.\n",
    "\n",
    "[^3]: `__main__` is the \"main\" Python module, and the global namespace. When we write bare functions or classes, like say in a notebook or REPL, they live here. Otherwise, they live in the module you say they live in, which is typically the file you wrote them in [^4]\n",
    "\n",
    "[^4]: it is [more complicated than this](https://docs.python.org/3.11/tutorial/modules.html). Don't @ me."
   ]
  },
  {
   "cell_type": "markdown",
   "metadata": {},
   "source": [
    "### Simulations are how we get useful stuff from models\n",
    "\n",
    "But uh, how do we use these four equations? We want to simulate the model for a given start state. We can do this analytically, no machine learning or evolutionary algorithms here! Because we're coming up with simulation results via calculation, its sometimes said that we \"solve\" the model.\n",
    "\n",
    "Because a `flow` is a function that takes in a state and returns a derivative with respect to a single variable, time, it's an Ordinary Differential Equation, or ODE. This is a well known branch of mathematics, and there exist methods to solve for ODEs! If you give an ODE Solver a function like `flow`, a start time, a start state and some constraints like \"solve until `end_time`\", you can get the states (along with times) for a `flow` from the start time to end time. This is called the \"initial value problem\" (IVP).\n",
    "\n",
    "This post isn't going to go into writing your own ODE Solver[^5]. I just used `scipy`'s off the shelf one. I need to tweak the model a little bit. [The documentation](https://docs.scipy.org/doc/scipy/reference/generated/scipy.integrate.solve_ivp.html) says that (paraphrasing):  \n",
    "\n",
    "> The ODE function must only have two parameters: `t`, a floating point number for time and `y`, and \"array_like\" where each element correspond to state property. Also, the function needs to return an \"array_like\" of the same size as `y` where each element is `y[element]`'s derivative.\n",
    "\n",
    "Fine.\n",
    "\n",
    "[^5]: As always, everything is more complicated: \"solving\" for ODEs often means generating numeric approximations on how they evolve over time. We don't (usually) come up with a nice, closed solution. That's what I'm doing here. There are a bunch of interesting algorithms for doing this approximation, and in the future, I actually will end up talking about them and writing my own solver."
   ]
  },
  {
   "cell_type": "code",
   "execution_count": 7,
   "metadata": {
    "execution": {
     "iopub.execute_input": "2024-01-17T00:43:56.178573Z",
     "iopub.status.busy": "2024-01-17T00:43:56.178461Z",
     "iopub.status.idle": "2024-01-17T00:43:56.181418Z",
     "shell.execute_reply": "2024-01-17T00:43:56.181143Z"
    }
   },
   "outputs": [
    {
     "name": "stdout",
     "output_type": "stream",
     "text": [
      "State(y_pos=1.0, y_vel=1.0) flows over time\n",
      "according to StateDerivative(derivative_position=1.0, derivative_velocity=-9.81)\n"
     ]
    }
   ],
   "source": [
    "from typing import Tuple\n",
    "from collections import namedtuple\n",
    "\n",
    "# named tuples are tuples, but I can refer to each position by name\n",
    "# they're almost exactly like the dataclasses from before\n",
    "# this won't perfectly work, because the names will get stripped before the\n",
    "# flow function but it at least makes the constructor a little nicer\n",
    "State = namedtuple('State', ['y_pos', 'y_vel'])\n",
    "StateDerivative = namedtuple('StateDerivative', ['derivative_position', 'derivative_velocity'])\n",
    "\n",
    "def flow(time: float, state: Tuple[float, float]) -> Tuple[float, float]:\n",
    "    # state[0] is position and state[1] is velocity\n",
    "    return StateDerivative(\n",
    "         # remember the derivative of position is velocity, so the derivative of state[0] is state[1].\n",
    "         # Not the most intuitive\n",
    "        derivative_position=state[1],\n",
    "        derivative_velocity=-9.81\n",
    "    )\n",
    "\n",
    "state = State(y_pos=1.0, y_vel=1.0)\n",
    "state_derivative = flow(0.0, state) # t=0 is the canonical start time\n",
    "print(f\"{state} flows over time\\naccording to {state_derivative}\")"
   ]
  },
  {
   "cell_type": "markdown",
   "metadata": {},
   "source": [
    "And then to use this thing:"
   ]
  },
  {
   "cell_type": "code",
   "execution_count": 8,
   "metadata": {
    "execution": {
     "iopub.execute_input": "2024-01-17T00:43:56.182986Z",
     "iopub.status.busy": "2024-01-17T00:43:56.182870Z",
     "iopub.status.idle": "2024-01-17T00:43:56.363120Z",
     "shell.execute_reply": "2024-01-17T00:43:56.362857Z"
    }
   },
   "outputs": [
    {
     "name": "stdout",
     "output_type": "stream",
     "text": [
      "State at 0.0000:  ['2.0000', '0.0000']\n",
      "State at 0.0001:  ['2.0000', '-0.0010']\n",
      "State at 0.0011:  ['2.0000', '-0.0110']\n",
      "State at 0.0113:  ['1.9994', '-0.1109']\n",
      "State at 0.1132:  ['1.9372', '-1.1104']\n",
      "State at 1.0000:  ['-2.9050', '-9.8100']\n"
     ]
    }
   ],
   "source": [
    "from scipy import integrate\n",
    "# we need to provide a start time, an end time and a state to start from\n",
    "cur_state = State(y_pos=2.0, y_vel=0.0) # two, uh, units off the ground\n",
    "cur_time = 0.0 # start at the start\n",
    "end_time = 1.0 # and we'll go for uh. one. uh. time unit\n",
    "\n",
    "# the good stuff\n",
    "ode_sol = integrate.solve_ivp(\n",
    "    flow, # our flow function! It returns a derivative!\n",
    "    # the current time is the start time! Solve from right now until as far forward as we want to solve\n",
    "    (cur_time, end_time),\n",
    "    cur_state,\n",
    ")\n",
    "if ode_sol.status == -1:\n",
    "    print(f\"Oh, no, solver failed! {ode_sol.message}\")\n",
    "for time, state in zip(ode_sol.t, ode_sol.y.T):\n",
    "    # doing a little data translation (get the transpose [T] of the y values [aka state])\n",
    "    # pair them with a similarly lengthed iterable, t [aka times], using zip(...)\n",
    "    state_string_repr = [f\"{val:0.04f}\" for val in state] # some tricks for printing this more nicely\n",
    "                                                          # it won't hold up in a court of law\n",
    "    print(f\"State at {time:0.04f}:  {state_string_repr}\")"
   ]
  },
  {
   "cell_type": "markdown",
   "metadata": {},
   "source": [
    "Everything looks ok until we get to that last value. W... what happened there. I need to set some tolerances on my solver-- you can kinda see that it did a \"one, two, skip a few\" approach. We get a bunch of work before the first tenth of a time unit and then suddenly, we jump to the end of the solution.\n",
    "\n",
    "The reasons for this are... a lot, and based on how the underlying solver math works, which could be a fun topic for another day! Anyway, let's set the solver to work at a fixed time interval."
   ]
  },
  {
   "cell_type": "code",
   "execution_count": 9,
   "metadata": {
    "execution": {
     "iopub.execute_input": "2024-01-17T00:43:56.364517Z",
     "iopub.status.busy": "2024-01-17T00:43:56.364433Z",
     "iopub.status.idle": "2024-01-17T00:43:56.370364Z",
     "shell.execute_reply": "2024-01-17T00:43:56.370155Z"
    }
   },
   "outputs": [
    {
     "name": "stdout",
     "output_type": "stream",
     "text": [
      "State at 0.0000: ['2.0000', '0.0000']\n",
      "State at 0.0100: ['1.9995', '-0.0981']\n",
      "State at 0.0200: ['1.9980', '-0.1962']\n",
      "...\n",
      "State at 0.9800: ['-2.7108', '-9.6138']\n",
      "State at 0.9900: ['-2.8074', '-9.7119']\n",
      "State at 1.0000: ['-2.9050', '-9.8100']\n"
     ]
    }
   ],
   "source": [
    "from util.print import blog_print # homegrown hack for printing large amounts of data\n",
    "\n",
    "cur_state = State(y_pos=2.0, y_vel=0.0)\n",
    "cur_time = 0.0\n",
    "end_time = 1.0\n",
    "\n",
    "ode_sol = integrate.solve_ivp(\n",
    "    flow,\n",
    "    (cur_time, end_time),\n",
    "    cur_state,\n",
    "    # ✨ New! ✨ All points in the solution should only ever be a tenth of a second apart.\n",
    "    max_step=0.01,\n",
    "    # while we're here, let's set some tolerances\n",
    "    atol=1e-6, # stay within this number of decimal places\n",
    "    rtol=1e-6, # stay within this number of digits\n",
    ")\n",
    "if ode_sol.status == -1:\n",
    "    print(f\"Oh, no, solver failed! {ode_sol.message}\")\n",
    "\n",
    "# technically ✨ New! ✨\n",
    "# this is a utility function for me to only print out snippets of large amounts of\n",
    "# data so the blog's reading time doesn't increase with data I don't expect anyone\n",
    "# to actually read.\n",
    "# and yeah, the call site smells and this list allocation is not very nice to memory\n",
    "# but the gist is that the second arg is a function that takes items from the first arg\n",
    "# and turns them into something good for our eyes\n",
    "blog_print(\n",
    "    list(zip(ode_sol.t, ode_sol.y.T)),\n",
    "    lambda line: f\"State at {line[0]:0.04f}: {[f'{val:0.04f}' for val in line[1]]}\"\n",
    ")"
   ]
  },
  {
   "cell_type": "markdown",
   "metadata": {},
   "source": [
    "Well, call me silly. Turns out the solver was right the whole time-- still it's nice to be able to _see_ that.\n",
    "\n",
    "Well, this does highlight another problem-- our hight ended up being less than zero. But, that makes sense: we haven't told the solver when to stop. We know that we should stop flowing when `jump_check` is `true`, but our solver, if we only give it our `flow` function, doesn't know that. We can use an event function to help here.\n",
    "\n",
    "Event functions also take in the state and time, like `flow`, but return a single scalar. We can then ask the solver to do some extra work to figure out exactly at what time an event function returns 0, and we can ask for the solver to stop solving when this occurs. We'll stop solving when we're ready to jump! But, it means that our `jump_check` function also needs a little refactor to work like an event function:"
   ]
  },
  {
   "cell_type": "code",
   "execution_count": 10,
   "metadata": {
    "execution": {
     "iopub.execute_input": "2024-01-17T00:43:56.371553Z",
     "iopub.status.busy": "2024-01-17T00:43:56.371491Z",
     "iopub.status.idle": "2024-01-17T00:43:56.373738Z",
     "shell.execute_reply": "2024-01-17T00:43:56.373530Z"
    }
   },
   "outputs": [
    {
     "name": "stdout",
     "output_type": "stream",
     "text": [
      "Jump from State(y_pos=1.0, y_vel=-1)?\t1\n",
      "Jump from State(y_pos=0.0, y_vel=-1)?\t0\n",
      "Jump from State(y_pos=-0.5, y_vel=-1)?\t0\n"
     ]
    }
   ],
   "source": [
    "def jump_check(time: float, state:Tuple[float, float]) -> int:\n",
    "    if state[0] <= 0 and state[1] < 0:\n",
    "        # stop flowing when we're ready to jump-- it's a \"0 crossing\" of our flow system\n",
    "        return 0\n",
    "    else:\n",
    "        # otherwise keep flowing\n",
    "        return 1\n",
    "\n",
    "jump_check.terminal = True # you can assign attributes to functions in Python\n",
    "                           # it's not my favorite, but this is what scipy wants\n",
    "\n",
    "# same set of values to check as before, let's confirm the numbers do what we want.\n",
    "air_state = State(y_pos=1.0, y_vel=-1)\n",
    "print(f\"Jump from {air_state}?\\t{jump_check(0.0, air_state)}\")\n",
    "\n",
    "ground_state = State(y_pos=0.0, y_vel=-1)\n",
    "print(f\"Jump from {ground_state}?\\t{jump_check(0.0, ground_state)}\")\n",
    "\n",
    "below_ground_state = State(y_pos=-0.5, y_vel=-1)\n",
    "print(f\"Jump from {below_ground_state}?\\t{jump_check(0.0, below_ground_state)}\")"
   ]
  },
  {
   "cell_type": "markdown",
   "metadata": {},
   "source": [
    "Rad. And while we're here, lets update our other functions to have a consistent API. Sometimes getting an `int` and sometimes getting a `bool` is how programmers go crazy."
   ]
  },
  {
   "cell_type": "code",
   "execution_count": 11,
   "metadata": {
    "execution": {
     "iopub.execute_input": "2024-01-17T00:43:56.374952Z",
     "iopub.status.busy": "2024-01-17T00:43:56.374889Z",
     "iopub.status.idle": "2024-01-17T00:43:56.377112Z",
     "shell.execute_reply": "2024-01-17T00:43:56.376885Z"
    }
   },
   "outputs": [
    {
     "name": "stdout",
     "output_type": "stream",
     "text": [
      "Flow signature: (time: float, state: Tuple[float, float]) -> Tuple[float, float]\n",
      "Flow check signature: (time: float, state: Tuple[float, float]) -> int\n",
      "Jump signature: (time: float, state: Tuple[float, float]) -> Tuple[float, float]\n",
      "Jump check signature: (time: float, state: Tuple[float, float]) -> int\n"
     ]
    }
   ],
   "source": [
    "def flow_check(time: float, state:Tuple[float, float]) -> int:\n",
    "    # as before, we're always flowing\n",
    "    return 0\n",
    "\n",
    "def jump(time: float, state:Tuple[float, float]) -> Tuple[float, float]:\n",
    "    # tuples are immutable, so we gotta make a new one\n",
    "    # that's probably a thing to think about w.r.t. optimization\n",
    "    new_state = tuple([\n",
    "        state[0],\n",
    "        -0.5 * state[1]\n",
    "    ])\n",
    "    return new_state\n",
    "\n",
    "print(f\"Flow signature: {inspect.signature(flow)}\")\n",
    "print(f\"Flow check signature: {inspect.signature(flow_check)}\")\n",
    "print(f\"Jump signature: {inspect.signature(jump)}\")\n",
    "print(f\"Jump check signature: {inspect.signature(jump_check)}\")"
   ]
  },
  {
   "cell_type": "markdown",
   "metadata": {},
   "source": [
    "Ok, let's put it all together:"
   ]
  },
  {
   "cell_type": "code",
   "execution_count": 12,
   "metadata": {
    "execution": {
     "iopub.execute_input": "2024-01-17T00:43:56.378354Z",
     "iopub.status.busy": "2024-01-17T00:43:56.378293Z",
     "iopub.status.idle": "2024-01-17T00:43:56.386211Z",
     "shell.execute_reply": "2024-01-17T00:43:56.385994Z"
    }
   },
   "outputs": [
    {
     "name": "stdout",
     "output_type": "stream",
     "text": [
      "State at 0.0000: ['2.0000', '0.0000']\n",
      "State at 0.0100: ['1.9995', '-0.0981']\n",
      "State at 0.0200: ['1.9980', '-0.1962']\n",
      "...\n",
      "State at 0.9800: ['0.4912', '-0.1962']\n",
      "State at 0.9900: ['0.4888', '-0.2943']\n",
      "State at 1.0000: ['0.4853', '-0.3924']\n"
     ]
    }
   ],
   "source": [
    "from typing import List, Any, Callable\n",
    "from util.print import blog_print\n",
    "\n",
    "@dataclass\n",
    "class HybridSystem():\n",
    "    \"\"\" Collect all our functions into one structure for ease of being able to remember things later.\n",
    "    \"\"\"\n",
    "    flow: Callable\n",
    "    flow_check: Callable\n",
    "    jump: Callable\n",
    "    jump_check: Callable\n",
    "\n",
    "@dataclass\n",
    "class SystemParameters():\n",
    "    \"\"\" Setting up some stopping points: what our time interval to solve over should be, and the maximum\n",
    "        number of jumps we want to have before we call it quits.\n",
    "        Should probably just be an attribute of the hybrid system up there\n",
    "    \"\"\"\n",
    "    start_time: float\n",
    "    end_time: float\n",
    "    max_jumps: int\n",
    "\n",
    "def solve_system(system:HybridSystem, params:SystemParameters, start_state:State) -> List[Any]:\n",
    "    solution:List[Any] = [] # gradual typing is neat!\n",
    "    cur_time = params.start_time\n",
    "    number_of_jumps = 0\n",
    "    state = start_state\n",
    "\n",
    "    # before our end time and the maximum number of jumps have happened...\n",
    "    while (cur_time < params.end_time and number_of_jumps < params.max_jumps):\n",
    "        # are we in a state where we should flow?\n",
    "        if(system.flow_check(cur_time, state) == 0):\n",
    "            # solve for the IVP problem until an event function crosses 0\n",
    "            ode_sol = integrate.solve_ivp(\n",
    "                system.flow,\n",
    "                (cur_time, params.end_time),\n",
    "                state,\n",
    "                # ✨ New! ✨\n",
    "                events=[system.jump_check],\n",
    "                max_step=0.01,\n",
    "                atol=1e-6,\n",
    "                rtol=1e-6\n",
    "            )\n",
    "            if ode_sol.status == -1:\n",
    "                print(f\"Solver failed with message: {ode_sol.message}\")\n",
    "                return solution\n",
    "            # append what we got to our running solution\n",
    "            for time, state in zip(ode_sol.t, ode_sol.y.T):\n",
    "                solution.append((time, state))\n",
    "\n",
    "            # the last element in the solution is our new current state\n",
    "            cur_time, state = solution[-1] \n",
    "\n",
    "        # if we're not flowing, we, by definition, must be jumping. In practice, we want some\n",
    "        # stronger asserts here to prevent infinite loops\n",
    "        if (system.jump_check(cur_time, state) == 0):\n",
    "            # update our state (but not time!)\n",
    "            state = jump(cur_time, state)\n",
    "            number_of_jumps += 1 #and remember that we did a jump\n",
    "\n",
    "    return solution\n",
    "\n",
    "bouncing_ball_hybrid_system = HybridSystem(flow, flow_check, jump, jump_check)\n",
    "bouncing_ball_params = SystemParameters(\n",
    "    start_time=0.0,\n",
    "    end_time=1.0,\n",
    "    max_jumps=5\n",
    ")\n",
    "start_state = State(y_pos=2.0, y_vel=0.0)\n",
    "solution = solve_system(bouncing_ball_hybrid_system, bouncing_ball_params, start_state)\n",
    "blog_print(\n",
    "    solution,\n",
    "    lambda line: f\"State at {line[0]:0.04f}: {[f'{val:0.04f}' for val in line[1]]}\"\n",
    ")"
   ]
  },
  {
   "cell_type": "markdown",
   "metadata": {},
   "source": [
    "Well, that looks right... at least the hight isn't negative anymore. But, is it? We could try and read the data and figure out exactly what happened, but it's probably easier to just graph it.\n",
    "\n",
    "Instead of outputting this \"nicely formatted\" string to the console, a few quick modifications can have us write it to a `.csv` file that we can read in and chart later with `matplotlib` [^6].\n",
    "\n",
    "[^6]: I'm skipping the graphing code for now-- it's a lot of boilerplate, and I want to someday I want to have a nicer publishing flow. That means it's future content, baybee-- I can post about it!"
   ]
  },
  {
   "cell_type": "code",
   "execution_count": 13,
   "metadata": {
    "execution": {
     "iopub.execute_input": "2024-01-17T00:43:56.387354Z",
     "iopub.status.busy": "2024-01-17T00:43:56.387292Z",
     "iopub.status.idle": "2024-01-17T00:43:56.394768Z",
     "shell.execute_reply": "2024-01-17T00:43:56.394568Z"
    }
   },
   "outputs": [],
   "source": [
    "import csv\n",
    "\n",
    "bouncing_ball_hybrid_system = HybridSystem(flow, flow_check, jump, jump_check)\n",
    "bouncing_ball_params = SystemParameters(0.0, 1.0, 5)\n",
    "start_state = State(y_pos=2.0, y_vel=0.0)\n",
    "solution = solve_system(bouncing_ball_hybrid_system, bouncing_ball_params, start_state)\n",
    "\n",
    "# ✨ New! ✨ we want to write out to a csv rather than standard out\n",
    "# revealing a little bit of how I write here, don't look too hard at this file path\n",
    "with open(\"../tmp/bouncing_balls_output_data.csv\", \"w\") as f:\n",
    "    writer = csv.DictWriter(f=f, fieldnames=[\"time\", \"y_pos\", \"y_vel\"])\n",
    "    writer.writeheader()\n",
    "    for time, state in solution:\n",
    "        writer.writerow({\n",
    "            \"time\": time,\n",
    "            \"y_pos\": state[0], # unfortunately, all our nice names have been stripped,\n",
    "            \"y_vel\": state[1]  # and we need to remember the ordering\n",
    "        })\n"
   ]
  },
  {
   "cell_type": "code",
   "execution_count": 14,
   "metadata": {
    "execution": {
     "iopub.execute_input": "2024-01-17T00:43:56.395937Z",
     "iopub.status.busy": "2024-01-17T00:43:56.395873Z",
     "iopub.status.idle": "2024-01-17T00:43:56.705491Z",
     "shell.execute_reply": "2024-01-17T00:43:56.704881Z"
    },
    "tags": [
     "ignore_cell"
    ]
   },
   "outputs": [
    {
     "data": {
      "image/png": "[encoded data removed]",
      "text/plain": [
       "<Figure size 640x480 with 1 Axes>"
      ]
     },
     "metadata": {},
     "output_type": "display_data"
    }
   ],
   "source": [
    "from util.columnar import Columnar\n",
    "from util.palette import blog_palette\n",
    "from util.graph import Graph\n",
    "from pathlib import Path\n",
    "from dataclasses import dataclass, field\n",
    "\n",
    "@dataclass\n",
    "class SimData(Columnar):\n",
    "    \"\"\" Transforming our data a little bit. Matplotlib plays nicer with iterables\n",
    "        for each dimension, rather than one iterable where each element is an array\n",
    "    \"\"\"\n",
    "    time: List[float]=field(default_factory=list)\n",
    "    y_pos: List[float]=field(default_factory=list)\n",
    "    y_vel: List[float]=field(default_factory=list)\n",
    "\n",
    "def plot_sim_data(data_file, graph_file):\n",
    "    data = SimData.from_csv(\n",
    "        Path(data_file),\n",
    "    )\n",
    "\n",
    "    graph = Graph(\n",
    "        background=blog_palette[\"background\"],\n",
    "        foreground=blog_palette[\"foreground\"],\n",
    "        title=\"Bouncing Ball Simulation\",\n",
    "        figures=[(1,1,1)]\n",
    "    )\n",
    "    graph.set_axis_labels(0, \"Time\", \"Height\")\n",
    "    plot_ids = graph.plot(0, data.time, data.y_pos, \"ball-height\")\n",
    "    for id in plot_ids:\n",
    "        graph.add_style(\n",
    "            id,\n",
    "            \"\"\".{style_name}{{\n",
    "                stroke:{stroke_color};\n",
    "                stroke-width:1.5;\n",
    "                stroke-linecap:square;\n",
    "                fill:{fill_color};\n",
    "                stroke-dasharray:140%;\n",
    "                stroke-dashoffset:140%;\n",
    "                animation-name:ball-height-anim;\n",
    "                animation-duration:5s;\n",
    "                animation-timing-function:linear;\n",
    "                animation-fill-mode:forwards;\n",
    "                animation-iteration-count: 1;\n",
    "            }}\n",
    "            @keyframes ball-height-anim{{\n",
    "                0%{{\n",
    "                    stroke-dashoffset:140%;\n",
    "                }}\n",
    "                100%{{\n",
    "                    stroke-dashoffset:0%;\n",
    "                }}\n",
    "            }}\n",
    "            \"\"\",\n",
    "            {\n",
    "                \"style_name\": \"animated_path\",\n",
    "                \"stroke_color\": blog_palette[\"foreground\"],\n",
    "                \"fill_color\": blog_palette[\"background\"]\n",
    "            }\n",
    "        )\n",
    "    graph.save(Path(graph_file))\n",
    "    \n",
    "\n",
    "plot_sim_data(\"../tmp/bouncing_balls_output_data.csv\", \"../content/images/guesswork_bouncing_balls.svg\")"
   ]
  },
  {
   "cell_type": "markdown",
   "metadata": {},
   "source": [
    "![An animated graph of how the velocity of a bouncing ball changes over time-- it bounces less and less high! Woo!]({static}/images/guesswork_bouncing_balls.svg)\n",
    "\n",
    "Hey, this looks pretty good! Alright, these are the basics, and they tell us how balls bounce So, [how does Flappy Bird... flap]({filename}/content/flapping-birds.md)?"
   ]
  },
  {
   "cell_type": "markdown",
   "metadata": {},
   "source": []
  }
 ],
 "metadata": {
  "kernelspec": {
   "display_name": ".venv",
   "language": "python",
   "name": "python3"
  },
  "language_info": {
   "codemirror_mode": {
    "name": "ipython",
    "version": 3
   },
   "file_extension": ".py",
   "mimetype": "text/x-python",
   "name": "python",
   "nbconvert_exporter": "python",
   "pygments_lexer": "ipython3",
   "version": "3.11.4"
  }
 },
 "nbformat": 4,
 "nbformat_minor": 2
}
